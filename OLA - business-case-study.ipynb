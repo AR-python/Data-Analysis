{
 "cells": [
  {
   "cell_type": "markdown",
   "id": "e9734a2a",
   "metadata": {},
   "source": [
    "# Problem Statement\n",
    "\n",
    "Recruiting and retaining drivers is seen by industry watchers as a tough battle for Ola. Churn among drivers is high and it’s very easy for drivers to stop working for the service on the fly or jump to Uber depending on the rates.\n",
    "\n",
    "As the companies get bigger, the high churn could become a bigger problem. To find new drivers, Ola is casting a wide net, including people who don’t have cars for jobs. But this acquisition is really costly. Losing drivers frequently impacts the morale of the organization and acquiring new drivers is more expensive than retaining existing ones.\n",
    "\n",
    "You are working as a data scientist with the Analytics Department of Ola, focused on driver team attrition. You are provided with the monthly information for a segment of drivers for 2019 and 2020 and tasked to predict whether a driver will be leaving the company or not based on their attributes like\n",
    "\n",
    "- Demographics (city, age, gender etc.)\n",
    "- Tenure information (joining date, Last Date)\n",
    "- Historical data regarding the performance of the driver (Quarterly rating, Monthly business acquired, grade, Income)"
   ]
  },
  {
   "cell_type": "markdown",
   "id": "3549d9b5",
   "metadata": {},
   "source": [
    "### Column Profiling:\n",
    "\n",
    "- MMMM-YY : Reporting Date (Monthly)\n",
    "- Driver_ID : Unique id for drivers\n",
    "- Age : Age of the driver\n",
    "- Gender : Gender of the driver – Male : 0, Female: 1\n",
    "- City : City Code of the driver\n",
    "- Education_Level : Education level – 0 for 10+ ,1 for 12+ ,2 for graduate\n",
    "- Income : Monthly average Income of the driver\n",
    "- Date Of Joining : Joining date for the driver\n",
    "- LastWorkingDate : Last date of working for the driver\n",
    "- Joining Designation : Designation of the driver at the time of joining\n",
    "- Grade : Grade of the driver at the time of reporting\n",
    "- Total Business Value : The total business value acquired by the driver in a month (negative business indicates cancellation/refund or car EMI adjustments)\n",
    "- Quarterly Rating : Quarterly rating of the driver: 1,2,3,4,5 (higher is better)"
   ]
  },
  {
   "cell_type": "markdown",
   "id": "93297d4a",
   "metadata": {},
   "source": [
    "### Concepts Tested:\n",
    "\n",
    "- Ensemble Learning- Bagging\n",
    "- Ensemble Learning- Boosting\n",
    "- KNN Imputation of Missing Values\n",
    "- Working with an imbalanced dataset"
   ]
  },
  {
   "cell_type": "markdown",
   "id": "7dd84372",
   "metadata": {},
   "source": [
    "### What \"good\" looks like:\n",
    "\n",
    "- Import the dataset and do usual exploratory analysis steps like checking the structure & characteristics of the dataset.\n",
    "- Convert date-like features to their respective data type\n",
    "- Check for missing values and Prepare data for KNN Imputation\n",
    "1. You may consider only numerical features for this purpose\n",
    "- Aggregate data in order to remove multiple occurrences of same driver data (We did something similar in Delhivery business Case)\n",
    "1. You can start from storing unique Driver IDs in an empty dataframe and then bring all the features at same level (Groupby Driver ID)\n",
    "- \n",
    "#### Feature Engineering Steps:\n",
    "\n",
    "1. Create a column which tells whether the quarterly rating has increased for that driver - for those whose quarterly rating has increased we assign the value 1\n",
    "2. Target variable creation: Create a column called target which tells whether the driver has left the company- driver whose last working day is present will have the value 1\n",
    "3. Create a column which tells whether the monthly income has increased for that driver - for those whose monthly income has increased we assign the value 1\n",
    "\n",
    "- Statistical summary of the derived dataset\n",
    "- Check correlation among independent variables and how they interact with each other\n",
    "- One hot encoding of the categorical variable\n",
    "- Class Imbalance Treatment\n",
    "- Standardization of training data\n",
    "- Using Ensemble learning - Bagging, Boosting methods with some hyper-parameter tuning\n",
    "- Results Evaluation:\n",
    " 1. Classification Report\n",
    " 2. ROC AUC curve\n",
    "- Provide actionable Insights & Recommendations"
   ]
  },
  {
   "cell_type": "markdown",
   "id": "dcbd8492",
   "metadata": {},
   "source": [
    "### Evaluation Criteria (100 Points):\n",
    "\n",
    "#### Define Problem Statement and perform Exploratory Data Analysis (10 points)\n",
    "- Definition of problem (as per given problem statement with additional views)\n",
    "- Observations on shape of data, data types of all the attributes, conversion of categorical attributes to 'category' (If required), missing value detection, statistical summary.\n",
    "- Univariate Analysis (distribution plots of all the continuous variable(s) barplots/countplots of all the categorical variables)\n",
    "- Bivariate Analysis (Relationships between important variables)\n",
    "- Illustrate the insights based on EDA\n",
    "- Comments on range of attributes, outliers of various attributes\n",
    "- Comments on the distribution of the variables and relationship between them\n",
    "- Comments for each univariate and bivariate plots\n",
    "#### Data Preprocessing (50 Points)\n",
    "- KNN Imputation\n",
    "- Feature Engineering\n",
    "- Class Imbalance treatment\n",
    "- Standardization\n",
    "- Encoding\n",
    "#### Model building (20 Points)\n",
    "- 1 Ensemble - Bagging Algorithm\n",
    "- 1 Ensemble - Boosting Algorithm\n",
    "#### Results Evaluation (10 Points)\n",
    "- ROC AUC Curve & comments\n",
    "- Classification Report (Confusion Matrix etc)\n",
    "#### Actionable Insights & Recommendations (10 Points)"
   ]
  },
  {
   "cell_type": "markdown",
   "id": "63177423",
   "metadata": {},
   "source": [
    "### Submission Process:\n",
    "\n",
    "- Type your insights and recommendations in the text editor.\n",
    "- Convert your jupyter notebook into PDF (Save as PDF using Chrome browser’s Print command), upload it in your Google Drive (set the permission to allow public access), and paste that link in the text editor.\n",
    "- Optionally, you may add images/graphs in the text editor by taking screenshots or saving matplotlib graphs using plt.savefig(...)."
   ]
  },
  {
   "cell_type": "code",
   "execution_count": 2,
   "id": "126bed44",
   "metadata": {},
   "outputs": [],
   "source": [
    "import pandas as pd\n",
    "import numpy as np\n",
    "import matplotlib.pyplot as plt\n",
    "import seaborn as sns"
   ]
  },
  {
   "cell_type": "code",
   "execution_count": 493,
   "id": "d9b6a716",
   "metadata": {},
   "outputs": [
    {
     "data": {
      "text/html": [
       "<div>\n",
       "<style scoped>\n",
       "    .dataframe tbody tr th:only-of-type {\n",
       "        vertical-align: middle;\n",
       "    }\n",
       "\n",
       "    .dataframe tbody tr th {\n",
       "        vertical-align: top;\n",
       "    }\n",
       "\n",
       "    .dataframe thead th {\n",
       "        text-align: right;\n",
       "    }\n",
       "</style>\n",
       "<table border=\"1\" class=\"dataframe\">\n",
       "  <thead>\n",
       "    <tr style=\"text-align: right;\">\n",
       "      <th></th>\n",
       "      <th>Unnamed: 0</th>\n",
       "      <th>MMM-YY</th>\n",
       "      <th>Driver_ID</th>\n",
       "      <th>Age</th>\n",
       "      <th>Gender</th>\n",
       "      <th>City</th>\n",
       "      <th>Education_Level</th>\n",
       "      <th>Income</th>\n",
       "      <th>Dateofjoining</th>\n",
       "      <th>LastWorkingDate</th>\n",
       "      <th>Joining Designation</th>\n",
       "      <th>Grade</th>\n",
       "      <th>Total Business Value</th>\n",
       "      <th>Quarterly Rating</th>\n",
       "    </tr>\n",
       "  </thead>\n",
       "  <tbody>\n",
       "    <tr>\n",
       "      <th>0</th>\n",
       "      <td>0</td>\n",
       "      <td>01/01/19</td>\n",
       "      <td>1</td>\n",
       "      <td>28.0</td>\n",
       "      <td>0.0</td>\n",
       "      <td>C23</td>\n",
       "      <td>2</td>\n",
       "      <td>57387</td>\n",
       "      <td>24/12/18</td>\n",
       "      <td>NaN</td>\n",
       "      <td>1</td>\n",
       "      <td>1</td>\n",
       "      <td>2381060</td>\n",
       "      <td>2</td>\n",
       "    </tr>\n",
       "    <tr>\n",
       "      <th>1</th>\n",
       "      <td>1</td>\n",
       "      <td>02/01/19</td>\n",
       "      <td>1</td>\n",
       "      <td>28.0</td>\n",
       "      <td>0.0</td>\n",
       "      <td>C23</td>\n",
       "      <td>2</td>\n",
       "      <td>57387</td>\n",
       "      <td>24/12/18</td>\n",
       "      <td>NaN</td>\n",
       "      <td>1</td>\n",
       "      <td>1</td>\n",
       "      <td>-665480</td>\n",
       "      <td>2</td>\n",
       "    </tr>\n",
       "    <tr>\n",
       "      <th>2</th>\n",
       "      <td>2</td>\n",
       "      <td>03/01/19</td>\n",
       "      <td>1</td>\n",
       "      <td>28.0</td>\n",
       "      <td>0.0</td>\n",
       "      <td>C23</td>\n",
       "      <td>2</td>\n",
       "      <td>57387</td>\n",
       "      <td>24/12/18</td>\n",
       "      <td>03/11/19</td>\n",
       "      <td>1</td>\n",
       "      <td>1</td>\n",
       "      <td>0</td>\n",
       "      <td>2</td>\n",
       "    </tr>\n",
       "    <tr>\n",
       "      <th>3</th>\n",
       "      <td>3</td>\n",
       "      <td>11/01/20</td>\n",
       "      <td>2</td>\n",
       "      <td>31.0</td>\n",
       "      <td>0.0</td>\n",
       "      <td>C7</td>\n",
       "      <td>2</td>\n",
       "      <td>67016</td>\n",
       "      <td>11/06/20</td>\n",
       "      <td>NaN</td>\n",
       "      <td>2</td>\n",
       "      <td>2</td>\n",
       "      <td>0</td>\n",
       "      <td>1</td>\n",
       "    </tr>\n",
       "    <tr>\n",
       "      <th>4</th>\n",
       "      <td>4</td>\n",
       "      <td>12/01/20</td>\n",
       "      <td>2</td>\n",
       "      <td>31.0</td>\n",
       "      <td>0.0</td>\n",
       "      <td>C7</td>\n",
       "      <td>2</td>\n",
       "      <td>67016</td>\n",
       "      <td>11/06/20</td>\n",
       "      <td>NaN</td>\n",
       "      <td>2</td>\n",
       "      <td>2</td>\n",
       "      <td>0</td>\n",
       "      <td>1</td>\n",
       "    </tr>\n",
       "    <tr>\n",
       "      <th>...</th>\n",
       "      <td>...</td>\n",
       "      <td>...</td>\n",
       "      <td>...</td>\n",
       "      <td>...</td>\n",
       "      <td>...</td>\n",
       "      <td>...</td>\n",
       "      <td>...</td>\n",
       "      <td>...</td>\n",
       "      <td>...</td>\n",
       "      <td>...</td>\n",
       "      <td>...</td>\n",
       "      <td>...</td>\n",
       "      <td>...</td>\n",
       "      <td>...</td>\n",
       "    </tr>\n",
       "    <tr>\n",
       "      <th>19099</th>\n",
       "      <td>19099</td>\n",
       "      <td>08/01/20</td>\n",
       "      <td>2788</td>\n",
       "      <td>30.0</td>\n",
       "      <td>0.0</td>\n",
       "      <td>C27</td>\n",
       "      <td>2</td>\n",
       "      <td>70254</td>\n",
       "      <td>06/08/20</td>\n",
       "      <td>NaN</td>\n",
       "      <td>2</td>\n",
       "      <td>2</td>\n",
       "      <td>740280</td>\n",
       "      <td>3</td>\n",
       "    </tr>\n",
       "    <tr>\n",
       "      <th>19100</th>\n",
       "      <td>19100</td>\n",
       "      <td>09/01/20</td>\n",
       "      <td>2788</td>\n",
       "      <td>30.0</td>\n",
       "      <td>0.0</td>\n",
       "      <td>C27</td>\n",
       "      <td>2</td>\n",
       "      <td>70254</td>\n",
       "      <td>06/08/20</td>\n",
       "      <td>NaN</td>\n",
       "      <td>2</td>\n",
       "      <td>2</td>\n",
       "      <td>448370</td>\n",
       "      <td>3</td>\n",
       "    </tr>\n",
       "    <tr>\n",
       "      <th>19101</th>\n",
       "      <td>19101</td>\n",
       "      <td>10/01/20</td>\n",
       "      <td>2788</td>\n",
       "      <td>30.0</td>\n",
       "      <td>0.0</td>\n",
       "      <td>C27</td>\n",
       "      <td>2</td>\n",
       "      <td>70254</td>\n",
       "      <td>06/08/20</td>\n",
       "      <td>NaN</td>\n",
       "      <td>2</td>\n",
       "      <td>2</td>\n",
       "      <td>0</td>\n",
       "      <td>2</td>\n",
       "    </tr>\n",
       "    <tr>\n",
       "      <th>19102</th>\n",
       "      <td>19102</td>\n",
       "      <td>11/01/20</td>\n",
       "      <td>2788</td>\n",
       "      <td>30.0</td>\n",
       "      <td>0.0</td>\n",
       "      <td>C27</td>\n",
       "      <td>2</td>\n",
       "      <td>70254</td>\n",
       "      <td>06/08/20</td>\n",
       "      <td>NaN</td>\n",
       "      <td>2</td>\n",
       "      <td>2</td>\n",
       "      <td>200420</td>\n",
       "      <td>2</td>\n",
       "    </tr>\n",
       "    <tr>\n",
       "      <th>19103</th>\n",
       "      <td>19103</td>\n",
       "      <td>12/01/20</td>\n",
       "      <td>2788</td>\n",
       "      <td>30.0</td>\n",
       "      <td>0.0</td>\n",
       "      <td>C27</td>\n",
       "      <td>2</td>\n",
       "      <td>70254</td>\n",
       "      <td>06/08/20</td>\n",
       "      <td>NaN</td>\n",
       "      <td>2</td>\n",
       "      <td>2</td>\n",
       "      <td>411480</td>\n",
       "      <td>2</td>\n",
       "    </tr>\n",
       "  </tbody>\n",
       "</table>\n",
       "<p>19104 rows × 14 columns</p>\n",
       "</div>"
      ],
      "text/plain": [
       "       Unnamed: 0    MMM-YY  Driver_ID   Age  Gender City  Education_Level  \\\n",
       "0               0  01/01/19          1  28.0     0.0  C23                2   \n",
       "1               1  02/01/19          1  28.0     0.0  C23                2   \n",
       "2               2  03/01/19          1  28.0     0.0  C23                2   \n",
       "3               3  11/01/20          2  31.0     0.0   C7                2   \n",
       "4               4  12/01/20          2  31.0     0.0   C7                2   \n",
       "...           ...       ...        ...   ...     ...  ...              ...   \n",
       "19099       19099  08/01/20       2788  30.0     0.0  C27                2   \n",
       "19100       19100  09/01/20       2788  30.0     0.0  C27                2   \n",
       "19101       19101  10/01/20       2788  30.0     0.0  C27                2   \n",
       "19102       19102  11/01/20       2788  30.0     0.0  C27                2   \n",
       "19103       19103  12/01/20       2788  30.0     0.0  C27                2   \n",
       "\n",
       "       Income Dateofjoining LastWorkingDate  Joining Designation  Grade  \\\n",
       "0       57387      24/12/18             NaN                    1      1   \n",
       "1       57387      24/12/18             NaN                    1      1   \n",
       "2       57387      24/12/18        03/11/19                    1      1   \n",
       "3       67016      11/06/20             NaN                    2      2   \n",
       "4       67016      11/06/20             NaN                    2      2   \n",
       "...       ...           ...             ...                  ...    ...   \n",
       "19099   70254      06/08/20             NaN                    2      2   \n",
       "19100   70254      06/08/20             NaN                    2      2   \n",
       "19101   70254      06/08/20             NaN                    2      2   \n",
       "19102   70254      06/08/20             NaN                    2      2   \n",
       "19103   70254      06/08/20             NaN                    2      2   \n",
       "\n",
       "       Total Business Value  Quarterly Rating  \n",
       "0                   2381060                 2  \n",
       "1                   -665480                 2  \n",
       "2                         0                 2  \n",
       "3                         0                 1  \n",
       "4                         0                 1  \n",
       "...                     ...               ...  \n",
       "19099                740280                 3  \n",
       "19100                448370                 3  \n",
       "19101                     0                 2  \n",
       "19102                200420                 2  \n",
       "19103                411480                 2  \n",
       "\n",
       "[19104 rows x 14 columns]"
      ]
     },
     "execution_count": 493,
     "metadata": {},
     "output_type": "execute_result"
    }
   ],
   "source": [
    "df = pd.read_csv('ola_driver_scaler.csv')\n",
    "df"
   ]
  },
  {
   "cell_type": "code",
   "execution_count": 494,
   "id": "57ce3c76",
   "metadata": {},
   "outputs": [],
   "source": [
    "df = df.drop(columns='Unnamed: 0')"
   ]
  },
  {
   "cell_type": "code",
   "execution_count": 495,
   "id": "2b2cd37d",
   "metadata": {},
   "outputs": [
    {
     "name": "stdout",
     "output_type": "stream",
     "text": [
      "<class 'pandas.core.frame.DataFrame'>\n",
      "RangeIndex: 19104 entries, 0 to 19103\n",
      "Data columns (total 13 columns):\n",
      " #   Column                Non-Null Count  Dtype  \n",
      "---  ------                --------------  -----  \n",
      " 0   MMM-YY                19104 non-null  object \n",
      " 1   Driver_ID             19104 non-null  int64  \n",
      " 2   Age                   19043 non-null  float64\n",
      " 3   Gender                19052 non-null  float64\n",
      " 4   City                  19104 non-null  object \n",
      " 5   Education_Level       19104 non-null  int64  \n",
      " 6   Income                19104 non-null  int64  \n",
      " 7   Dateofjoining         19104 non-null  object \n",
      " 8   LastWorkingDate       1616 non-null   object \n",
      " 9   Joining Designation   19104 non-null  int64  \n",
      " 10  Grade                 19104 non-null  int64  \n",
      " 11  Total Business Value  19104 non-null  int64  \n",
      " 12  Quarterly Rating      19104 non-null  int64  \n",
      "dtypes: float64(2), int64(7), object(4)\n",
      "memory usage: 1.9+ MB\n"
     ]
    }
   ],
   "source": [
    "df.info()"
   ]
  },
  {
   "cell_type": "code",
   "execution_count": 496,
   "id": "eeea97b7",
   "metadata": {},
   "outputs": [
    {
     "data": {
      "text/plain": [
       "0       2019-01-01\n",
       "1       2019-02-01\n",
       "2       2019-03-01\n",
       "3       2020-11-01\n",
       "4       2020-12-01\n",
       "           ...    \n",
       "19099   2020-08-01\n",
       "19100   2020-09-01\n",
       "19101   2020-10-01\n",
       "19102   2020-11-01\n",
       "19103   2020-12-01\n",
       "Name: MMM-YY, Length: 19104, dtype: datetime64[ns]"
      ]
     },
     "execution_count": 496,
     "metadata": {},
     "output_type": "execute_result"
    }
   ],
   "source": [
    "##Converting 'MMM-YY' feature to datetime type\n",
    "df['MMM-YY'] = pd.to_datetime(df['MMM-YY'])\n",
    "df['MMM-YY']"
   ]
  },
  {
   "cell_type": "code",
   "execution_count": 497,
   "id": "b10ee05f",
   "metadata": {},
   "outputs": [],
   "source": [
    "##Converting 'Dateofjoining' feature to datetime type\n",
    "df['Dateofjoining'] = pd.to_datetime(df['Dateofjoining'])\n",
    "##Converting 'LastWorkingDate' feature to datetime type\n",
    "df['LastWorkingDate'] = pd.to_datetime(df['LastWorkingDate'])"
   ]
  },
  {
   "cell_type": "code",
   "execution_count": 498,
   "id": "24582540",
   "metadata": {},
   "outputs": [
    {
     "name": "stdout",
     "output_type": "stream",
     "text": [
      "<class 'pandas.core.frame.DataFrame'>\n",
      "RangeIndex: 19104 entries, 0 to 19103\n",
      "Data columns (total 13 columns):\n",
      " #   Column                Non-Null Count  Dtype         \n",
      "---  ------                --------------  -----         \n",
      " 0   MMM-YY                19104 non-null  datetime64[ns]\n",
      " 1   Driver_ID             19104 non-null  int64         \n",
      " 2   Age                   19043 non-null  float64       \n",
      " 3   Gender                19052 non-null  float64       \n",
      " 4   City                  19104 non-null  object        \n",
      " 5   Education_Level       19104 non-null  int64         \n",
      " 6   Income                19104 non-null  int64         \n",
      " 7   Dateofjoining         19104 non-null  datetime64[ns]\n",
      " 8   LastWorkingDate       1616 non-null   datetime64[ns]\n",
      " 9   Joining Designation   19104 non-null  int64         \n",
      " 10  Grade                 19104 non-null  int64         \n",
      " 11  Total Business Value  19104 non-null  int64         \n",
      " 12  Quarterly Rating      19104 non-null  int64         \n",
      "dtypes: datetime64[ns](3), float64(2), int64(7), object(1)\n",
      "memory usage: 1.9+ MB\n"
     ]
    }
   ],
   "source": [
    "df.info()"
   ]
  },
  {
   "cell_type": "code",
   "execution_count": 499,
   "id": "1ccd7a88",
   "metadata": {},
   "outputs": [
    {
     "data": {
      "text/plain": [
       "(19104, 13)"
      ]
     },
     "execution_count": 499,
     "metadata": {},
     "output_type": "execute_result"
    }
   ],
   "source": [
    "## data shape\n",
    "df.shape"
   ]
  },
  {
   "cell_type": "markdown",
   "id": "7ca0c504",
   "metadata": {},
   "source": [
    "### Imputation of missing data\n"
   ]
  },
  {
   "cell_type": "code",
   "execution_count": 500,
   "id": "95efb902",
   "metadata": {},
   "outputs": [
    {
     "data": {
      "text/plain": [
       "MMM-YY                      0\n",
       "Driver_ID                   0\n",
       "Age                        61\n",
       "Gender                     52\n",
       "City                        0\n",
       "Education_Level             0\n",
       "Income                      0\n",
       "Dateofjoining               0\n",
       "LastWorkingDate         17488\n",
       "Joining Designation         0\n",
       "Grade                       0\n",
       "Total Business Value        0\n",
       "Quarterly Rating            0\n",
       "dtype: int64"
      ]
     },
     "execution_count": 500,
     "metadata": {},
     "output_type": "execute_result"
    }
   ],
   "source": [
    "## number of rows having missing values in each columns\n",
    "df.isnull().sum()"
   ]
  },
  {
   "cell_type": "code",
   "execution_count": 501,
   "id": "3c81d17b",
   "metadata": {},
   "outputs": [
    {
     "data": {
      "text/plain": [
       "MMM-YY                   0.000000\n",
       "Driver_ID                0.000000\n",
       "Age                      0.319305\n",
       "Gender                   0.272194\n",
       "City                     0.000000\n",
       "Education_Level          0.000000\n",
       "Income                   0.000000\n",
       "Dateofjoining            0.000000\n",
       "LastWorkingDate         91.541039\n",
       "Joining Designation      0.000000\n",
       "Grade                    0.000000\n",
       "Total Business Value     0.000000\n",
       "Quarterly Rating         0.000000\n",
       "dtype: float64"
      ]
     },
     "execution_count": 501,
     "metadata": {},
     "output_type": "execute_result"
    }
   ],
   "source": [
    "## percentage of missing values\n",
    "(df.isnull().sum()/len(df))*100"
   ]
  },
  {
   "cell_type": "code",
   "execution_count": 502,
   "id": "c74b4b86",
   "metadata": {},
   "outputs": [],
   "source": [
    "# since LastWorkingDate  has 91.54% missing data but it's not going to impact because it's driver last working date in the company\n",
    "# so it will work as a target variable"
   ]
  },
  {
   "cell_type": "code",
   "execution_count": 503,
   "id": "d421b381",
   "metadata": {},
   "outputs": [
    {
     "data": {
      "text/plain": [
       "0.0    11074\n",
       "1.0     7978\n",
       "Name: Gender, dtype: int64"
      ]
     },
     "execution_count": 503,
     "metadata": {},
     "output_type": "execute_result"
    }
   ],
   "source": [
    "df['Gender'].value_counts()"
   ]
  },
  {
   "cell_type": "code",
   "execution_count": 504,
   "id": "310f2f6c",
   "metadata": {},
   "outputs": [
    {
     "data": {
      "text/plain": [
       "1    6864\n",
       "2    6327\n",
       "0    5913\n",
       "Name: Education_Level, dtype: int64"
      ]
     },
     "execution_count": 504,
     "metadata": {},
     "output_type": "execute_result"
    }
   ],
   "source": [
    "df['Education_Level'].value_counts()"
   ]
  },
  {
   "cell_type": "code",
   "execution_count": 505,
   "id": "74dc59eb",
   "metadata": {},
   "outputs": [
    {
     "data": {
      "text/html": [
       "<div>\n",
       "<style scoped>\n",
       "    .dataframe tbody tr th:only-of-type {\n",
       "        vertical-align: middle;\n",
       "    }\n",
       "\n",
       "    .dataframe tbody tr th {\n",
       "        vertical-align: top;\n",
       "    }\n",
       "\n",
       "    .dataframe thead th {\n",
       "        text-align: right;\n",
       "    }\n",
       "</style>\n",
       "<table border=\"1\" class=\"dataframe\">\n",
       "  <thead>\n",
       "    <tr style=\"text-align: right;\">\n",
       "      <th></th>\n",
       "      <th>Driver_ID</th>\n",
       "      <th>Age</th>\n",
       "      <th>Gender</th>\n",
       "      <th>Education_Level</th>\n",
       "      <th>Income</th>\n",
       "      <th>Joining Designation</th>\n",
       "      <th>Grade</th>\n",
       "      <th>Total Business Value</th>\n",
       "      <th>Quarterly Rating</th>\n",
       "    </tr>\n",
       "  </thead>\n",
       "  <tbody>\n",
       "    <tr>\n",
       "      <th>0</th>\n",
       "      <td>1</td>\n",
       "      <td>28.0</td>\n",
       "      <td>0.0</td>\n",
       "      <td>2</td>\n",
       "      <td>57387</td>\n",
       "      <td>1</td>\n",
       "      <td>1</td>\n",
       "      <td>2381060</td>\n",
       "      <td>2</td>\n",
       "    </tr>\n",
       "    <tr>\n",
       "      <th>1</th>\n",
       "      <td>1</td>\n",
       "      <td>28.0</td>\n",
       "      <td>0.0</td>\n",
       "      <td>2</td>\n",
       "      <td>57387</td>\n",
       "      <td>1</td>\n",
       "      <td>1</td>\n",
       "      <td>-665480</td>\n",
       "      <td>2</td>\n",
       "    </tr>\n",
       "    <tr>\n",
       "      <th>2</th>\n",
       "      <td>1</td>\n",
       "      <td>28.0</td>\n",
       "      <td>0.0</td>\n",
       "      <td>2</td>\n",
       "      <td>57387</td>\n",
       "      <td>1</td>\n",
       "      <td>1</td>\n",
       "      <td>0</td>\n",
       "      <td>2</td>\n",
       "    </tr>\n",
       "    <tr>\n",
       "      <th>3</th>\n",
       "      <td>2</td>\n",
       "      <td>31.0</td>\n",
       "      <td>0.0</td>\n",
       "      <td>2</td>\n",
       "      <td>67016</td>\n",
       "      <td>2</td>\n",
       "      <td>2</td>\n",
       "      <td>0</td>\n",
       "      <td>1</td>\n",
       "    </tr>\n",
       "    <tr>\n",
       "      <th>4</th>\n",
       "      <td>2</td>\n",
       "      <td>31.0</td>\n",
       "      <td>0.0</td>\n",
       "      <td>2</td>\n",
       "      <td>67016</td>\n",
       "      <td>2</td>\n",
       "      <td>2</td>\n",
       "      <td>0</td>\n",
       "      <td>1</td>\n",
       "    </tr>\n",
       "  </tbody>\n",
       "</table>\n",
       "</div>"
      ],
      "text/plain": [
       "   Driver_ID   Age  Gender  Education_Level  Income  Joining Designation  \\\n",
       "0          1  28.0     0.0                2   57387                    1   \n",
       "1          1  28.0     0.0                2   57387                    1   \n",
       "2          1  28.0     0.0                2   57387                    1   \n",
       "3          2  31.0     0.0                2   67016                    2   \n",
       "4          2  31.0     0.0                2   67016                    2   \n",
       "\n",
       "   Grade  Total Business Value  Quarterly Rating  \n",
       "0      1               2381060                 2  \n",
       "1      1               -665480                 2  \n",
       "2      1                     0                 2  \n",
       "3      2                     0                 1  \n",
       "4      2                     0                 1  "
      ]
     },
     "execution_count": 505,
     "metadata": {},
     "output_type": "execute_result"
    }
   ],
   "source": [
    "## need numerical data types only\n",
    "df_num = df.select_dtypes(include = np.number)\n",
    "df_num.head()"
   ]
  },
  {
   "cell_type": "code",
   "execution_count": 506,
   "id": "6ca19af8",
   "metadata": {},
   "outputs": [
    {
     "data": {
      "text/plain": [
       "2049    24\n",
       "2134    24\n",
       "1271    24\n",
       "1191    24\n",
       "1111    24\n",
       "        ..\n",
       "1227     1\n",
       "1358     1\n",
       "2321     1\n",
       "1195     1\n",
       "2088     1\n",
       "Name: Driver_ID, Length: 2381, dtype: int64"
      ]
     },
     "execution_count": 506,
     "metadata": {},
     "output_type": "execute_result"
    }
   ],
   "source": [
    "## driver id will impact age and gender missing value imputation \n",
    "df_num['Driver_ID'].value_counts()"
   ]
  },
  {
   "cell_type": "code",
   "execution_count": 507,
   "id": "be9ab5de",
   "metadata": {},
   "outputs": [
    {
     "name": "stderr",
     "output_type": "stream",
     "text": [
      "C:\\Users\\Friends\\anaconda3\\lib\\site-packages\\pandas\\core\\frame.py:4308: SettingWithCopyWarning: \n",
      "A value is trying to be set on a copy of a slice from a DataFrame\n",
      "\n",
      "See the caveats in the documentation: https://pandas.pydata.org/pandas-docs/stable/user_guide/indexing.html#returning-a-view-versus-a-copy\n",
      "  return super().drop(\n"
     ]
    }
   ],
   "source": [
    "df_num.drop(columns = 'Driver_ID', inplace= True)"
   ]
  },
  {
   "cell_type": "code",
   "execution_count": 508,
   "id": "f3fd618d",
   "metadata": {},
   "outputs": [
    {
     "data": {
      "text/plain": [
       "Index(['Age', 'Gender', 'Education_Level', 'Income', 'Joining Designation',\n",
       "       'Grade', 'Total Business Value', 'Quarterly Rating'],\n",
       "      dtype='object')"
      ]
     },
     "execution_count": 508,
     "metadata": {},
     "output_type": "execute_result"
    }
   ],
   "source": [
    "columns = df_num.columns\n",
    "columns"
   ]
  },
  {
   "cell_type": "code",
   "execution_count": 509,
   "id": "30dd0d70",
   "metadata": {},
   "outputs": [
    {
     "data": {
      "text/plain": [
       "Age                     61\n",
       "Gender                  52\n",
       "Education_Level          0\n",
       "Income                   0\n",
       "Joining Designation      0\n",
       "Grade                    0\n",
       "Total Business Value     0\n",
       "Quarterly Rating         0\n",
       "dtype: int64"
      ]
     },
     "execution_count": 509,
     "metadata": {},
     "output_type": "execute_result"
    }
   ],
   "source": [
    "df_num.isnull().sum()"
   ]
  },
  {
   "cell_type": "code",
   "execution_count": 510,
   "id": "87741d62",
   "metadata": {},
   "outputs": [],
   "source": [
    "from sklearn.impute import KNNImputer"
   ]
  },
  {
   "cell_type": "code",
   "execution_count": 511,
   "id": "5b2663bf",
   "metadata": {},
   "outputs": [],
   "source": [
    "imputer = KNNImputer(n_neighbors=3, weights='uniform', metric='nan_euclidean')\n",
    "data = imputer.fit_transform(df_num)"
   ]
  },
  {
   "cell_type": "code",
   "execution_count": 512,
   "id": "d19c71fc",
   "metadata": {},
   "outputs": [
    {
     "data": {
      "text/html": [
       "<div>\n",
       "<style scoped>\n",
       "    .dataframe tbody tr th:only-of-type {\n",
       "        vertical-align: middle;\n",
       "    }\n",
       "\n",
       "    .dataframe tbody tr th {\n",
       "        vertical-align: top;\n",
       "    }\n",
       "\n",
       "    .dataframe thead th {\n",
       "        text-align: right;\n",
       "    }\n",
       "</style>\n",
       "<table border=\"1\" class=\"dataframe\">\n",
       "  <thead>\n",
       "    <tr style=\"text-align: right;\">\n",
       "      <th></th>\n",
       "      <th>0</th>\n",
       "      <th>1</th>\n",
       "      <th>2</th>\n",
       "      <th>3</th>\n",
       "      <th>4</th>\n",
       "      <th>5</th>\n",
       "      <th>6</th>\n",
       "      <th>7</th>\n",
       "    </tr>\n",
       "  </thead>\n",
       "  <tbody>\n",
       "    <tr>\n",
       "      <th>0</th>\n",
       "      <td>28.0</td>\n",
       "      <td>0.0</td>\n",
       "      <td>2.0</td>\n",
       "      <td>57387.0</td>\n",
       "      <td>1.0</td>\n",
       "      <td>1.0</td>\n",
       "      <td>2381060.0</td>\n",
       "      <td>2.0</td>\n",
       "    </tr>\n",
       "    <tr>\n",
       "      <th>1</th>\n",
       "      <td>28.0</td>\n",
       "      <td>0.0</td>\n",
       "      <td>2.0</td>\n",
       "      <td>57387.0</td>\n",
       "      <td>1.0</td>\n",
       "      <td>1.0</td>\n",
       "      <td>-665480.0</td>\n",
       "      <td>2.0</td>\n",
       "    </tr>\n",
       "    <tr>\n",
       "      <th>2</th>\n",
       "      <td>28.0</td>\n",
       "      <td>0.0</td>\n",
       "      <td>2.0</td>\n",
       "      <td>57387.0</td>\n",
       "      <td>1.0</td>\n",
       "      <td>1.0</td>\n",
       "      <td>0.0</td>\n",
       "      <td>2.0</td>\n",
       "    </tr>\n",
       "    <tr>\n",
       "      <th>3</th>\n",
       "      <td>31.0</td>\n",
       "      <td>0.0</td>\n",
       "      <td>2.0</td>\n",
       "      <td>67016.0</td>\n",
       "      <td>2.0</td>\n",
       "      <td>2.0</td>\n",
       "      <td>0.0</td>\n",
       "      <td>1.0</td>\n",
       "    </tr>\n",
       "    <tr>\n",
       "      <th>4</th>\n",
       "      <td>31.0</td>\n",
       "      <td>0.0</td>\n",
       "      <td>2.0</td>\n",
       "      <td>67016.0</td>\n",
       "      <td>2.0</td>\n",
       "      <td>2.0</td>\n",
       "      <td>0.0</td>\n",
       "      <td>1.0</td>\n",
       "    </tr>\n",
       "    <tr>\n",
       "      <th>...</th>\n",
       "      <td>...</td>\n",
       "      <td>...</td>\n",
       "      <td>...</td>\n",
       "      <td>...</td>\n",
       "      <td>...</td>\n",
       "      <td>...</td>\n",
       "      <td>...</td>\n",
       "      <td>...</td>\n",
       "    </tr>\n",
       "    <tr>\n",
       "      <th>19099</th>\n",
       "      <td>30.0</td>\n",
       "      <td>0.0</td>\n",
       "      <td>2.0</td>\n",
       "      <td>70254.0</td>\n",
       "      <td>2.0</td>\n",
       "      <td>2.0</td>\n",
       "      <td>740280.0</td>\n",
       "      <td>3.0</td>\n",
       "    </tr>\n",
       "    <tr>\n",
       "      <th>19100</th>\n",
       "      <td>30.0</td>\n",
       "      <td>0.0</td>\n",
       "      <td>2.0</td>\n",
       "      <td>70254.0</td>\n",
       "      <td>2.0</td>\n",
       "      <td>2.0</td>\n",
       "      <td>448370.0</td>\n",
       "      <td>3.0</td>\n",
       "    </tr>\n",
       "    <tr>\n",
       "      <th>19101</th>\n",
       "      <td>30.0</td>\n",
       "      <td>0.0</td>\n",
       "      <td>2.0</td>\n",
       "      <td>70254.0</td>\n",
       "      <td>2.0</td>\n",
       "      <td>2.0</td>\n",
       "      <td>0.0</td>\n",
       "      <td>2.0</td>\n",
       "    </tr>\n",
       "    <tr>\n",
       "      <th>19102</th>\n",
       "      <td>30.0</td>\n",
       "      <td>0.0</td>\n",
       "      <td>2.0</td>\n",
       "      <td>70254.0</td>\n",
       "      <td>2.0</td>\n",
       "      <td>2.0</td>\n",
       "      <td>200420.0</td>\n",
       "      <td>2.0</td>\n",
       "    </tr>\n",
       "    <tr>\n",
       "      <th>19103</th>\n",
       "      <td>30.0</td>\n",
       "      <td>0.0</td>\n",
       "      <td>2.0</td>\n",
       "      <td>70254.0</td>\n",
       "      <td>2.0</td>\n",
       "      <td>2.0</td>\n",
       "      <td>411480.0</td>\n",
       "      <td>2.0</td>\n",
       "    </tr>\n",
       "  </tbody>\n",
       "</table>\n",
       "<p>19104 rows × 8 columns</p>\n",
       "</div>"
      ],
      "text/plain": [
       "          0    1    2        3    4    5          6    7\n",
       "0      28.0  0.0  2.0  57387.0  1.0  1.0  2381060.0  2.0\n",
       "1      28.0  0.0  2.0  57387.0  1.0  1.0  -665480.0  2.0\n",
       "2      28.0  0.0  2.0  57387.0  1.0  1.0        0.0  2.0\n",
       "3      31.0  0.0  2.0  67016.0  2.0  2.0        0.0  1.0\n",
       "4      31.0  0.0  2.0  67016.0  2.0  2.0        0.0  1.0\n",
       "...     ...  ...  ...      ...  ...  ...        ...  ...\n",
       "19099  30.0  0.0  2.0  70254.0  2.0  2.0   740280.0  3.0\n",
       "19100  30.0  0.0  2.0  70254.0  2.0  2.0   448370.0  3.0\n",
       "19101  30.0  0.0  2.0  70254.0  2.0  2.0        0.0  2.0\n",
       "19102  30.0  0.0  2.0  70254.0  2.0  2.0   200420.0  2.0\n",
       "19103  30.0  0.0  2.0  70254.0  2.0  2.0   411480.0  2.0\n",
       "\n",
       "[19104 rows x 8 columns]"
      ]
     },
     "execution_count": 512,
     "metadata": {},
     "output_type": "execute_result"
    }
   ],
   "source": [
    "new_df = pd.DataFrame(data)\n",
    "new_df"
   ]
  },
  {
   "cell_type": "code",
   "execution_count": 513,
   "id": "b2c2a190",
   "metadata": {},
   "outputs": [
    {
     "data": {
      "text/plain": [
       "0    0\n",
       "1    0\n",
       "2    0\n",
       "3    0\n",
       "4    0\n",
       "5    0\n",
       "6    0\n",
       "7    0\n",
       "dtype: int64"
      ]
     },
     "execution_count": 513,
     "metadata": {},
     "output_type": "execute_result"
    }
   ],
   "source": [
    "## checking null values\n",
    "new_df.isnull().sum()"
   ]
  },
  {
   "cell_type": "code",
   "execution_count": 514,
   "id": "00d966fd",
   "metadata": {},
   "outputs": [
    {
     "data": {
      "text/html": [
       "<div>\n",
       "<style scoped>\n",
       "    .dataframe tbody tr th:only-of-type {\n",
       "        vertical-align: middle;\n",
       "    }\n",
       "\n",
       "    .dataframe tbody tr th {\n",
       "        vertical-align: top;\n",
       "    }\n",
       "\n",
       "    .dataframe thead th {\n",
       "        text-align: right;\n",
       "    }\n",
       "</style>\n",
       "<table border=\"1\" class=\"dataframe\">\n",
       "  <thead>\n",
       "    <tr style=\"text-align: right;\">\n",
       "      <th></th>\n",
       "      <th>Age</th>\n",
       "      <th>Gender</th>\n",
       "      <th>Education_Level</th>\n",
       "      <th>Income</th>\n",
       "      <th>Joining Designation</th>\n",
       "      <th>Grade</th>\n",
       "      <th>Total Business Value</th>\n",
       "      <th>Quarterly Rating</th>\n",
       "    </tr>\n",
       "  </thead>\n",
       "  <tbody>\n",
       "    <tr>\n",
       "      <th>0</th>\n",
       "      <td>28.0</td>\n",
       "      <td>0.0</td>\n",
       "      <td>2.0</td>\n",
       "      <td>57387.0</td>\n",
       "      <td>1.0</td>\n",
       "      <td>1.0</td>\n",
       "      <td>2381060.0</td>\n",
       "      <td>2.0</td>\n",
       "    </tr>\n",
       "    <tr>\n",
       "      <th>1</th>\n",
       "      <td>28.0</td>\n",
       "      <td>0.0</td>\n",
       "      <td>2.0</td>\n",
       "      <td>57387.0</td>\n",
       "      <td>1.0</td>\n",
       "      <td>1.0</td>\n",
       "      <td>-665480.0</td>\n",
       "      <td>2.0</td>\n",
       "    </tr>\n",
       "  </tbody>\n",
       "</table>\n",
       "</div>"
      ],
      "text/plain": [
       "    Age  Gender  Education_Level   Income  Joining Designation  Grade  \\\n",
       "0  28.0     0.0              2.0  57387.0                  1.0    1.0   \n",
       "1  28.0     0.0              2.0  57387.0                  1.0    1.0   \n",
       "\n",
       "   Total Business Value  Quarterly Rating  \n",
       "0             2381060.0               2.0  \n",
       "1             -665480.0               2.0  "
      ]
     },
     "execution_count": 514,
     "metadata": {},
     "output_type": "execute_result"
    }
   ],
   "source": [
    "new_df.columns = columns\n",
    "new_df.head(2)"
   ]
  },
  {
   "cell_type": "code",
   "execution_count": 515,
   "id": "af79a678",
   "metadata": {},
   "outputs": [
    {
     "data": {
      "text/html": [
       "<div>\n",
       "<style scoped>\n",
       "    .dataframe tbody tr th:only-of-type {\n",
       "        vertical-align: middle;\n",
       "    }\n",
       "\n",
       "    .dataframe tbody tr th {\n",
       "        vertical-align: top;\n",
       "    }\n",
       "\n",
       "    .dataframe thead th {\n",
       "        text-align: right;\n",
       "    }\n",
       "</style>\n",
       "<table border=\"1\" class=\"dataframe\">\n",
       "  <thead>\n",
       "    <tr style=\"text-align: right;\">\n",
       "      <th></th>\n",
       "      <th>MMM-YY</th>\n",
       "      <th>Driver_ID</th>\n",
       "      <th>Age</th>\n",
       "      <th>Gender</th>\n",
       "      <th>City</th>\n",
       "      <th>Education_Level</th>\n",
       "      <th>Income</th>\n",
       "      <th>Dateofjoining</th>\n",
       "      <th>LastWorkingDate</th>\n",
       "      <th>Joining Designation</th>\n",
       "      <th>Grade</th>\n",
       "      <th>Total Business Value</th>\n",
       "      <th>Quarterly Rating</th>\n",
       "    </tr>\n",
       "  </thead>\n",
       "  <tbody>\n",
       "    <tr>\n",
       "      <th>0</th>\n",
       "      <td>2019-01-01</td>\n",
       "      <td>1</td>\n",
       "      <td>28.0</td>\n",
       "      <td>0.0</td>\n",
       "      <td>C23</td>\n",
       "      <td>2</td>\n",
       "      <td>57387</td>\n",
       "      <td>2018-12-24</td>\n",
       "      <td>NaT</td>\n",
       "      <td>1</td>\n",
       "      <td>1</td>\n",
       "      <td>2381060</td>\n",
       "      <td>2</td>\n",
       "    </tr>\n",
       "    <tr>\n",
       "      <th>1</th>\n",
       "      <td>2019-02-01</td>\n",
       "      <td>1</td>\n",
       "      <td>28.0</td>\n",
       "      <td>0.0</td>\n",
       "      <td>C23</td>\n",
       "      <td>2</td>\n",
       "      <td>57387</td>\n",
       "      <td>2018-12-24</td>\n",
       "      <td>NaT</td>\n",
       "      <td>1</td>\n",
       "      <td>1</td>\n",
       "      <td>-665480</td>\n",
       "      <td>2</td>\n",
       "    </tr>\n",
       "  </tbody>\n",
       "</table>\n",
       "</div>"
      ],
      "text/plain": [
       "      MMM-YY  Driver_ID   Age  Gender City  Education_Level  Income  \\\n",
       "0 2019-01-01          1  28.0     0.0  C23                2   57387   \n",
       "1 2019-02-01          1  28.0     0.0  C23                2   57387   \n",
       "\n",
       "  Dateofjoining LastWorkingDate  Joining Designation  Grade  \\\n",
       "0    2018-12-24             NaT                    1      1   \n",
       "1    2018-12-24             NaT                    1      1   \n",
       "\n",
       "   Total Business Value  Quarterly Rating  \n",
       "0               2381060                 2  \n",
       "1               -665480                 2  "
      ]
     },
     "execution_count": 515,
     "metadata": {},
     "output_type": "execute_result"
    }
   ],
   "source": [
    "df.head(2)"
   ]
  },
  {
   "cell_type": "markdown",
   "id": "c4938649",
   "metadata": {},
   "source": [
    "### Getting the remaining columns back"
   ]
  },
  {
   "cell_type": "code",
   "execution_count": 516,
   "id": "5850391b",
   "metadata": {},
   "outputs": [],
   "source": [
    "remaining_columns=list(set(df.columns).difference(set(columns)))"
   ]
  },
  {
   "cell_type": "code",
   "execution_count": 517,
   "id": "393fe3ee",
   "metadata": {},
   "outputs": [
    {
     "data": {
      "text/plain": [
       "['Dateofjoining', 'MMM-YY', 'LastWorkingDate', 'City', 'Driver_ID']"
      ]
     },
     "execution_count": 517,
     "metadata": {},
     "output_type": "execute_result"
    }
   ],
   "source": [
    "remaining_columns"
   ]
  },
  {
   "cell_type": "code",
   "execution_count": 518,
   "id": "6006f5e2",
   "metadata": {},
   "outputs": [],
   "source": [
    "data = pd.concat([df[remaining_columns], new_df], axis = 1)"
   ]
  },
  {
   "cell_type": "code",
   "execution_count": 519,
   "id": "7d65d454",
   "metadata": {},
   "outputs": [
    {
     "data": {
      "text/html": [
       "<div>\n",
       "<style scoped>\n",
       "    .dataframe tbody tr th:only-of-type {\n",
       "        vertical-align: middle;\n",
       "    }\n",
       "\n",
       "    .dataframe tbody tr th {\n",
       "        vertical-align: top;\n",
       "    }\n",
       "\n",
       "    .dataframe thead th {\n",
       "        text-align: right;\n",
       "    }\n",
       "</style>\n",
       "<table border=\"1\" class=\"dataframe\">\n",
       "  <thead>\n",
       "    <tr style=\"text-align: right;\">\n",
       "      <th></th>\n",
       "      <th>Dateofjoining</th>\n",
       "      <th>MMM-YY</th>\n",
       "      <th>LastWorkingDate</th>\n",
       "      <th>City</th>\n",
       "      <th>Driver_ID</th>\n",
       "      <th>Age</th>\n",
       "      <th>Gender</th>\n",
       "      <th>Education_Level</th>\n",
       "      <th>Income</th>\n",
       "      <th>Joining Designation</th>\n",
       "      <th>Grade</th>\n",
       "      <th>Total Business Value</th>\n",
       "      <th>Quarterly Rating</th>\n",
       "    </tr>\n",
       "  </thead>\n",
       "  <tbody>\n",
       "    <tr>\n",
       "      <th>0</th>\n",
       "      <td>2018-12-24</td>\n",
       "      <td>2019-01-01</td>\n",
       "      <td>NaT</td>\n",
       "      <td>C23</td>\n",
       "      <td>1</td>\n",
       "      <td>28.0</td>\n",
       "      <td>0.0</td>\n",
       "      <td>2.0</td>\n",
       "      <td>57387.0</td>\n",
       "      <td>1.0</td>\n",
       "      <td>1.0</td>\n",
       "      <td>2381060.0</td>\n",
       "      <td>2.0</td>\n",
       "    </tr>\n",
       "    <tr>\n",
       "      <th>1</th>\n",
       "      <td>2018-12-24</td>\n",
       "      <td>2019-02-01</td>\n",
       "      <td>NaT</td>\n",
       "      <td>C23</td>\n",
       "      <td>1</td>\n",
       "      <td>28.0</td>\n",
       "      <td>0.0</td>\n",
       "      <td>2.0</td>\n",
       "      <td>57387.0</td>\n",
       "      <td>1.0</td>\n",
       "      <td>1.0</td>\n",
       "      <td>-665480.0</td>\n",
       "      <td>2.0</td>\n",
       "    </tr>\n",
       "    <tr>\n",
       "      <th>2</th>\n",
       "      <td>2018-12-24</td>\n",
       "      <td>2019-03-01</td>\n",
       "      <td>2019-03-11</td>\n",
       "      <td>C23</td>\n",
       "      <td>1</td>\n",
       "      <td>28.0</td>\n",
       "      <td>0.0</td>\n",
       "      <td>2.0</td>\n",
       "      <td>57387.0</td>\n",
       "      <td>1.0</td>\n",
       "      <td>1.0</td>\n",
       "      <td>0.0</td>\n",
       "      <td>2.0</td>\n",
       "    </tr>\n",
       "    <tr>\n",
       "      <th>3</th>\n",
       "      <td>2020-11-06</td>\n",
       "      <td>2020-11-01</td>\n",
       "      <td>NaT</td>\n",
       "      <td>C7</td>\n",
       "      <td>2</td>\n",
       "      <td>31.0</td>\n",
       "      <td>0.0</td>\n",
       "      <td>2.0</td>\n",
       "      <td>67016.0</td>\n",
       "      <td>2.0</td>\n",
       "      <td>2.0</td>\n",
       "      <td>0.0</td>\n",
       "      <td>1.0</td>\n",
       "    </tr>\n",
       "    <tr>\n",
       "      <th>4</th>\n",
       "      <td>2020-11-06</td>\n",
       "      <td>2020-12-01</td>\n",
       "      <td>NaT</td>\n",
       "      <td>C7</td>\n",
       "      <td>2</td>\n",
       "      <td>31.0</td>\n",
       "      <td>0.0</td>\n",
       "      <td>2.0</td>\n",
       "      <td>67016.0</td>\n",
       "      <td>2.0</td>\n",
       "      <td>2.0</td>\n",
       "      <td>0.0</td>\n",
       "      <td>1.0</td>\n",
       "    </tr>\n",
       "  </tbody>\n",
       "</table>\n",
       "</div>"
      ],
      "text/plain": [
       "  Dateofjoining     MMM-YY LastWorkingDate City  Driver_ID   Age  Gender  \\\n",
       "0    2018-12-24 2019-01-01             NaT  C23          1  28.0     0.0   \n",
       "1    2018-12-24 2019-02-01             NaT  C23          1  28.0     0.0   \n",
       "2    2018-12-24 2019-03-01      2019-03-11  C23          1  28.0     0.0   \n",
       "3    2020-11-06 2020-11-01             NaT   C7          2  31.0     0.0   \n",
       "4    2020-11-06 2020-12-01             NaT   C7          2  31.0     0.0   \n",
       "\n",
       "   Education_Level   Income  Joining Designation  Grade  Total Business Value  \\\n",
       "0              2.0  57387.0                  1.0    1.0             2381060.0   \n",
       "1              2.0  57387.0                  1.0    1.0             -665480.0   \n",
       "2              2.0  57387.0                  1.0    1.0                   0.0   \n",
       "3              2.0  67016.0                  2.0    2.0                   0.0   \n",
       "4              2.0  67016.0                  2.0    2.0                   0.0   \n",
       "\n",
       "   Quarterly Rating  \n",
       "0               2.0  \n",
       "1               2.0  \n",
       "2               2.0  \n",
       "3               1.0  \n",
       "4               1.0  "
      ]
     },
     "execution_count": 519,
     "metadata": {},
     "output_type": "execute_result"
    }
   ],
   "source": [
    "data.head()"
   ]
  },
  {
   "cell_type": "code",
   "execution_count": 520,
   "id": "5addefa8",
   "metadata": {},
   "outputs": [
    {
     "data": {
      "text/html": [
       "<div>\n",
       "<style scoped>\n",
       "    .dataframe tbody tr th:only-of-type {\n",
       "        vertical-align: middle;\n",
       "    }\n",
       "\n",
       "    .dataframe tbody tr th {\n",
       "        vertical-align: top;\n",
       "    }\n",
       "\n",
       "    .dataframe thead th {\n",
       "        text-align: right;\n",
       "    }\n",
       "</style>\n",
       "<table border=\"1\" class=\"dataframe\">\n",
       "  <thead>\n",
       "    <tr style=\"text-align: right;\">\n",
       "      <th></th>\n",
       "      <th>MMM-YY</th>\n",
       "      <th>Driver_ID</th>\n",
       "      <th>Age</th>\n",
       "      <th>Gender</th>\n",
       "      <th>City</th>\n",
       "      <th>Education_Level</th>\n",
       "      <th>Income</th>\n",
       "      <th>Dateofjoining</th>\n",
       "      <th>LastWorkingDate</th>\n",
       "      <th>Joining Designation</th>\n",
       "      <th>Grade</th>\n",
       "      <th>Total Business Value</th>\n",
       "      <th>Quarterly Rating</th>\n",
       "    </tr>\n",
       "  </thead>\n",
       "  <tbody>\n",
       "    <tr>\n",
       "      <th>0</th>\n",
       "      <td>2019-01-01</td>\n",
       "      <td>1</td>\n",
       "      <td>28.0</td>\n",
       "      <td>0.0</td>\n",
       "      <td>C23</td>\n",
       "      <td>2</td>\n",
       "      <td>57387</td>\n",
       "      <td>2018-12-24</td>\n",
       "      <td>NaT</td>\n",
       "      <td>1</td>\n",
       "      <td>1</td>\n",
       "      <td>2381060</td>\n",
       "      <td>2</td>\n",
       "    </tr>\n",
       "    <tr>\n",
       "      <th>1</th>\n",
       "      <td>2019-02-01</td>\n",
       "      <td>1</td>\n",
       "      <td>28.0</td>\n",
       "      <td>0.0</td>\n",
       "      <td>C23</td>\n",
       "      <td>2</td>\n",
       "      <td>57387</td>\n",
       "      <td>2018-12-24</td>\n",
       "      <td>NaT</td>\n",
       "      <td>1</td>\n",
       "      <td>1</td>\n",
       "      <td>-665480</td>\n",
       "      <td>2</td>\n",
       "    </tr>\n",
       "    <tr>\n",
       "      <th>2</th>\n",
       "      <td>2019-03-01</td>\n",
       "      <td>1</td>\n",
       "      <td>28.0</td>\n",
       "      <td>0.0</td>\n",
       "      <td>C23</td>\n",
       "      <td>2</td>\n",
       "      <td>57387</td>\n",
       "      <td>2018-12-24</td>\n",
       "      <td>2019-03-11</td>\n",
       "      <td>1</td>\n",
       "      <td>1</td>\n",
       "      <td>0</td>\n",
       "      <td>2</td>\n",
       "    </tr>\n",
       "  </tbody>\n",
       "</table>\n",
       "</div>"
      ],
      "text/plain": [
       "      MMM-YY  Driver_ID   Age  Gender City  Education_Level  Income  \\\n",
       "0 2019-01-01          1  28.0     0.0  C23                2   57387   \n",
       "1 2019-02-01          1  28.0     0.0  C23                2   57387   \n",
       "2 2019-03-01          1  28.0     0.0  C23                2   57387   \n",
       "\n",
       "  Dateofjoining LastWorkingDate  Joining Designation  Grade  \\\n",
       "0    2018-12-24             NaT                    1      1   \n",
       "1    2018-12-24             NaT                    1      1   \n",
       "2    2018-12-24      2019-03-11                    1      1   \n",
       "\n",
       "   Total Business Value  Quarterly Rating  \n",
       "0               2381060                 2  \n",
       "1               -665480                 2  \n",
       "2                     0                 2  "
      ]
     },
     "execution_count": 520,
     "metadata": {},
     "output_type": "execute_result"
    }
   ],
   "source": [
    "df[df['Driver_ID'] == 1]"
   ]
  },
  {
   "cell_type": "code",
   "execution_count": 521,
   "id": "28c48263",
   "metadata": {},
   "outputs": [
    {
     "data": {
      "text/html": [
       "<div>\n",
       "<style scoped>\n",
       "    .dataframe tbody tr th:only-of-type {\n",
       "        vertical-align: middle;\n",
       "    }\n",
       "\n",
       "    .dataframe tbody tr th {\n",
       "        vertical-align: top;\n",
       "    }\n",
       "\n",
       "    .dataframe thead th {\n",
       "        text-align: right;\n",
       "    }\n",
       "</style>\n",
       "<table border=\"1\" class=\"dataframe\">\n",
       "  <thead>\n",
       "    <tr style=\"text-align: right;\">\n",
       "      <th></th>\n",
       "      <th>Dateofjoining</th>\n",
       "      <th>MMM-YY</th>\n",
       "      <th>LastWorkingDate</th>\n",
       "      <th>City</th>\n",
       "      <th>Driver_ID</th>\n",
       "      <th>Age</th>\n",
       "      <th>Gender</th>\n",
       "      <th>Education_Level</th>\n",
       "      <th>Income</th>\n",
       "      <th>Joining Designation</th>\n",
       "      <th>Grade</th>\n",
       "      <th>Total Business Value</th>\n",
       "      <th>Quarterly Rating</th>\n",
       "    </tr>\n",
       "  </thead>\n",
       "  <tbody>\n",
       "    <tr>\n",
       "      <th>0</th>\n",
       "      <td>2018-12-24</td>\n",
       "      <td>2019-01-01</td>\n",
       "      <td>NaT</td>\n",
       "      <td>C23</td>\n",
       "      <td>1</td>\n",
       "      <td>28.0</td>\n",
       "      <td>0.0</td>\n",
       "      <td>2.0</td>\n",
       "      <td>57387.0</td>\n",
       "      <td>1.0</td>\n",
       "      <td>1.0</td>\n",
       "      <td>2381060.0</td>\n",
       "      <td>2.0</td>\n",
       "    </tr>\n",
       "    <tr>\n",
       "      <th>1</th>\n",
       "      <td>2018-12-24</td>\n",
       "      <td>2019-02-01</td>\n",
       "      <td>NaT</td>\n",
       "      <td>C23</td>\n",
       "      <td>1</td>\n",
       "      <td>28.0</td>\n",
       "      <td>0.0</td>\n",
       "      <td>2.0</td>\n",
       "      <td>57387.0</td>\n",
       "      <td>1.0</td>\n",
       "      <td>1.0</td>\n",
       "      <td>-665480.0</td>\n",
       "      <td>2.0</td>\n",
       "    </tr>\n",
       "    <tr>\n",
       "      <th>2</th>\n",
       "      <td>2018-12-24</td>\n",
       "      <td>2019-03-01</td>\n",
       "      <td>2019-03-11</td>\n",
       "      <td>C23</td>\n",
       "      <td>1</td>\n",
       "      <td>28.0</td>\n",
       "      <td>0.0</td>\n",
       "      <td>2.0</td>\n",
       "      <td>57387.0</td>\n",
       "      <td>1.0</td>\n",
       "      <td>1.0</td>\n",
       "      <td>0.0</td>\n",
       "      <td>2.0</td>\n",
       "    </tr>\n",
       "  </tbody>\n",
       "</table>\n",
       "</div>"
      ],
      "text/plain": [
       "  Dateofjoining     MMM-YY LastWorkingDate City  Driver_ID   Age  Gender  \\\n",
       "0    2018-12-24 2019-01-01             NaT  C23          1  28.0     0.0   \n",
       "1    2018-12-24 2019-02-01             NaT  C23          1  28.0     0.0   \n",
       "2    2018-12-24 2019-03-01      2019-03-11  C23          1  28.0     0.0   \n",
       "\n",
       "   Education_Level   Income  Joining Designation  Grade  Total Business Value  \\\n",
       "0              2.0  57387.0                  1.0    1.0             2381060.0   \n",
       "1              2.0  57387.0                  1.0    1.0             -665480.0   \n",
       "2              2.0  57387.0                  1.0    1.0                   0.0   \n",
       "\n",
       "   Quarterly Rating  \n",
       "0               2.0  \n",
       "1               2.0  \n",
       "2               2.0  "
      ]
     },
     "execution_count": 521,
     "metadata": {},
     "output_type": "execute_result"
    }
   ],
   "source": [
    "data[data['Driver_ID'] == 1]"
   ]
  },
  {
   "cell_type": "code",
   "execution_count": 522,
   "id": "d111e5d4",
   "metadata": {},
   "outputs": [],
   "source": [
    "### Aggregation is required to work on above datasets\n",
    "\n",
    "function_dict = {'Age':'max', 'Gender':'first','City':'first',\n",
    " 'Education_Level':'last', 'Income':'last',\n",
    " 'Joining Designation':'last','Grade':'last',\n",
    " 'Dateofjoining':'last','LastWorkingDate':'last',\n",
    " 'Total Business Value':'sum','Quarterly Rating':'last'}\n",
    "new_train=data.groupby(['Driver_ID','MMM-YY']).aggregate(function_dict)"
   ]
  },
  {
   "cell_type": "code",
   "execution_count": 523,
   "id": "fc2d7a4a",
   "metadata": {},
   "outputs": [
    {
     "data": {
      "text/html": [
       "<div>\n",
       "<style scoped>\n",
       "    .dataframe tbody tr th:only-of-type {\n",
       "        vertical-align: middle;\n",
       "    }\n",
       "\n",
       "    .dataframe tbody tr th {\n",
       "        vertical-align: top;\n",
       "    }\n",
       "\n",
       "    .dataframe thead th {\n",
       "        text-align: right;\n",
       "    }\n",
       "</style>\n",
       "<table border=\"1\" class=\"dataframe\">\n",
       "  <thead>\n",
       "    <tr style=\"text-align: right;\">\n",
       "      <th></th>\n",
       "      <th></th>\n",
       "      <th>Age</th>\n",
       "      <th>Gender</th>\n",
       "      <th>City</th>\n",
       "      <th>Education_Level</th>\n",
       "      <th>Income</th>\n",
       "      <th>Joining Designation</th>\n",
       "      <th>Grade</th>\n",
       "      <th>Dateofjoining</th>\n",
       "      <th>LastWorkingDate</th>\n",
       "      <th>Total Business Value</th>\n",
       "      <th>Quarterly Rating</th>\n",
       "    </tr>\n",
       "    <tr>\n",
       "      <th>Driver_ID</th>\n",
       "      <th>MMM-YY</th>\n",
       "      <th></th>\n",
       "      <th></th>\n",
       "      <th></th>\n",
       "      <th></th>\n",
       "      <th></th>\n",
       "      <th></th>\n",
       "      <th></th>\n",
       "      <th></th>\n",
       "      <th></th>\n",
       "      <th></th>\n",
       "      <th></th>\n",
       "    </tr>\n",
       "  </thead>\n",
       "  <tbody>\n",
       "    <tr>\n",
       "      <th rowspan=\"3\" valign=\"top\">1</th>\n",
       "      <th>2019-01-01</th>\n",
       "      <td>28.0</td>\n",
       "      <td>0.0</td>\n",
       "      <td>C23</td>\n",
       "      <td>2.0</td>\n",
       "      <td>57387.0</td>\n",
       "      <td>1.0</td>\n",
       "      <td>1.0</td>\n",
       "      <td>2018-12-24</td>\n",
       "      <td>NaT</td>\n",
       "      <td>2381060.0</td>\n",
       "      <td>2.0</td>\n",
       "    </tr>\n",
       "    <tr>\n",
       "      <th>2019-02-01</th>\n",
       "      <td>28.0</td>\n",
       "      <td>0.0</td>\n",
       "      <td>C23</td>\n",
       "      <td>2.0</td>\n",
       "      <td>57387.0</td>\n",
       "      <td>1.0</td>\n",
       "      <td>1.0</td>\n",
       "      <td>2018-12-24</td>\n",
       "      <td>NaT</td>\n",
       "      <td>-665480.0</td>\n",
       "      <td>2.0</td>\n",
       "    </tr>\n",
       "    <tr>\n",
       "      <th>2019-03-01</th>\n",
       "      <td>28.0</td>\n",
       "      <td>0.0</td>\n",
       "      <td>C23</td>\n",
       "      <td>2.0</td>\n",
       "      <td>57387.0</td>\n",
       "      <td>1.0</td>\n",
       "      <td>1.0</td>\n",
       "      <td>2018-12-24</td>\n",
       "      <td>2019-03-11</td>\n",
       "      <td>0.0</td>\n",
       "      <td>2.0</td>\n",
       "    </tr>\n",
       "    <tr>\n",
       "      <th rowspan=\"2\" valign=\"top\">2</th>\n",
       "      <th>2020-11-01</th>\n",
       "      <td>31.0</td>\n",
       "      <td>0.0</td>\n",
       "      <td>C7</td>\n",
       "      <td>2.0</td>\n",
       "      <td>67016.0</td>\n",
       "      <td>2.0</td>\n",
       "      <td>2.0</td>\n",
       "      <td>2020-11-06</td>\n",
       "      <td>NaT</td>\n",
       "      <td>0.0</td>\n",
       "      <td>1.0</td>\n",
       "    </tr>\n",
       "    <tr>\n",
       "      <th>2020-12-01</th>\n",
       "      <td>31.0</td>\n",
       "      <td>0.0</td>\n",
       "      <td>C7</td>\n",
       "      <td>2.0</td>\n",
       "      <td>67016.0</td>\n",
       "      <td>2.0</td>\n",
       "      <td>2.0</td>\n",
       "      <td>2020-11-06</td>\n",
       "      <td>NaT</td>\n",
       "      <td>0.0</td>\n",
       "      <td>1.0</td>\n",
       "    </tr>\n",
       "    <tr>\n",
       "      <th>...</th>\n",
       "      <th>...</th>\n",
       "      <td>...</td>\n",
       "      <td>...</td>\n",
       "      <td>...</td>\n",
       "      <td>...</td>\n",
       "      <td>...</td>\n",
       "      <td>...</td>\n",
       "      <td>...</td>\n",
       "      <td>...</td>\n",
       "      <td>...</td>\n",
       "      <td>...</td>\n",
       "      <td>...</td>\n",
       "    </tr>\n",
       "    <tr>\n",
       "      <th rowspan=\"5\" valign=\"top\">2788</th>\n",
       "      <th>2020-08-01</th>\n",
       "      <td>30.0</td>\n",
       "      <td>0.0</td>\n",
       "      <td>C27</td>\n",
       "      <td>2.0</td>\n",
       "      <td>70254.0</td>\n",
       "      <td>2.0</td>\n",
       "      <td>2.0</td>\n",
       "      <td>2020-06-08</td>\n",
       "      <td>NaT</td>\n",
       "      <td>740280.0</td>\n",
       "      <td>3.0</td>\n",
       "    </tr>\n",
       "    <tr>\n",
       "      <th>2020-09-01</th>\n",
       "      <td>30.0</td>\n",
       "      <td>0.0</td>\n",
       "      <td>C27</td>\n",
       "      <td>2.0</td>\n",
       "      <td>70254.0</td>\n",
       "      <td>2.0</td>\n",
       "      <td>2.0</td>\n",
       "      <td>2020-06-08</td>\n",
       "      <td>NaT</td>\n",
       "      <td>448370.0</td>\n",
       "      <td>3.0</td>\n",
       "    </tr>\n",
       "    <tr>\n",
       "      <th>2020-10-01</th>\n",
       "      <td>30.0</td>\n",
       "      <td>0.0</td>\n",
       "      <td>C27</td>\n",
       "      <td>2.0</td>\n",
       "      <td>70254.0</td>\n",
       "      <td>2.0</td>\n",
       "      <td>2.0</td>\n",
       "      <td>2020-06-08</td>\n",
       "      <td>NaT</td>\n",
       "      <td>0.0</td>\n",
       "      <td>2.0</td>\n",
       "    </tr>\n",
       "    <tr>\n",
       "      <th>2020-11-01</th>\n",
       "      <td>30.0</td>\n",
       "      <td>0.0</td>\n",
       "      <td>C27</td>\n",
       "      <td>2.0</td>\n",
       "      <td>70254.0</td>\n",
       "      <td>2.0</td>\n",
       "      <td>2.0</td>\n",
       "      <td>2020-06-08</td>\n",
       "      <td>NaT</td>\n",
       "      <td>200420.0</td>\n",
       "      <td>2.0</td>\n",
       "    </tr>\n",
       "    <tr>\n",
       "      <th>2020-12-01</th>\n",
       "      <td>30.0</td>\n",
       "      <td>0.0</td>\n",
       "      <td>C27</td>\n",
       "      <td>2.0</td>\n",
       "      <td>70254.0</td>\n",
       "      <td>2.0</td>\n",
       "      <td>2.0</td>\n",
       "      <td>2020-06-08</td>\n",
       "      <td>NaT</td>\n",
       "      <td>411480.0</td>\n",
       "      <td>2.0</td>\n",
       "    </tr>\n",
       "  </tbody>\n",
       "</table>\n",
       "<p>19104 rows × 11 columns</p>\n",
       "</div>"
      ],
      "text/plain": [
       "                       Age  Gender City  Education_Level   Income  \\\n",
       "Driver_ID MMM-YY                                                    \n",
       "1         2019-01-01  28.0     0.0  C23              2.0  57387.0   \n",
       "          2019-02-01  28.0     0.0  C23              2.0  57387.0   \n",
       "          2019-03-01  28.0     0.0  C23              2.0  57387.0   \n",
       "2         2020-11-01  31.0     0.0   C7              2.0  67016.0   \n",
       "          2020-12-01  31.0     0.0   C7              2.0  67016.0   \n",
       "...                    ...     ...  ...              ...      ...   \n",
       "2788      2020-08-01  30.0     0.0  C27              2.0  70254.0   \n",
       "          2020-09-01  30.0     0.0  C27              2.0  70254.0   \n",
       "          2020-10-01  30.0     0.0  C27              2.0  70254.0   \n",
       "          2020-11-01  30.0     0.0  C27              2.0  70254.0   \n",
       "          2020-12-01  30.0     0.0  C27              2.0  70254.0   \n",
       "\n",
       "                      Joining Designation  Grade Dateofjoining  \\\n",
       "Driver_ID MMM-YY                                                 \n",
       "1         2019-01-01                  1.0    1.0    2018-12-24   \n",
       "          2019-02-01                  1.0    1.0    2018-12-24   \n",
       "          2019-03-01                  1.0    1.0    2018-12-24   \n",
       "2         2020-11-01                  2.0    2.0    2020-11-06   \n",
       "          2020-12-01                  2.0    2.0    2020-11-06   \n",
       "...                                   ...    ...           ...   \n",
       "2788      2020-08-01                  2.0    2.0    2020-06-08   \n",
       "          2020-09-01                  2.0    2.0    2020-06-08   \n",
       "          2020-10-01                  2.0    2.0    2020-06-08   \n",
       "          2020-11-01                  2.0    2.0    2020-06-08   \n",
       "          2020-12-01                  2.0    2.0    2020-06-08   \n",
       "\n",
       "                     LastWorkingDate  Total Business Value  Quarterly Rating  \n",
       "Driver_ID MMM-YY                                                              \n",
       "1         2019-01-01             NaT             2381060.0               2.0  \n",
       "          2019-02-01             NaT             -665480.0               2.0  \n",
       "          2019-03-01      2019-03-11                   0.0               2.0  \n",
       "2         2020-11-01             NaT                   0.0               1.0  \n",
       "          2020-12-01             NaT                   0.0               1.0  \n",
       "...                              ...                   ...               ...  \n",
       "2788      2020-08-01             NaT              740280.0               3.0  \n",
       "          2020-09-01             NaT              448370.0               3.0  \n",
       "          2020-10-01             NaT                   0.0               2.0  \n",
       "          2020-11-01             NaT              200420.0               2.0  \n",
       "          2020-12-01             NaT              411480.0               2.0  \n",
       "\n",
       "[19104 rows x 11 columns]"
      ]
     },
     "execution_count": 523,
     "metadata": {},
     "output_type": "execute_result"
    }
   ],
   "source": [
    "new_train"
   ]
  },
  {
   "cell_type": "code",
   "execution_count": 524,
   "id": "8b450460",
   "metadata": {},
   "outputs": [
    {
     "data": {
      "text/html": [
       "<div>\n",
       "<style scoped>\n",
       "    .dataframe tbody tr th:only-of-type {\n",
       "        vertical-align: middle;\n",
       "    }\n",
       "\n",
       "    .dataframe tbody tr th {\n",
       "        vertical-align: top;\n",
       "    }\n",
       "\n",
       "    .dataframe thead th {\n",
       "        text-align: right;\n",
       "    }\n",
       "</style>\n",
       "<table border=\"1\" class=\"dataframe\">\n",
       "  <thead>\n",
       "    <tr style=\"text-align: right;\">\n",
       "      <th></th>\n",
       "      <th></th>\n",
       "      <th>Age</th>\n",
       "      <th>Gender</th>\n",
       "      <th>City</th>\n",
       "      <th>Education_Level</th>\n",
       "      <th>Income</th>\n",
       "      <th>Joining Designation</th>\n",
       "      <th>Grade</th>\n",
       "      <th>Dateofjoining</th>\n",
       "      <th>LastWorkingDate</th>\n",
       "      <th>Total Business Value</th>\n",
       "      <th>Quarterly Rating</th>\n",
       "    </tr>\n",
       "    <tr>\n",
       "      <th>Driver_ID</th>\n",
       "      <th>MMM-YY</th>\n",
       "      <th></th>\n",
       "      <th></th>\n",
       "      <th></th>\n",
       "      <th></th>\n",
       "      <th></th>\n",
       "      <th></th>\n",
       "      <th></th>\n",
       "      <th></th>\n",
       "      <th></th>\n",
       "      <th></th>\n",
       "      <th></th>\n",
       "    </tr>\n",
       "  </thead>\n",
       "  <tbody>\n",
       "    <tr>\n",
       "      <th rowspan=\"3\" valign=\"top\">1</th>\n",
       "      <th>2019-01-01</th>\n",
       "      <td>28.0</td>\n",
       "      <td>0.0</td>\n",
       "      <td>C23</td>\n",
       "      <td>2.0</td>\n",
       "      <td>57387.0</td>\n",
       "      <td>1.0</td>\n",
       "      <td>1.0</td>\n",
       "      <td>2018-12-24</td>\n",
       "      <td>NaT</td>\n",
       "      <td>2381060.0</td>\n",
       "      <td>2.0</td>\n",
       "    </tr>\n",
       "    <tr>\n",
       "      <th>2019-02-01</th>\n",
       "      <td>28.0</td>\n",
       "      <td>0.0</td>\n",
       "      <td>C23</td>\n",
       "      <td>2.0</td>\n",
       "      <td>57387.0</td>\n",
       "      <td>1.0</td>\n",
       "      <td>1.0</td>\n",
       "      <td>2018-12-24</td>\n",
       "      <td>NaT</td>\n",
       "      <td>-665480.0</td>\n",
       "      <td>2.0</td>\n",
       "    </tr>\n",
       "    <tr>\n",
       "      <th>2019-03-01</th>\n",
       "      <td>28.0</td>\n",
       "      <td>0.0</td>\n",
       "      <td>C23</td>\n",
       "      <td>2.0</td>\n",
       "      <td>57387.0</td>\n",
       "      <td>1.0</td>\n",
       "      <td>1.0</td>\n",
       "      <td>2018-12-24</td>\n",
       "      <td>2019-03-11</td>\n",
       "      <td>0.0</td>\n",
       "      <td>2.0</td>\n",
       "    </tr>\n",
       "    <tr>\n",
       "      <th rowspan=\"2\" valign=\"top\">2</th>\n",
       "      <th>2020-11-01</th>\n",
       "      <td>31.0</td>\n",
       "      <td>0.0</td>\n",
       "      <td>C7</td>\n",
       "      <td>2.0</td>\n",
       "      <td>67016.0</td>\n",
       "      <td>2.0</td>\n",
       "      <td>2.0</td>\n",
       "      <td>2020-11-06</td>\n",
       "      <td>NaT</td>\n",
       "      <td>0.0</td>\n",
       "      <td>1.0</td>\n",
       "    </tr>\n",
       "    <tr>\n",
       "      <th>2020-12-01</th>\n",
       "      <td>31.0</td>\n",
       "      <td>0.0</td>\n",
       "      <td>C7</td>\n",
       "      <td>2.0</td>\n",
       "      <td>67016.0</td>\n",
       "      <td>2.0</td>\n",
       "      <td>2.0</td>\n",
       "      <td>2020-11-06</td>\n",
       "      <td>NaT</td>\n",
       "      <td>0.0</td>\n",
       "      <td>1.0</td>\n",
       "    </tr>\n",
       "    <tr>\n",
       "      <th rowspan=\"5\" valign=\"top\">4</th>\n",
       "      <th>2019-12-01</th>\n",
       "      <td>43.0</td>\n",
       "      <td>0.0</td>\n",
       "      <td>C13</td>\n",
       "      <td>2.0</td>\n",
       "      <td>65603.0</td>\n",
       "      <td>2.0</td>\n",
       "      <td>2.0</td>\n",
       "      <td>2019-12-07</td>\n",
       "      <td>NaT</td>\n",
       "      <td>0.0</td>\n",
       "      <td>1.0</td>\n",
       "    </tr>\n",
       "    <tr>\n",
       "      <th>2020-01-01</th>\n",
       "      <td>43.0</td>\n",
       "      <td>0.0</td>\n",
       "      <td>C13</td>\n",
       "      <td>2.0</td>\n",
       "      <td>65603.0</td>\n",
       "      <td>2.0</td>\n",
       "      <td>2.0</td>\n",
       "      <td>2019-12-07</td>\n",
       "      <td>NaT</td>\n",
       "      <td>0.0</td>\n",
       "      <td>1.0</td>\n",
       "    </tr>\n",
       "    <tr>\n",
       "      <th>2020-02-01</th>\n",
       "      <td>43.0</td>\n",
       "      <td>0.0</td>\n",
       "      <td>C13</td>\n",
       "      <td>2.0</td>\n",
       "      <td>65603.0</td>\n",
       "      <td>2.0</td>\n",
       "      <td>2.0</td>\n",
       "      <td>2019-12-07</td>\n",
       "      <td>NaT</td>\n",
       "      <td>0.0</td>\n",
       "      <td>1.0</td>\n",
       "    </tr>\n",
       "    <tr>\n",
       "      <th>2020-03-01</th>\n",
       "      <td>43.0</td>\n",
       "      <td>0.0</td>\n",
       "      <td>C13</td>\n",
       "      <td>2.0</td>\n",
       "      <td>65603.0</td>\n",
       "      <td>2.0</td>\n",
       "      <td>2.0</td>\n",
       "      <td>2019-12-07</td>\n",
       "      <td>NaT</td>\n",
       "      <td>350000.0</td>\n",
       "      <td>1.0</td>\n",
       "    </tr>\n",
       "    <tr>\n",
       "      <th>2020-04-01</th>\n",
       "      <td>43.0</td>\n",
       "      <td>0.0</td>\n",
       "      <td>C13</td>\n",
       "      <td>2.0</td>\n",
       "      <td>65603.0</td>\n",
       "      <td>2.0</td>\n",
       "      <td>2.0</td>\n",
       "      <td>2019-12-07</td>\n",
       "      <td>2020-04-27</td>\n",
       "      <td>0.0</td>\n",
       "      <td>1.0</td>\n",
       "    </tr>\n",
       "  </tbody>\n",
       "</table>\n",
       "</div>"
      ],
      "text/plain": [
       "                       Age  Gender City  Education_Level   Income  \\\n",
       "Driver_ID MMM-YY                                                    \n",
       "1         2019-01-01  28.0     0.0  C23              2.0  57387.0   \n",
       "          2019-02-01  28.0     0.0  C23              2.0  57387.0   \n",
       "          2019-03-01  28.0     0.0  C23              2.0  57387.0   \n",
       "2         2020-11-01  31.0     0.0   C7              2.0  67016.0   \n",
       "          2020-12-01  31.0     0.0   C7              2.0  67016.0   \n",
       "4         2019-12-01  43.0     0.0  C13              2.0  65603.0   \n",
       "          2020-01-01  43.0     0.0  C13              2.0  65603.0   \n",
       "          2020-02-01  43.0     0.0  C13              2.0  65603.0   \n",
       "          2020-03-01  43.0     0.0  C13              2.0  65603.0   \n",
       "          2020-04-01  43.0     0.0  C13              2.0  65603.0   \n",
       "\n",
       "                      Joining Designation  Grade Dateofjoining  \\\n",
       "Driver_ID MMM-YY                                                 \n",
       "1         2019-01-01                  1.0    1.0    2018-12-24   \n",
       "          2019-02-01                  1.0    1.0    2018-12-24   \n",
       "          2019-03-01                  1.0    1.0    2018-12-24   \n",
       "2         2020-11-01                  2.0    2.0    2020-11-06   \n",
       "          2020-12-01                  2.0    2.0    2020-11-06   \n",
       "4         2019-12-01                  2.0    2.0    2019-12-07   \n",
       "          2020-01-01                  2.0    2.0    2019-12-07   \n",
       "          2020-02-01                  2.0    2.0    2019-12-07   \n",
       "          2020-03-01                  2.0    2.0    2019-12-07   \n",
       "          2020-04-01                  2.0    2.0    2019-12-07   \n",
       "\n",
       "                     LastWorkingDate  Total Business Value  Quarterly Rating  \n",
       "Driver_ID MMM-YY                                                              \n",
       "1         2019-01-01             NaT             2381060.0               2.0  \n",
       "          2019-02-01             NaT             -665480.0               2.0  \n",
       "          2019-03-01      2019-03-11                   0.0               2.0  \n",
       "2         2020-11-01             NaT                   0.0               1.0  \n",
       "          2020-12-01             NaT                   0.0               1.0  \n",
       "4         2019-12-01             NaT                   0.0               1.0  \n",
       "          2020-01-01             NaT                   0.0               1.0  \n",
       "          2020-02-01             NaT                   0.0               1.0  \n",
       "          2020-03-01             NaT              350000.0               1.0  \n",
       "          2020-04-01      2020-04-27                   0.0               1.0  "
      ]
     },
     "execution_count": 524,
     "metadata": {},
     "output_type": "execute_result"
    }
   ],
   "source": [
    "#direct sorting can work but you have to use sort_values\n",
    "df=new_train.sort_index(ascending=[True,True])\n",
    "df.head(10)"
   ]
  },
  {
   "cell_type": "code",
   "execution_count": 525,
   "id": "2933eea9",
   "metadata": {},
   "outputs": [],
   "source": [
    "df1=pd.DataFrame()"
   ]
  },
  {
   "cell_type": "code",
   "execution_count": 526,
   "id": "a6ce7875",
   "metadata": {},
   "outputs": [],
   "source": [
    "df1['Driver_ID'] = data['Driver_ID'].unique()"
   ]
  },
  {
   "cell_type": "code",
   "execution_count": 527,
   "id": "2a252074",
   "metadata": {},
   "outputs": [
    {
     "data": {
      "text/plain": [
       "0          1\n",
       "1          2\n",
       "2          4\n",
       "3          5\n",
       "4          6\n",
       "        ... \n",
       "2376    2784\n",
       "2377    2785\n",
       "2378    2786\n",
       "2379    2787\n",
       "2380    2788\n",
       "Name: Driver_ID, Length: 2381, dtype: int64"
      ]
     },
     "execution_count": 527,
     "metadata": {},
     "output_type": "execute_result"
    }
   ],
   "source": [
    "df1['Driver_ID']"
   ]
  },
  {
   "cell_type": "markdown",
   "id": "e543291c",
   "metadata": {},
   "source": [
    "### Aggregation at Driver Level"
   ]
  },
  {
   "cell_type": "code",
   "execution_count": 528,
   "id": "2d64d2e2",
   "metadata": {},
   "outputs": [],
   "source": [
    "df1['Age'] = list(df.groupby('Driver_ID',axis=0).max('MMM-YY')['Age'])\n",
    "df1['Gender'] = list(df.groupby('Driver_ID').agg({'Gender':'last'})['Gender'])\n",
    "df1['City'] = list(df.groupby('Driver_ID').agg({'City':'last'})['City'])\n",
    "df1['Education'] = list(df.groupby('Driver_ID').agg({'Education_Level':'last'})['Education_Level'])\n",
    "df1['First_Income'] = list(df.groupby('Driver_ID').agg({'Income':'first'})['Income'])\n",
    "df1['Last_Income'] = list(df.groupby('Driver_ID').agg({'Income':'last'})['Income'])\n",
    "df1['Joining_Designation'] = list(df.groupby('Driver_ID').agg({'Joining Designation':'last'})['Joining Designation'])\n",
    "df1['Grade'] = list(df.groupby('Driver_ID').agg({'Grade':'last'})['Grade'])\n",
    "df1['Total_Business_Value'] = list(df.groupby('Driver_ID',axis=0).sum('Total Business Value')['Total Business Value'])\n",
    "df1['Last_Quarterly_Rating'] = list(df.groupby('Driver_ID').agg({'Quarterly Rating':'last'})['Quarterly Rating'])\n",
    "df1['First_Quarterly_Rating'] = list(df.groupby('Driver_ID').agg({'Quarterly Rating':'first'})['Quarterly Rating'])\n",
    "df1['LastWorkingDate'] = list(df.groupby('Driver_ID').agg({'LastWorkingDate':'last'})['LastWorkingDate'])"
   ]
  },
  {
   "cell_type": "code",
   "execution_count": 529,
   "id": "2cab96ee",
   "metadata": {},
   "outputs": [
    {
     "name": "stdout",
     "output_type": "stream",
     "text": [
      "<class 'pandas.core.frame.DataFrame'>\n",
      "RangeIndex: 2381 entries, 0 to 2380\n",
      "Data columns (total 13 columns):\n",
      " #   Column                  Non-Null Count  Dtype         \n",
      "---  ------                  --------------  -----         \n",
      " 0   Driver_ID               2381 non-null   int64         \n",
      " 1   Age                     2381 non-null   float64       \n",
      " 2   Gender                  2381 non-null   float64       \n",
      " 3   City                    2381 non-null   object        \n",
      " 4   Education               2381 non-null   float64       \n",
      " 5   First_Income            2381 non-null   float64       \n",
      " 6   Last_Income             2381 non-null   float64       \n",
      " 7   Joining_Designation     2381 non-null   float64       \n",
      " 8   Grade                   2381 non-null   float64       \n",
      " 9   Total_Business_Value    2381 non-null   float64       \n",
      " 10  Last_Quarterly_Rating   2381 non-null   float64       \n",
      " 11  First_Quarterly_Rating  2381 non-null   float64       \n",
      " 12  LastWorkingDate         1616 non-null   datetime64[ns]\n",
      "dtypes: datetime64[ns](1), float64(10), int64(1), object(1)\n",
      "memory usage: 241.9+ KB\n"
     ]
    }
   ],
   "source": [
    "df1.info()"
   ]
  },
  {
   "cell_type": "code",
   "execution_count": 530,
   "id": "9ef52c7f",
   "metadata": {},
   "outputs": [
    {
     "data": {
      "text/html": [
       "<div>\n",
       "<style scoped>\n",
       "    .dataframe tbody tr th:only-of-type {\n",
       "        vertical-align: middle;\n",
       "    }\n",
       "\n",
       "    .dataframe tbody tr th {\n",
       "        vertical-align: top;\n",
       "    }\n",
       "\n",
       "    .dataframe thead th {\n",
       "        text-align: right;\n",
       "    }\n",
       "</style>\n",
       "<table border=\"1\" class=\"dataframe\">\n",
       "  <thead>\n",
       "    <tr style=\"text-align: right;\">\n",
       "      <th></th>\n",
       "      <th>Driver_ID</th>\n",
       "      <th>Age</th>\n",
       "      <th>Gender</th>\n",
       "      <th>City</th>\n",
       "      <th>Education</th>\n",
       "      <th>First_Income</th>\n",
       "      <th>Last_Income</th>\n",
       "      <th>Joining_Designation</th>\n",
       "      <th>Grade</th>\n",
       "      <th>Total_Business_Value</th>\n",
       "      <th>Last_Quarterly_Rating</th>\n",
       "      <th>First_Quarterly_Rating</th>\n",
       "      <th>LastWorkingDate</th>\n",
       "    </tr>\n",
       "  </thead>\n",
       "  <tbody>\n",
       "    <tr>\n",
       "      <th>0</th>\n",
       "      <td>1</td>\n",
       "      <td>28.0</td>\n",
       "      <td>0.0</td>\n",
       "      <td>C23</td>\n",
       "      <td>2.0</td>\n",
       "      <td>57387.0</td>\n",
       "      <td>57387.0</td>\n",
       "      <td>1.0</td>\n",
       "      <td>1.0</td>\n",
       "      <td>1715580.0</td>\n",
       "      <td>2.0</td>\n",
       "      <td>2.0</td>\n",
       "      <td>2019-03-11</td>\n",
       "    </tr>\n",
       "    <tr>\n",
       "      <th>1</th>\n",
       "      <td>2</td>\n",
       "      <td>31.0</td>\n",
       "      <td>0.0</td>\n",
       "      <td>C7</td>\n",
       "      <td>2.0</td>\n",
       "      <td>67016.0</td>\n",
       "      <td>67016.0</td>\n",
       "      <td>2.0</td>\n",
       "      <td>2.0</td>\n",
       "      <td>0.0</td>\n",
       "      <td>1.0</td>\n",
       "      <td>1.0</td>\n",
       "      <td>NaT</td>\n",
       "    </tr>\n",
       "    <tr>\n",
       "      <th>2</th>\n",
       "      <td>4</td>\n",
       "      <td>43.0</td>\n",
       "      <td>0.0</td>\n",
       "      <td>C13</td>\n",
       "      <td>2.0</td>\n",
       "      <td>65603.0</td>\n",
       "      <td>65603.0</td>\n",
       "      <td>2.0</td>\n",
       "      <td>2.0</td>\n",
       "      <td>350000.0</td>\n",
       "      <td>1.0</td>\n",
       "      <td>1.0</td>\n",
       "      <td>2020-04-27</td>\n",
       "    </tr>\n",
       "    <tr>\n",
       "      <th>3</th>\n",
       "      <td>5</td>\n",
       "      <td>29.0</td>\n",
       "      <td>0.0</td>\n",
       "      <td>C9</td>\n",
       "      <td>0.0</td>\n",
       "      <td>46368.0</td>\n",
       "      <td>46368.0</td>\n",
       "      <td>1.0</td>\n",
       "      <td>1.0</td>\n",
       "      <td>120360.0</td>\n",
       "      <td>1.0</td>\n",
       "      <td>1.0</td>\n",
       "      <td>2019-03-07</td>\n",
       "    </tr>\n",
       "    <tr>\n",
       "      <th>4</th>\n",
       "      <td>6</td>\n",
       "      <td>31.0</td>\n",
       "      <td>1.0</td>\n",
       "      <td>C11</td>\n",
       "      <td>1.0</td>\n",
       "      <td>78728.0</td>\n",
       "      <td>78728.0</td>\n",
       "      <td>3.0</td>\n",
       "      <td>3.0</td>\n",
       "      <td>1265000.0</td>\n",
       "      <td>2.0</td>\n",
       "      <td>1.0</td>\n",
       "      <td>NaT</td>\n",
       "    </tr>\n",
       "  </tbody>\n",
       "</table>\n",
       "</div>"
      ],
      "text/plain": [
       "   Driver_ID   Age  Gender City  Education  First_Income  Last_Income  \\\n",
       "0          1  28.0     0.0  C23        2.0       57387.0      57387.0   \n",
       "1          2  31.0     0.0   C7        2.0       67016.0      67016.0   \n",
       "2          4  43.0     0.0  C13        2.0       65603.0      65603.0   \n",
       "3          5  29.0     0.0   C9        0.0       46368.0      46368.0   \n",
       "4          6  31.0     1.0  C11        1.0       78728.0      78728.0   \n",
       "\n",
       "   Joining_Designation  Grade  Total_Business_Value  Last_Quarterly_Rating  \\\n",
       "0                  1.0    1.0             1715580.0                    2.0   \n",
       "1                  2.0    2.0                   0.0                    1.0   \n",
       "2                  2.0    2.0              350000.0                    1.0   \n",
       "3                  1.0    1.0              120360.0                    1.0   \n",
       "4                  3.0    3.0             1265000.0                    2.0   \n",
       "\n",
       "   First_Quarterly_Rating LastWorkingDate  \n",
       "0                     2.0      2019-03-11  \n",
       "1                     1.0             NaT  \n",
       "2                     1.0      2020-04-27  \n",
       "3                     1.0      2019-03-07  \n",
       "4                     1.0             NaT  "
      ]
     },
     "execution_count": 530,
     "metadata": {},
     "output_type": "execute_result"
    }
   ],
   "source": [
    "df1.head()"
   ]
  },
  {
   "cell_type": "code",
   "execution_count": 531,
   "id": "b68dad03",
   "metadata": {},
   "outputs": [
    {
     "data": {
      "text/html": [
       "<div>\n",
       "<style scoped>\n",
       "    .dataframe tbody tr th:only-of-type {\n",
       "        vertical-align: middle;\n",
       "    }\n",
       "\n",
       "    .dataframe tbody tr th {\n",
       "        vertical-align: top;\n",
       "    }\n",
       "\n",
       "    .dataframe thead th {\n",
       "        text-align: right;\n",
       "    }\n",
       "</style>\n",
       "<table border=\"1\" class=\"dataframe\">\n",
       "  <thead>\n",
       "    <tr style=\"text-align: right;\">\n",
       "      <th></th>\n",
       "      <th></th>\n",
       "      <th>Age</th>\n",
       "      <th>Gender</th>\n",
       "      <th>City</th>\n",
       "      <th>Education_Level</th>\n",
       "      <th>Income</th>\n",
       "      <th>Joining Designation</th>\n",
       "      <th>Grade</th>\n",
       "      <th>Dateofjoining</th>\n",
       "      <th>LastWorkingDate</th>\n",
       "      <th>Total Business Value</th>\n",
       "      <th>Quarterly Rating</th>\n",
       "    </tr>\n",
       "    <tr>\n",
       "      <th>Driver_ID</th>\n",
       "      <th>MMM-YY</th>\n",
       "      <th></th>\n",
       "      <th></th>\n",
       "      <th></th>\n",
       "      <th></th>\n",
       "      <th></th>\n",
       "      <th></th>\n",
       "      <th></th>\n",
       "      <th></th>\n",
       "      <th></th>\n",
       "      <th></th>\n",
       "      <th></th>\n",
       "    </tr>\n",
       "  </thead>\n",
       "  <tbody>\n",
       "    <tr>\n",
       "      <th rowspan=\"3\" valign=\"top\">1</th>\n",
       "      <th>2019-01-01</th>\n",
       "      <td>28.0</td>\n",
       "      <td>0.0</td>\n",
       "      <td>C23</td>\n",
       "      <td>2.0</td>\n",
       "      <td>57387.0</td>\n",
       "      <td>1.0</td>\n",
       "      <td>1.0</td>\n",
       "      <td>2018-12-24</td>\n",
       "      <td>NaT</td>\n",
       "      <td>2381060.0</td>\n",
       "      <td>2.0</td>\n",
       "    </tr>\n",
       "    <tr>\n",
       "      <th>2019-02-01</th>\n",
       "      <td>28.0</td>\n",
       "      <td>0.0</td>\n",
       "      <td>C23</td>\n",
       "      <td>2.0</td>\n",
       "      <td>57387.0</td>\n",
       "      <td>1.0</td>\n",
       "      <td>1.0</td>\n",
       "      <td>2018-12-24</td>\n",
       "      <td>NaT</td>\n",
       "      <td>-665480.0</td>\n",
       "      <td>2.0</td>\n",
       "    </tr>\n",
       "    <tr>\n",
       "      <th>2019-03-01</th>\n",
       "      <td>28.0</td>\n",
       "      <td>0.0</td>\n",
       "      <td>C23</td>\n",
       "      <td>2.0</td>\n",
       "      <td>57387.0</td>\n",
       "      <td>1.0</td>\n",
       "      <td>1.0</td>\n",
       "      <td>2018-12-24</td>\n",
       "      <td>2019-03-11</td>\n",
       "      <td>0.0</td>\n",
       "      <td>2.0</td>\n",
       "    </tr>\n",
       "    <tr>\n",
       "      <th rowspan=\"2\" valign=\"top\">2</th>\n",
       "      <th>2020-11-01</th>\n",
       "      <td>31.0</td>\n",
       "      <td>0.0</td>\n",
       "      <td>C7</td>\n",
       "      <td>2.0</td>\n",
       "      <td>67016.0</td>\n",
       "      <td>2.0</td>\n",
       "      <td>2.0</td>\n",
       "      <td>2020-11-06</td>\n",
       "      <td>NaT</td>\n",
       "      <td>0.0</td>\n",
       "      <td>1.0</td>\n",
       "    </tr>\n",
       "    <tr>\n",
       "      <th>2020-12-01</th>\n",
       "      <td>31.0</td>\n",
       "      <td>0.0</td>\n",
       "      <td>C7</td>\n",
       "      <td>2.0</td>\n",
       "      <td>67016.0</td>\n",
       "      <td>2.0</td>\n",
       "      <td>2.0</td>\n",
       "      <td>2020-11-06</td>\n",
       "      <td>NaT</td>\n",
       "      <td>0.0</td>\n",
       "      <td>1.0</td>\n",
       "    </tr>\n",
       "  </tbody>\n",
       "</table>\n",
       "</div>"
      ],
      "text/plain": [
       "                       Age  Gender City  Education_Level   Income  \\\n",
       "Driver_ID MMM-YY                                                    \n",
       "1         2019-01-01  28.0     0.0  C23              2.0  57387.0   \n",
       "          2019-02-01  28.0     0.0  C23              2.0  57387.0   \n",
       "          2019-03-01  28.0     0.0  C23              2.0  57387.0   \n",
       "2         2020-11-01  31.0     0.0   C7              2.0  67016.0   \n",
       "          2020-12-01  31.0     0.0   C7              2.0  67016.0   \n",
       "\n",
       "                      Joining Designation  Grade Dateofjoining  \\\n",
       "Driver_ID MMM-YY                                                 \n",
       "1         2019-01-01                  1.0    1.0    2018-12-24   \n",
       "          2019-02-01                  1.0    1.0    2018-12-24   \n",
       "          2019-03-01                  1.0    1.0    2018-12-24   \n",
       "2         2020-11-01                  2.0    2.0    2020-11-06   \n",
       "          2020-12-01                  2.0    2.0    2020-11-06   \n",
       "\n",
       "                     LastWorkingDate  Total Business Value  Quarterly Rating  \n",
       "Driver_ID MMM-YY                                                              \n",
       "1         2019-01-01             NaT             2381060.0               2.0  \n",
       "          2019-02-01             NaT             -665480.0               2.0  \n",
       "          2019-03-01      2019-03-11                   0.0               2.0  \n",
       "2         2020-11-01             NaT                   0.0               1.0  \n",
       "          2020-12-01             NaT                   0.0               1.0  "
      ]
     },
     "execution_count": 531,
     "metadata": {},
     "output_type": "execute_result"
    }
   ],
   "source": [
    "df.head()"
   ]
  },
  {
   "cell_type": "markdown",
   "id": "32723721",
   "metadata": {},
   "source": [
    "### Creating a column which tells if the quarterly rating has increased for that employee\n",
    "### for those whose quarterly rating has increased we assign the value 1"
   ]
  },
  {
   "cell_type": "code",
   "execution_count": 532,
   "id": "bfcb2b2f",
   "metadata": {},
   "outputs": [],
   "source": [
    "df1['Quarterly_Rating_Increased'] = np.where(df1['Last_Quarterly_Rating'] - df1['First_Quarterly_Rating'] > 0, 1,0)"
   ]
  },
  {
   "cell_type": "code",
   "execution_count": 533,
   "id": "2c55a32d",
   "metadata": {
    "scrolled": true
   },
   "outputs": [
    {
     "data": {
      "text/plain": [
       "0       0\n",
       "1       0\n",
       "2       0\n",
       "3       0\n",
       "4       1\n",
       "       ..\n",
       "2376    1\n",
       "2377    0\n",
       "2378    0\n",
       "2379    0\n",
       "2380    1\n",
       "Name: Quarterly_Rating_Increased, Length: 2381, dtype: int32"
      ]
     },
     "execution_count": 533,
     "metadata": {},
     "output_type": "execute_result"
    }
   ],
   "source": [
    "df1['Quarterly_Rating_Increased']"
   ]
  },
  {
   "cell_type": "code",
   "execution_count": 534,
   "id": "b61c8e41",
   "metadata": {
    "scrolled": false
   },
   "outputs": [
    {
     "data": {
      "text/html": [
       "<div>\n",
       "<style scoped>\n",
       "    .dataframe tbody tr th:only-of-type {\n",
       "        vertical-align: middle;\n",
       "    }\n",
       "\n",
       "    .dataframe tbody tr th {\n",
       "        vertical-align: top;\n",
       "    }\n",
       "\n",
       "    .dataframe thead th {\n",
       "        text-align: right;\n",
       "    }\n",
       "</style>\n",
       "<table border=\"1\" class=\"dataframe\">\n",
       "  <thead>\n",
       "    <tr style=\"text-align: right;\">\n",
       "      <th></th>\n",
       "      <th>Driver_ID</th>\n",
       "      <th>Age</th>\n",
       "      <th>Gender</th>\n",
       "      <th>City</th>\n",
       "      <th>Education</th>\n",
       "      <th>First_Income</th>\n",
       "      <th>Last_Income</th>\n",
       "      <th>Joining_Designation</th>\n",
       "      <th>Grade</th>\n",
       "      <th>Total_Business_Value</th>\n",
       "      <th>Last_Quarterly_Rating</th>\n",
       "      <th>First_Quarterly_Rating</th>\n",
       "      <th>LastWorkingDate</th>\n",
       "      <th>Quarterly_Rating_Increased</th>\n",
       "    </tr>\n",
       "  </thead>\n",
       "  <tbody>\n",
       "    <tr>\n",
       "      <th>0</th>\n",
       "      <td>1</td>\n",
       "      <td>28.0</td>\n",
       "      <td>0.0</td>\n",
       "      <td>C23</td>\n",
       "      <td>2.0</td>\n",
       "      <td>57387.0</td>\n",
       "      <td>57387.0</td>\n",
       "      <td>1.0</td>\n",
       "      <td>1.0</td>\n",
       "      <td>1715580.0</td>\n",
       "      <td>2.0</td>\n",
       "      <td>2.0</td>\n",
       "      <td>2019-03-11</td>\n",
       "      <td>0</td>\n",
       "    </tr>\n",
       "    <tr>\n",
       "      <th>1</th>\n",
       "      <td>2</td>\n",
       "      <td>31.0</td>\n",
       "      <td>0.0</td>\n",
       "      <td>C7</td>\n",
       "      <td>2.0</td>\n",
       "      <td>67016.0</td>\n",
       "      <td>67016.0</td>\n",
       "      <td>2.0</td>\n",
       "      <td>2.0</td>\n",
       "      <td>0.0</td>\n",
       "      <td>1.0</td>\n",
       "      <td>1.0</td>\n",
       "      <td>NaT</td>\n",
       "      <td>0</td>\n",
       "    </tr>\n",
       "    <tr>\n",
       "      <th>2</th>\n",
       "      <td>4</td>\n",
       "      <td>43.0</td>\n",
       "      <td>0.0</td>\n",
       "      <td>C13</td>\n",
       "      <td>2.0</td>\n",
       "      <td>65603.0</td>\n",
       "      <td>65603.0</td>\n",
       "      <td>2.0</td>\n",
       "      <td>2.0</td>\n",
       "      <td>350000.0</td>\n",
       "      <td>1.0</td>\n",
       "      <td>1.0</td>\n",
       "      <td>2020-04-27</td>\n",
       "      <td>0</td>\n",
       "    </tr>\n",
       "    <tr>\n",
       "      <th>3</th>\n",
       "      <td>5</td>\n",
       "      <td>29.0</td>\n",
       "      <td>0.0</td>\n",
       "      <td>C9</td>\n",
       "      <td>0.0</td>\n",
       "      <td>46368.0</td>\n",
       "      <td>46368.0</td>\n",
       "      <td>1.0</td>\n",
       "      <td>1.0</td>\n",
       "      <td>120360.0</td>\n",
       "      <td>1.0</td>\n",
       "      <td>1.0</td>\n",
       "      <td>2019-03-07</td>\n",
       "      <td>0</td>\n",
       "    </tr>\n",
       "    <tr>\n",
       "      <th>4</th>\n",
       "      <td>6</td>\n",
       "      <td>31.0</td>\n",
       "      <td>1.0</td>\n",
       "      <td>C11</td>\n",
       "      <td>1.0</td>\n",
       "      <td>78728.0</td>\n",
       "      <td>78728.0</td>\n",
       "      <td>3.0</td>\n",
       "      <td>3.0</td>\n",
       "      <td>1265000.0</td>\n",
       "      <td>2.0</td>\n",
       "      <td>1.0</td>\n",
       "      <td>NaT</td>\n",
       "      <td>1</td>\n",
       "    </tr>\n",
       "    <tr>\n",
       "      <th>...</th>\n",
       "      <td>...</td>\n",
       "      <td>...</td>\n",
       "      <td>...</td>\n",
       "      <td>...</td>\n",
       "      <td>...</td>\n",
       "      <td>...</td>\n",
       "      <td>...</td>\n",
       "      <td>...</td>\n",
       "      <td>...</td>\n",
       "      <td>...</td>\n",
       "      <td>...</td>\n",
       "      <td>...</td>\n",
       "      <td>...</td>\n",
       "      <td>...</td>\n",
       "    </tr>\n",
       "    <tr>\n",
       "      <th>2376</th>\n",
       "      <td>2784</td>\n",
       "      <td>34.0</td>\n",
       "      <td>0.0</td>\n",
       "      <td>C24</td>\n",
       "      <td>0.0</td>\n",
       "      <td>82815.0</td>\n",
       "      <td>82815.0</td>\n",
       "      <td>2.0</td>\n",
       "      <td>3.0</td>\n",
       "      <td>21748820.0</td>\n",
       "      <td>4.0</td>\n",
       "      <td>3.0</td>\n",
       "      <td>NaT</td>\n",
       "      <td>1</td>\n",
       "    </tr>\n",
       "    <tr>\n",
       "      <th>2377</th>\n",
       "      <td>2785</td>\n",
       "      <td>34.0</td>\n",
       "      <td>1.0</td>\n",
       "      <td>C9</td>\n",
       "      <td>0.0</td>\n",
       "      <td>12105.0</td>\n",
       "      <td>12105.0</td>\n",
       "      <td>1.0</td>\n",
       "      <td>1.0</td>\n",
       "      <td>0.0</td>\n",
       "      <td>1.0</td>\n",
       "      <td>1.0</td>\n",
       "      <td>2020-10-28</td>\n",
       "      <td>0</td>\n",
       "    </tr>\n",
       "    <tr>\n",
       "      <th>2378</th>\n",
       "      <td>2786</td>\n",
       "      <td>45.0</td>\n",
       "      <td>0.0</td>\n",
       "      <td>C19</td>\n",
       "      <td>0.0</td>\n",
       "      <td>35370.0</td>\n",
       "      <td>35370.0</td>\n",
       "      <td>2.0</td>\n",
       "      <td>2.0</td>\n",
       "      <td>2815090.0</td>\n",
       "      <td>1.0</td>\n",
       "      <td>2.0</td>\n",
       "      <td>2019-09-22</td>\n",
       "      <td>0</td>\n",
       "    </tr>\n",
       "    <tr>\n",
       "      <th>2379</th>\n",
       "      <td>2787</td>\n",
       "      <td>28.0</td>\n",
       "      <td>1.0</td>\n",
       "      <td>C20</td>\n",
       "      <td>2.0</td>\n",
       "      <td>69498.0</td>\n",
       "      <td>69498.0</td>\n",
       "      <td>1.0</td>\n",
       "      <td>1.0</td>\n",
       "      <td>977830.0</td>\n",
       "      <td>1.0</td>\n",
       "      <td>2.0</td>\n",
       "      <td>2019-06-20</td>\n",
       "      <td>0</td>\n",
       "    </tr>\n",
       "    <tr>\n",
       "      <th>2380</th>\n",
       "      <td>2788</td>\n",
       "      <td>30.0</td>\n",
       "      <td>0.0</td>\n",
       "      <td>C27</td>\n",
       "      <td>2.0</td>\n",
       "      <td>70254.0</td>\n",
       "      <td>70254.0</td>\n",
       "      <td>2.0</td>\n",
       "      <td>2.0</td>\n",
       "      <td>2298240.0</td>\n",
       "      <td>2.0</td>\n",
       "      <td>1.0</td>\n",
       "      <td>NaT</td>\n",
       "      <td>1</td>\n",
       "    </tr>\n",
       "  </tbody>\n",
       "</table>\n",
       "<p>2381 rows × 14 columns</p>\n",
       "</div>"
      ],
      "text/plain": [
       "      Driver_ID   Age  Gender City  Education  First_Income  Last_Income  \\\n",
       "0             1  28.0     0.0  C23        2.0       57387.0      57387.0   \n",
       "1             2  31.0     0.0   C7        2.0       67016.0      67016.0   \n",
       "2             4  43.0     0.0  C13        2.0       65603.0      65603.0   \n",
       "3             5  29.0     0.0   C9        0.0       46368.0      46368.0   \n",
       "4             6  31.0     1.0  C11        1.0       78728.0      78728.0   \n",
       "...         ...   ...     ...  ...        ...           ...          ...   \n",
       "2376       2784  34.0     0.0  C24        0.0       82815.0      82815.0   \n",
       "2377       2785  34.0     1.0   C9        0.0       12105.0      12105.0   \n",
       "2378       2786  45.0     0.0  C19        0.0       35370.0      35370.0   \n",
       "2379       2787  28.0     1.0  C20        2.0       69498.0      69498.0   \n",
       "2380       2788  30.0     0.0  C27        2.0       70254.0      70254.0   \n",
       "\n",
       "      Joining_Designation  Grade  Total_Business_Value  Last_Quarterly_Rating  \\\n",
       "0                     1.0    1.0             1715580.0                    2.0   \n",
       "1                     2.0    2.0                   0.0                    1.0   \n",
       "2                     2.0    2.0              350000.0                    1.0   \n",
       "3                     1.0    1.0              120360.0                    1.0   \n",
       "4                     3.0    3.0             1265000.0                    2.0   \n",
       "...                   ...    ...                   ...                    ...   \n",
       "2376                  2.0    3.0            21748820.0                    4.0   \n",
       "2377                  1.0    1.0                   0.0                    1.0   \n",
       "2378                  2.0    2.0             2815090.0                    1.0   \n",
       "2379                  1.0    1.0              977830.0                    1.0   \n",
       "2380                  2.0    2.0             2298240.0                    2.0   \n",
       "\n",
       "      First_Quarterly_Rating LastWorkingDate  Quarterly_Rating_Increased  \n",
       "0                        2.0      2019-03-11                           0  \n",
       "1                        1.0             NaT                           0  \n",
       "2                        1.0      2020-04-27                           0  \n",
       "3                        1.0      2019-03-07                           0  \n",
       "4                        1.0             NaT                           1  \n",
       "...                      ...             ...                         ...  \n",
       "2376                     3.0             NaT                           1  \n",
       "2377                     1.0      2020-10-28                           0  \n",
       "2378                     2.0      2019-09-22                           0  \n",
       "2379                     2.0      2019-06-20                           0  \n",
       "2380                     1.0             NaT                           1  \n",
       "\n",
       "[2381 rows x 14 columns]"
      ]
     },
     "execution_count": 534,
     "metadata": {},
     "output_type": "execute_result"
    }
   ],
   "source": [
    "df1"
   ]
  },
  {
   "cell_type": "code",
   "execution_count": 535,
   "id": "ea2fb5e0",
   "metadata": {},
   "outputs": [
    {
     "data": {
      "text/plain": [
       "0    2023\n",
       "1     358\n",
       "Name: Quarterly_Rating_Increased, dtype: int64"
      ]
     },
     "execution_count": 535,
     "metadata": {},
     "output_type": "execute_result"
    }
   ],
   "source": [
    "df1['Quarterly_Rating_Increased'].value_counts()"
   ]
  },
  {
   "cell_type": "markdown",
   "id": "31e32858",
   "metadata": {},
   "source": [
    "#### 1. Creating a column called target which tells if the person has left the company\n",
    "#### 2. Persons who have a last working date will have the value 1\n",
    "#### 3. The dataset which has the employee ids and specifies if last working date is null and the employee ids who do not have last working date are assigned 0.\n"
   ]
  },
  {
   "cell_type": "code",
   "execution_count": 536,
   "id": "538e52d3",
   "metadata": {},
   "outputs": [],
   "source": [
    "# df1['LastWorkingDate'].apply(lambda x: 0 if x == None else 1)\n",
    "df1['Target'] = np.where(pd.notnull(df1[['LastWorkingDate']]), 1,0)"
   ]
  },
  {
   "cell_type": "code",
   "execution_count": 537,
   "id": "93ec2d1c",
   "metadata": {},
   "outputs": [
    {
     "data": {
      "text/html": [
       "<div>\n",
       "<style scoped>\n",
       "    .dataframe tbody tr th:only-of-type {\n",
       "        vertical-align: middle;\n",
       "    }\n",
       "\n",
       "    .dataframe tbody tr th {\n",
       "        vertical-align: top;\n",
       "    }\n",
       "\n",
       "    .dataframe thead th {\n",
       "        text-align: right;\n",
       "    }\n",
       "</style>\n",
       "<table border=\"1\" class=\"dataframe\">\n",
       "  <thead>\n",
       "    <tr style=\"text-align: right;\">\n",
       "      <th></th>\n",
       "      <th>Driver_ID</th>\n",
       "      <th>Age</th>\n",
       "      <th>Gender</th>\n",
       "      <th>City</th>\n",
       "      <th>Education</th>\n",
       "      <th>First_Income</th>\n",
       "      <th>Last_Income</th>\n",
       "      <th>Joining_Designation</th>\n",
       "      <th>Grade</th>\n",
       "      <th>Total_Business_Value</th>\n",
       "      <th>Last_Quarterly_Rating</th>\n",
       "      <th>First_Quarterly_Rating</th>\n",
       "      <th>LastWorkingDate</th>\n",
       "      <th>Quarterly_Rating_Increased</th>\n",
       "      <th>Target</th>\n",
       "    </tr>\n",
       "  </thead>\n",
       "  <tbody>\n",
       "    <tr>\n",
       "      <th>0</th>\n",
       "      <td>1</td>\n",
       "      <td>28.0</td>\n",
       "      <td>0.0</td>\n",
       "      <td>C23</td>\n",
       "      <td>2.0</td>\n",
       "      <td>57387.0</td>\n",
       "      <td>57387.0</td>\n",
       "      <td>1.0</td>\n",
       "      <td>1.0</td>\n",
       "      <td>1715580.0</td>\n",
       "      <td>2.0</td>\n",
       "      <td>2.0</td>\n",
       "      <td>2019-03-11</td>\n",
       "      <td>0</td>\n",
       "      <td>1</td>\n",
       "    </tr>\n",
       "    <tr>\n",
       "      <th>1</th>\n",
       "      <td>2</td>\n",
       "      <td>31.0</td>\n",
       "      <td>0.0</td>\n",
       "      <td>C7</td>\n",
       "      <td>2.0</td>\n",
       "      <td>67016.0</td>\n",
       "      <td>67016.0</td>\n",
       "      <td>2.0</td>\n",
       "      <td>2.0</td>\n",
       "      <td>0.0</td>\n",
       "      <td>1.0</td>\n",
       "      <td>1.0</td>\n",
       "      <td>NaT</td>\n",
       "      <td>0</td>\n",
       "      <td>0</td>\n",
       "    </tr>\n",
       "    <tr>\n",
       "      <th>2</th>\n",
       "      <td>4</td>\n",
       "      <td>43.0</td>\n",
       "      <td>0.0</td>\n",
       "      <td>C13</td>\n",
       "      <td>2.0</td>\n",
       "      <td>65603.0</td>\n",
       "      <td>65603.0</td>\n",
       "      <td>2.0</td>\n",
       "      <td>2.0</td>\n",
       "      <td>350000.0</td>\n",
       "      <td>1.0</td>\n",
       "      <td>1.0</td>\n",
       "      <td>2020-04-27</td>\n",
       "      <td>0</td>\n",
       "      <td>1</td>\n",
       "    </tr>\n",
       "    <tr>\n",
       "      <th>3</th>\n",
       "      <td>5</td>\n",
       "      <td>29.0</td>\n",
       "      <td>0.0</td>\n",
       "      <td>C9</td>\n",
       "      <td>0.0</td>\n",
       "      <td>46368.0</td>\n",
       "      <td>46368.0</td>\n",
       "      <td>1.0</td>\n",
       "      <td>1.0</td>\n",
       "      <td>120360.0</td>\n",
       "      <td>1.0</td>\n",
       "      <td>1.0</td>\n",
       "      <td>2019-03-07</td>\n",
       "      <td>0</td>\n",
       "      <td>1</td>\n",
       "    </tr>\n",
       "    <tr>\n",
       "      <th>4</th>\n",
       "      <td>6</td>\n",
       "      <td>31.0</td>\n",
       "      <td>1.0</td>\n",
       "      <td>C11</td>\n",
       "      <td>1.0</td>\n",
       "      <td>78728.0</td>\n",
       "      <td>78728.0</td>\n",
       "      <td>3.0</td>\n",
       "      <td>3.0</td>\n",
       "      <td>1265000.0</td>\n",
       "      <td>2.0</td>\n",
       "      <td>1.0</td>\n",
       "      <td>NaT</td>\n",
       "      <td>1</td>\n",
       "      <td>0</td>\n",
       "    </tr>\n",
       "  </tbody>\n",
       "</table>\n",
       "</div>"
      ],
      "text/plain": [
       "   Driver_ID   Age  Gender City  Education  First_Income  Last_Income  \\\n",
       "0          1  28.0     0.0  C23        2.0       57387.0      57387.0   \n",
       "1          2  31.0     0.0   C7        2.0       67016.0      67016.0   \n",
       "2          4  43.0     0.0  C13        2.0       65603.0      65603.0   \n",
       "3          5  29.0     0.0   C9        0.0       46368.0      46368.0   \n",
       "4          6  31.0     1.0  C11        1.0       78728.0      78728.0   \n",
       "\n",
       "   Joining_Designation  Grade  Total_Business_Value  Last_Quarterly_Rating  \\\n",
       "0                  1.0    1.0             1715580.0                    2.0   \n",
       "1                  2.0    2.0                   0.0                    1.0   \n",
       "2                  2.0    2.0              350000.0                    1.0   \n",
       "3                  1.0    1.0              120360.0                    1.0   \n",
       "4                  3.0    3.0             1265000.0                    2.0   \n",
       "\n",
       "   First_Quarterly_Rating LastWorkingDate  Quarterly_Rating_Increased  Target  \n",
       "0                     2.0      2019-03-11                           0       1  \n",
       "1                     1.0             NaT                           0       0  \n",
       "2                     1.0      2020-04-27                           0       1  \n",
       "3                     1.0      2019-03-07                           0       1  \n",
       "4                     1.0             NaT                           1       0  "
      ]
     },
     "execution_count": 537,
     "metadata": {},
     "output_type": "execute_result"
    }
   ],
   "source": [
    "df1.head()"
   ]
  },
  {
   "cell_type": "markdown",
   "id": "49eb7459",
   "metadata": {},
   "source": [
    "### Creating a column which tells if the monthly income has increased for that employee\n",
    "### for those whose monthly income has increased we assign the value 1"
   ]
  },
  {
   "cell_type": "code",
   "execution_count": 538,
   "id": "d612f780",
   "metadata": {},
   "outputs": [],
   "source": [
    "df1['Income_Increased'] = np.where(df1['Last_Income'] - df1['First_Income'] > 0, 1,0)"
   ]
  },
  {
   "cell_type": "code",
   "execution_count": 539,
   "id": "9f977981",
   "metadata": {},
   "outputs": [
    {
     "data": {
      "text/plain": [
       "0    2338\n",
       "1      43\n",
       "Name: Income_Increased, dtype: int64"
      ]
     },
     "execution_count": 539,
     "metadata": {},
     "output_type": "execute_result"
    }
   ],
   "source": [
    "df1['Income_Increased'].value_counts()"
   ]
  },
  {
   "cell_type": "code",
   "execution_count": 540,
   "id": "06cbb4ea",
   "metadata": {},
   "outputs": [
    {
     "data": {
      "text/html": [
       "<div>\n",
       "<style scoped>\n",
       "    .dataframe tbody tr th:only-of-type {\n",
       "        vertical-align: middle;\n",
       "    }\n",
       "\n",
       "    .dataframe tbody tr th {\n",
       "        vertical-align: top;\n",
       "    }\n",
       "\n",
       "    .dataframe thead th {\n",
       "        text-align: right;\n",
       "    }\n",
       "</style>\n",
       "<table border=\"1\" class=\"dataframe\">\n",
       "  <thead>\n",
       "    <tr style=\"text-align: right;\">\n",
       "      <th></th>\n",
       "      <th>Driver_ID</th>\n",
       "      <th>Age</th>\n",
       "      <th>Gender</th>\n",
       "      <th>City</th>\n",
       "      <th>Education</th>\n",
       "      <th>First_Income</th>\n",
       "      <th>Last_Income</th>\n",
       "      <th>Joining_Designation</th>\n",
       "      <th>Grade</th>\n",
       "      <th>Total_Business_Value</th>\n",
       "      <th>Last_Quarterly_Rating</th>\n",
       "      <th>First_Quarterly_Rating</th>\n",
       "      <th>LastWorkingDate</th>\n",
       "      <th>Quarterly_Rating_Increased</th>\n",
       "      <th>Target</th>\n",
       "      <th>Income_Increased</th>\n",
       "    </tr>\n",
       "  </thead>\n",
       "  <tbody>\n",
       "    <tr>\n",
       "      <th>0</th>\n",
       "      <td>1</td>\n",
       "      <td>28.0</td>\n",
       "      <td>0.0</td>\n",
       "      <td>C23</td>\n",
       "      <td>2.0</td>\n",
       "      <td>57387.0</td>\n",
       "      <td>57387.0</td>\n",
       "      <td>1.0</td>\n",
       "      <td>1.0</td>\n",
       "      <td>1715580.0</td>\n",
       "      <td>2.0</td>\n",
       "      <td>2.0</td>\n",
       "      <td>2019-03-11</td>\n",
       "      <td>0</td>\n",
       "      <td>1</td>\n",
       "      <td>0</td>\n",
       "    </tr>\n",
       "    <tr>\n",
       "      <th>1</th>\n",
       "      <td>2</td>\n",
       "      <td>31.0</td>\n",
       "      <td>0.0</td>\n",
       "      <td>C7</td>\n",
       "      <td>2.0</td>\n",
       "      <td>67016.0</td>\n",
       "      <td>67016.0</td>\n",
       "      <td>2.0</td>\n",
       "      <td>2.0</td>\n",
       "      <td>0.0</td>\n",
       "      <td>1.0</td>\n",
       "      <td>1.0</td>\n",
       "      <td>NaT</td>\n",
       "      <td>0</td>\n",
       "      <td>0</td>\n",
       "      <td>0</td>\n",
       "    </tr>\n",
       "    <tr>\n",
       "      <th>2</th>\n",
       "      <td>4</td>\n",
       "      <td>43.0</td>\n",
       "      <td>0.0</td>\n",
       "      <td>C13</td>\n",
       "      <td>2.0</td>\n",
       "      <td>65603.0</td>\n",
       "      <td>65603.0</td>\n",
       "      <td>2.0</td>\n",
       "      <td>2.0</td>\n",
       "      <td>350000.0</td>\n",
       "      <td>1.0</td>\n",
       "      <td>1.0</td>\n",
       "      <td>2020-04-27</td>\n",
       "      <td>0</td>\n",
       "      <td>1</td>\n",
       "      <td>0</td>\n",
       "    </tr>\n",
       "    <tr>\n",
       "      <th>3</th>\n",
       "      <td>5</td>\n",
       "      <td>29.0</td>\n",
       "      <td>0.0</td>\n",
       "      <td>C9</td>\n",
       "      <td>0.0</td>\n",
       "      <td>46368.0</td>\n",
       "      <td>46368.0</td>\n",
       "      <td>1.0</td>\n",
       "      <td>1.0</td>\n",
       "      <td>120360.0</td>\n",
       "      <td>1.0</td>\n",
       "      <td>1.0</td>\n",
       "      <td>2019-03-07</td>\n",
       "      <td>0</td>\n",
       "      <td>1</td>\n",
       "      <td>0</td>\n",
       "    </tr>\n",
       "    <tr>\n",
       "      <th>4</th>\n",
       "      <td>6</td>\n",
       "      <td>31.0</td>\n",
       "      <td>1.0</td>\n",
       "      <td>C11</td>\n",
       "      <td>1.0</td>\n",
       "      <td>78728.0</td>\n",
       "      <td>78728.0</td>\n",
       "      <td>3.0</td>\n",
       "      <td>3.0</td>\n",
       "      <td>1265000.0</td>\n",
       "      <td>2.0</td>\n",
       "      <td>1.0</td>\n",
       "      <td>NaT</td>\n",
       "      <td>1</td>\n",
       "      <td>0</td>\n",
       "      <td>0</td>\n",
       "    </tr>\n",
       "  </tbody>\n",
       "</table>\n",
       "</div>"
      ],
      "text/plain": [
       "   Driver_ID   Age  Gender City  Education  First_Income  Last_Income  \\\n",
       "0          1  28.0     0.0  C23        2.0       57387.0      57387.0   \n",
       "1          2  31.0     0.0   C7        2.0       67016.0      67016.0   \n",
       "2          4  43.0     0.0  C13        2.0       65603.0      65603.0   \n",
       "3          5  29.0     0.0   C9        0.0       46368.0      46368.0   \n",
       "4          6  31.0     1.0  C11        1.0       78728.0      78728.0   \n",
       "\n",
       "   Joining_Designation  Grade  Total_Business_Value  Last_Quarterly_Rating  \\\n",
       "0                  1.0    1.0             1715580.0                    2.0   \n",
       "1                  2.0    2.0                   0.0                    1.0   \n",
       "2                  2.0    2.0              350000.0                    1.0   \n",
       "3                  1.0    1.0              120360.0                    1.0   \n",
       "4                  3.0    3.0             1265000.0                    2.0   \n",
       "\n",
       "   First_Quarterly_Rating LastWorkingDate  Quarterly_Rating_Increased  Target  \\\n",
       "0                     2.0      2019-03-11                           0       1   \n",
       "1                     1.0             NaT                           0       0   \n",
       "2                     1.0      2020-04-27                           0       1   \n",
       "3                     1.0      2019-03-07                           0       1   \n",
       "4                     1.0             NaT                           1       0   \n",
       "\n",
       "   Income_Increased  \n",
       "0                 0  \n",
       "1                 0  \n",
       "2                 0  \n",
       "3                 0  \n",
       "4                 0  "
      ]
     },
     "execution_count": 540,
     "metadata": {},
     "output_type": "execute_result"
    }
   ],
   "source": [
    "df1.head()"
   ]
  },
  {
   "cell_type": "markdown",
   "id": "0e627933",
   "metadata": {},
   "source": [
    "## Data Analysis"
   ]
  },
  {
   "cell_type": "code",
   "execution_count": 543,
   "id": "d96c54eb",
   "metadata": {},
   "outputs": [
    {
     "data": {
      "text/plain": [
       "1    67.870643\n",
       "0    32.129357\n",
       "Name: Target, dtype: float64"
      ]
     },
     "execution_count": 543,
     "metadata": {},
     "output_type": "execute_result"
    }
   ],
   "source": [
    "df1['Target'].value_counts(normalize= True)*100"
   ]
  },
  {
   "cell_type": "markdown",
   "id": "5396e95e",
   "metadata": {},
   "source": [
    "#### Observation - Around 68% driver have left the organization."
   ]
  },
  {
   "cell_type": "code",
   "execution_count": 563,
   "id": "526fbd58",
   "metadata": {},
   "outputs": [
    {
     "data": {
      "text/plain": [
       "<AxesSubplot:>"
      ]
     },
     "execution_count": 563,
     "metadata": {},
     "output_type": "execute_result"
    },
    {
     "data": {
      "image/png": "[encoded data removed]",
      "text/plain": [
       "<Figure size 432x288 with 1 Axes>"
      ]
     },
     "metadata": {
      "needs_background": "light"
     },
     "output_type": "display_data"
    }
   ],
   "source": [
    "df1['Target'].value_counts(normalize=True).plot(kind='bar')"
   ]
  },
  {
   "cell_type": "code",
   "execution_count": 549,
   "id": "b32aca53",
   "metadata": {},
   "outputs": [
    {
     "data": {
      "text/plain": [
       "1    1616\n",
       "0     765\n",
       "Name: Target, dtype: int64"
      ]
     },
     "execution_count": 549,
     "metadata": {},
     "output_type": "execute_result"
    }
   ],
   "source": [
    "df1['Target'].value_counts()"
   ]
  },
  {
   "cell_type": "code",
   "execution_count": 586,
   "id": "288e7caf",
   "metadata": {},
   "outputs": [
    {
     "data": {
      "text/plain": [
       "<AxesSubplot:xlabel='Last_Quarterly_Rating', ylabel='count'>"
      ]
     },
     "execution_count": 586,
     "metadata": {},
     "output_type": "execute_result"
    },
    {
     "data": {
      "image/png": "[encoded data removed]",
      "text/plain": [
       "<Figure size 432x288 with 1 Axes>"
      ]
     },
     "metadata": {
      "needs_background": "light"
     },
     "output_type": "display_data"
    }
   ],
   "source": [
    "sns.countplot(data= df1, x = 'Last_Quarterly_Rating', hue = 'Target')"
   ]
  },
  {
   "cell_type": "code",
   "execution_count": 590,
   "id": "32a9ec3c",
   "metadata": {},
   "outputs": [
    {
     "name": "stderr",
     "output_type": "stream",
     "text": [
      "C:\\Users\\Friends\\anaconda3\\lib\\site-packages\\seaborn\\distributions.py:2557: FutureWarning: `distplot` is a deprecated function and will be removed in a future version. Please adapt your code to use either `displot` (a figure-level function with similar flexibility) or `histplot` (an axes-level function for histograms).\n",
      "  warnings.warn(msg, FutureWarning)\n"
     ]
    },
    {
     "data": {
      "text/plain": [
       "<AxesSubplot:xlabel='Total_Business_Value', ylabel='Density'>"
      ]
     },
     "execution_count": 590,
     "metadata": {},
     "output_type": "execute_result"
    },
    {
     "data": {
      "image/png": "[encoded data removed]",
      "text/plain": [
       "<Figure size 432x288 with 1 Axes>"
      ]
     },
     "metadata": {
      "needs_background": "light"
     },
     "output_type": "display_data"
    }
   ],
   "source": [
    "sns.distplot(df1['Total_Business_Value'])"
   ]
  },
  {
   "cell_type": "code",
   "execution_count": 582,
   "id": "0acc37db",
   "metadata": {},
   "outputs": [
    {
     "data": {
      "text/plain": [
       "<AxesSubplot:xlabel='Last_Quarterly_Rating', ylabel='Total_Business_Value'>"
      ]
     },
     "execution_count": 582,
     "metadata": {},
     "output_type": "execute_result"
    },
    {
     "data": {
      "image/png": "[encoded data removed]",
      "text/plain": [
       "<Figure size 432x288 with 1 Axes>"
      ]
     },
     "metadata": {
      "needs_background": "light"
     },
     "output_type": "display_data"
    }
   ],
   "source": [
    "sns.boxplot (data=df1, x='Last_Quarterly_Rating', y='Total_Business_Value',hue='Target')"
   ]
  },
  {
   "cell_type": "code",
   "execution_count": 583,
   "id": "41b29bc9",
   "metadata": {},
   "outputs": [
    {
     "data": {
      "text/plain": [
       "<AxesSubplot:xlabel='Education', ylabel='Total_Business_Value'>"
      ]
     },
     "execution_count": 583,
     "metadata": {},
     "output_type": "execute_result"
    },
    {
     "data": {
      "image/png": "[encoded data removed]",
      "text/plain": [
       "<Figure size 432x288 with 1 Axes>"
      ]
     },
     "metadata": {
      "needs_background": "light"
     },
     "output_type": "display_data"
    }
   ],
   "source": [
    "sns.boxplot (data=df1, x='Education', y='Total_Business_Value',hue='Target')"
   ]
  },
  {
   "cell_type": "markdown",
   "id": "36abc3ae",
   "metadata": {},
   "source": [
    "### Statistical Summary\n"
   ]
  },
  {
   "cell_type": "code",
   "execution_count": 410,
   "id": "57e9cac7",
   "metadata": {},
   "outputs": [
    {
     "data": {
      "text/html": [
       "<div>\n",
       "<style scoped>\n",
       "    .dataframe tbody tr th:only-of-type {\n",
       "        vertical-align: middle;\n",
       "    }\n",
       "\n",
       "    .dataframe tbody tr th {\n",
       "        vertical-align: top;\n",
       "    }\n",
       "\n",
       "    .dataframe thead th {\n",
       "        text-align: right;\n",
       "    }\n",
       "</style>\n",
       "<table border=\"1\" class=\"dataframe\">\n",
       "  <thead>\n",
       "    <tr style=\"text-align: right;\">\n",
       "      <th></th>\n",
       "      <th>count</th>\n",
       "      <th>mean</th>\n",
       "      <th>std</th>\n",
       "      <th>min</th>\n",
       "      <th>25%</th>\n",
       "      <th>50%</th>\n",
       "      <th>75%</th>\n",
       "      <th>max</th>\n",
       "    </tr>\n",
       "  </thead>\n",
       "  <tbody>\n",
       "    <tr>\n",
       "      <th>Driver_ID</th>\n",
       "      <td>2381.0</td>\n",
       "      <td>1.397559e+03</td>\n",
       "      <td>8.061616e+02</td>\n",
       "      <td>1.0</td>\n",
       "      <td>695.0</td>\n",
       "      <td>1400.0</td>\n",
       "      <td>2100.0</td>\n",
       "      <td>2788.0</td>\n",
       "    </tr>\n",
       "    <tr>\n",
       "      <th>Age</th>\n",
       "      <td>2381.0</td>\n",
       "      <td>3.376354e+01</td>\n",
       "      <td>5.946568e+00</td>\n",
       "      <td>21.0</td>\n",
       "      <td>30.0</td>\n",
       "      <td>33.0</td>\n",
       "      <td>37.0</td>\n",
       "      <td>58.0</td>\n",
       "    </tr>\n",
       "    <tr>\n",
       "      <th>Gender</th>\n",
       "      <td>2381.0</td>\n",
       "      <td>4.103318e-01</td>\n",
       "      <td>4.916175e-01</td>\n",
       "      <td>0.0</td>\n",
       "      <td>0.0</td>\n",
       "      <td>0.0</td>\n",
       "      <td>1.0</td>\n",
       "      <td>1.0</td>\n",
       "    </tr>\n",
       "    <tr>\n",
       "      <th>Education</th>\n",
       "      <td>2381.0</td>\n",
       "      <td>1.007560e+00</td>\n",
       "      <td>8.162900e-01</td>\n",
       "      <td>0.0</td>\n",
       "      <td>0.0</td>\n",
       "      <td>1.0</td>\n",
       "      <td>2.0</td>\n",
       "      <td>2.0</td>\n",
       "    </tr>\n",
       "    <tr>\n",
       "      <th>First_Income</th>\n",
       "      <td>2381.0</td>\n",
       "      <td>5.920906e+04</td>\n",
       "      <td>2.827590e+04</td>\n",
       "      <td>10747.0</td>\n",
       "      <td>39104.0</td>\n",
       "      <td>55276.0</td>\n",
       "      <td>75765.0</td>\n",
       "      <td>188418.0</td>\n",
       "    </tr>\n",
       "    <tr>\n",
       "      <th>Last_Income</th>\n",
       "      <td>2381.0</td>\n",
       "      <td>5.933416e+04</td>\n",
       "      <td>2.838367e+04</td>\n",
       "      <td>10747.0</td>\n",
       "      <td>39104.0</td>\n",
       "      <td>55315.0</td>\n",
       "      <td>75986.0</td>\n",
       "      <td>188418.0</td>\n",
       "    </tr>\n",
       "    <tr>\n",
       "      <th>Joining_Designation</th>\n",
       "      <td>2381.0</td>\n",
       "      <td>1.820244e+00</td>\n",
       "      <td>8.414334e-01</td>\n",
       "      <td>1.0</td>\n",
       "      <td>1.0</td>\n",
       "      <td>2.0</td>\n",
       "      <td>2.0</td>\n",
       "      <td>5.0</td>\n",
       "    </tr>\n",
       "    <tr>\n",
       "      <th>Grade</th>\n",
       "      <td>2381.0</td>\n",
       "      <td>2.096598e+00</td>\n",
       "      <td>9.415218e-01</td>\n",
       "      <td>1.0</td>\n",
       "      <td>1.0</td>\n",
       "      <td>2.0</td>\n",
       "      <td>3.0</td>\n",
       "      <td>5.0</td>\n",
       "    </tr>\n",
       "    <tr>\n",
       "      <th>Total_Business_Value</th>\n",
       "      <td>2381.0</td>\n",
       "      <td>4.586742e+06</td>\n",
       "      <td>9.127115e+06</td>\n",
       "      <td>-1385530.0</td>\n",
       "      <td>0.0</td>\n",
       "      <td>817680.0</td>\n",
       "      <td>4173650.0</td>\n",
       "      <td>95331060.0</td>\n",
       "    </tr>\n",
       "    <tr>\n",
       "      <th>Last_Quarterly_Rating</th>\n",
       "      <td>2381.0</td>\n",
       "      <td>1.427971e+00</td>\n",
       "      <td>8.098389e-01</td>\n",
       "      <td>1.0</td>\n",
       "      <td>1.0</td>\n",
       "      <td>1.0</td>\n",
       "      <td>2.0</td>\n",
       "      <td>4.0</td>\n",
       "    </tr>\n",
       "    <tr>\n",
       "      <th>First_Quarterly_Rating</th>\n",
       "      <td>2381.0</td>\n",
       "      <td>1.486350e+00</td>\n",
       "      <td>8.343483e-01</td>\n",
       "      <td>1.0</td>\n",
       "      <td>1.0</td>\n",
       "      <td>1.0</td>\n",
       "      <td>2.0</td>\n",
       "      <td>4.0</td>\n",
       "    </tr>\n",
       "    <tr>\n",
       "      <th>Quarterly_Rating_Increased</th>\n",
       "      <td>2381.0</td>\n",
       "      <td>1.503570e-01</td>\n",
       "      <td>3.574961e-01</td>\n",
       "      <td>0.0</td>\n",
       "      <td>0.0</td>\n",
       "      <td>0.0</td>\n",
       "      <td>0.0</td>\n",
       "      <td>1.0</td>\n",
       "    </tr>\n",
       "    <tr>\n",
       "      <th>Target</th>\n",
       "      <td>2381.0</td>\n",
       "      <td>6.787064e-01</td>\n",
       "      <td>4.670713e-01</td>\n",
       "      <td>0.0</td>\n",
       "      <td>0.0</td>\n",
       "      <td>1.0</td>\n",
       "      <td>1.0</td>\n",
       "      <td>1.0</td>\n",
       "    </tr>\n",
       "    <tr>\n",
       "      <th>Income_Increased</th>\n",
       "      <td>2381.0</td>\n",
       "      <td>1.805964e-02</td>\n",
       "      <td>1.331951e-01</td>\n",
       "      <td>0.0</td>\n",
       "      <td>0.0</td>\n",
       "      <td>0.0</td>\n",
       "      <td>0.0</td>\n",
       "      <td>1.0</td>\n",
       "    </tr>\n",
       "  </tbody>\n",
       "</table>\n",
       "</div>"
      ],
      "text/plain": [
       "                             count          mean           std        min  \\\n",
       "Driver_ID                   2381.0  1.397559e+03  8.061616e+02        1.0   \n",
       "Age                         2381.0  3.376354e+01  5.946568e+00       21.0   \n",
       "Gender                      2381.0  4.103318e-01  4.916175e-01        0.0   \n",
       "Education                   2381.0  1.007560e+00  8.162900e-01        0.0   \n",
       "First_Income                2381.0  5.920906e+04  2.827590e+04    10747.0   \n",
       "Last_Income                 2381.0  5.933416e+04  2.838367e+04    10747.0   \n",
       "Joining_Designation         2381.0  1.820244e+00  8.414334e-01        1.0   \n",
       "Grade                       2381.0  2.096598e+00  9.415218e-01        1.0   \n",
       "Total_Business_Value        2381.0  4.586742e+06  9.127115e+06 -1385530.0   \n",
       "Last_Quarterly_Rating       2381.0  1.427971e+00  8.098389e-01        1.0   \n",
       "First_Quarterly_Rating      2381.0  1.486350e+00  8.343483e-01        1.0   \n",
       "Quarterly_Rating_Increased  2381.0  1.503570e-01  3.574961e-01        0.0   \n",
       "Target                      2381.0  6.787064e-01  4.670713e-01        0.0   \n",
       "Income_Increased            2381.0  1.805964e-02  1.331951e-01        0.0   \n",
       "\n",
       "                                25%       50%        75%         max  \n",
       "Driver_ID                     695.0    1400.0     2100.0      2788.0  \n",
       "Age                            30.0      33.0       37.0        58.0  \n",
       "Gender                          0.0       0.0        1.0         1.0  \n",
       "Education                       0.0       1.0        2.0         2.0  \n",
       "First_Income                39104.0   55276.0    75765.0    188418.0  \n",
       "Last_Income                 39104.0   55315.0    75986.0    188418.0  \n",
       "Joining_Designation             1.0       2.0        2.0         5.0  \n",
       "Grade                           1.0       2.0        3.0         5.0  \n",
       "Total_Business_Value            0.0  817680.0  4173650.0  95331060.0  \n",
       "Last_Quarterly_Rating           1.0       1.0        2.0         4.0  \n",
       "First_Quarterly_Rating          1.0       1.0        2.0         4.0  \n",
       "Quarterly_Rating_Increased      0.0       0.0        0.0         1.0  \n",
       "Target                          0.0       1.0        1.0         1.0  \n",
       "Income_Increased                0.0       0.0        0.0         1.0  "
      ]
     },
     "execution_count": 410,
     "metadata": {},
     "output_type": "execute_result"
    }
   ],
   "source": [
    "df1.describe().T"
   ]
  },
  {
   "cell_type": "markdown",
   "id": "8c14e97d",
   "metadata": {},
   "source": [
    "#### Observation\n",
    "- There are 2381 employees in the dataset. The minimum age of the employee in the data is 21 years and the maximum age is 58 years. 75% of the employees have their monthly income less than or equal to 75,986 units. 50% of the mployees have acquired 8,17,680 as the their total business value."
   ]
  },
  {
   "cell_type": "code",
   "execution_count": 411,
   "id": "0c25d609",
   "metadata": {},
   "outputs": [
    {
     "data": {
      "text/html": [
       "<div>\n",
       "<style scoped>\n",
       "    .dataframe tbody tr th:only-of-type {\n",
       "        vertical-align: middle;\n",
       "    }\n",
       "\n",
       "    .dataframe tbody tr th {\n",
       "        vertical-align: top;\n",
       "    }\n",
       "\n",
       "    .dataframe thead th {\n",
       "        text-align: right;\n",
       "    }\n",
       "</style>\n",
       "<table border=\"1\" class=\"dataframe\">\n",
       "  <thead>\n",
       "    <tr style=\"text-align: right;\">\n",
       "      <th></th>\n",
       "      <th>City</th>\n",
       "    </tr>\n",
       "  </thead>\n",
       "  <tbody>\n",
       "    <tr>\n",
       "      <th>count</th>\n",
       "      <td>2381</td>\n",
       "    </tr>\n",
       "    <tr>\n",
       "      <th>unique</th>\n",
       "      <td>29</td>\n",
       "    </tr>\n",
       "    <tr>\n",
       "      <th>top</th>\n",
       "      <td>C20</td>\n",
       "    </tr>\n",
       "    <tr>\n",
       "      <th>freq</th>\n",
       "      <td>152</td>\n",
       "    </tr>\n",
       "  </tbody>\n",
       "</table>\n",
       "</div>"
      ],
      "text/plain": [
       "        City\n",
       "count   2381\n",
       "unique    29\n",
       "top      C20\n",
       "freq     152"
      ]
     },
     "execution_count": 411,
     "metadata": {},
     "output_type": "execute_result"
    }
   ],
   "source": [
    "df1.describe(include = 'object')"
   ]
  },
  {
   "cell_type": "markdown",
   "id": "7f9f366f",
   "metadata": {},
   "source": [
    "- Most of the drivers in the dataset were male, lived in C20 city and have completed their graduation in education."
   ]
  },
  {
   "cell_type": "markdown",
   "id": "1eb7ac95",
   "metadata": {},
   "source": [
    "### 'City' column is a categorical feature, need to OHE, Target encoding to convert it to Numerical variable"
   ]
  },
  {
   "cell_type": "code",
   "execution_count": 412,
   "id": "c23b6b44",
   "metadata": {},
   "outputs": [],
   "source": [
    "from category_encoders import TargetEncoder"
   ]
  },
  {
   "cell_type": "code",
   "execution_count": 413,
   "id": "2a283e88",
   "metadata": {},
   "outputs": [
    {
     "name": "stderr",
     "output_type": "stream",
     "text": [
      "C:\\Users\\Friends\\anaconda3\\lib\\site-packages\\category_encoders\\target_encoder.py:92: FutureWarning: Default parameter min_samples_leaf will change in version 2.6.See https://github.com/scikit-learn-contrib/category_encoders/issues/327\n",
      "  warnings.warn(\"Default parameter min_samples_leaf will change in version 2.6.\"\n",
      "C:\\Users\\Friends\\anaconda3\\lib\\site-packages\\category_encoders\\target_encoder.py:97: FutureWarning: Default parameter smoothing will change in version 2.6.See https://github.com/scikit-learn-contrib/category_encoders/issues/327\n",
      "  warnings.warn(\"Default parameter smoothing will change in version 2.6.\"\n"
     ]
    },
    {
     "data": {
      "text/plain": [
       "0.730263    152\n",
       "0.683168    101\n",
       "0.531250     96\n",
       "0.698925     93\n",
       "0.674157     89\n",
       "0.595506     89\n",
       "0.709302     86\n",
       "0.595238     84\n",
       "0.634146     82\n",
       "0.719512     82\n",
       "0.609756     82\n",
       "0.654321     81\n",
       "0.700000     80\n",
       "0.600000     80\n",
       "0.607595     79\n",
       "0.734177     79\n",
       "0.705128     78\n",
       "0.675325     77\n",
       "0.684211     76\n",
       "0.706667     75\n",
       "0.770270     74\n",
       "0.729730     74\n",
       "0.698630     73\n",
       "0.569444     72\n",
       "0.763889     72\n",
       "0.774648     71\n",
       "0.816901     71\n",
       "0.637681     69\n",
       "0.703125     64\n",
       "Name: City, dtype: int64"
      ]
     },
     "execution_count": 413,
     "metadata": {},
     "output_type": "execute_result"
    }
   ],
   "source": [
    "te = TargetEncoder()\n",
    "cv = te.fit_transform(X = df1['City'], y = df1['Target'])\n",
    "df1['City'] = cv\n",
    "df1['City'].value_counts()"
   ]
  },
  {
   "cell_type": "code",
   "execution_count": 420,
   "id": "dd0581be",
   "metadata": {},
   "outputs": [
    {
     "data": {
      "text/plain": [
       "Driver_ID                              int64\n",
       "Age                                  float64\n",
       "Gender                               float64\n",
       "City                                 float64\n",
       "Education                            float64\n",
       "First_Income                         float64\n",
       "Last_Income                          float64\n",
       "Joining_Designation                  float64\n",
       "Grade                                float64\n",
       "Total_Business_Value                 float64\n",
       "Last_Quarterly_Rating                float64\n",
       "First_Quarterly_Rating               float64\n",
       "LastWorkingDate               datetime64[ns]\n",
       "Quarterly_Rating_Increased             int32\n",
       "Target                                 int32\n",
       "Income_Increased                       int32\n",
       "dtype: object"
      ]
     },
     "execution_count": 420,
     "metadata": {},
     "output_type": "execute_result"
    }
   ],
   "source": [
    "df1.dtypes"
   ]
  },
  {
   "cell_type": "code",
   "execution_count": 421,
   "id": "9349162e",
   "metadata": {},
   "outputs": [],
   "source": [
    "df1.drop(['LastWorkingDate', 'Driver_ID'], axis = 1, inplace = True)"
   ]
  },
  {
   "cell_type": "code",
   "execution_count": 422,
   "id": "1729b6cb",
   "metadata": {},
   "outputs": [
    {
     "data": {
      "text/plain": [
       "Age                           float64\n",
       "Gender                        float64\n",
       "City                          float64\n",
       "Education                     float64\n",
       "First_Income                  float64\n",
       "Last_Income                   float64\n",
       "Joining_Designation           float64\n",
       "Grade                         float64\n",
       "Total_Business_Value          float64\n",
       "Last_Quarterly_Rating         float64\n",
       "First_Quarterly_Rating        float64\n",
       "Quarterly_Rating_Increased      int32\n",
       "Target                          int32\n",
       "Income_Increased                int32\n",
       "dtype: object"
      ]
     },
     "execution_count": 422,
     "metadata": {},
     "output_type": "execute_result"
    }
   ],
   "source": [
    "# All categorical features are in numerical features\n",
    "df1.dtypes"
   ]
  },
  {
   "cell_type": "markdown",
   "id": "652db958",
   "metadata": {},
   "source": [
    "## Correlation\n",
    "#### need to check the correlation of features, which feature is more important"
   ]
  },
  {
   "cell_type": "code",
   "execution_count": 424,
   "id": "5ba620ad",
   "metadata": {},
   "outputs": [
    {
     "data": {
      "text/plain": [
       "<AxesSubplot:>"
      ]
     },
     "execution_count": 424,
     "metadata": {},
     "output_type": "execute_result"
    },
    {
     "data": {
      "image/png": "[encoded data removed]",
      "text/plain": [
       "<Figure size 3600x720 with 2 Axes>"
      ]
     },
     "metadata": {
      "needs_background": "light"
     },
     "output_type": "display_data"
    }
   ],
   "source": [
    "plt.figure(figsize= (50,10))\n",
    "sns.heatmap(df1.corr(method='pearson'), annot= True, square= True)"
   ]
  },
  {
   "cell_type": "markdown",
   "id": "1645b865",
   "metadata": {},
   "source": [
    "### Need to check whether data imbalanced or not"
   ]
  },
  {
   "cell_type": "code",
   "execution_count": 444,
   "id": "50d98c13",
   "metadata": {},
   "outputs": [
    {
     "data": {
      "text/plain": [
       "1    67.870643\n",
       "0    32.129357\n",
       "Name: Target, dtype: float64"
      ]
     },
     "execution_count": 444,
     "metadata": {},
     "output_type": "execute_result"
    }
   ],
   "source": [
    "y.value_counts(normalize= True)*100"
   ]
  },
  {
   "cell_type": "markdown",
   "id": "2fae13de",
   "metadata": {},
   "source": [
    "### Column standardization and Normalization\n",
    "- Mean centering and Variance scaling (Standard Scaling)\n",
    "- MinMax Scaling"
   ]
  },
  {
   "cell_type": "markdown",
   "id": "334b6232",
   "metadata": {},
   "source": [
    "### Scaling the data (Only done on training set)\n",
    "- Normalising the Dataset. The goal of normalization is to change the values of numeric columns in the dataset to a common scale, without distorting differences in the ranges of values."
   ]
  },
  {
   "cell_type": "markdown",
   "id": "4aa249da",
   "metadata": {},
   "source": [
    "#### Splitting data into train and test with 60%, 20%, and 20%"
   ]
  },
  {
   "cell_type": "code",
   "execution_count": 427,
   "id": "cf615c02",
   "metadata": {},
   "outputs": [],
   "source": [
    "from sklearn.model_selection import train_test_split, KFold"
   ]
  },
  {
   "cell_type": "code",
   "execution_count": 429,
   "id": "e0cd9d36",
   "metadata": {},
   "outputs": [],
   "source": [
    "X = df1.drop(columns = 'Target')\n",
    "y = df1['Target']"
   ]
  },
  {
   "cell_type": "code",
   "execution_count": 432,
   "id": "933c018d",
   "metadata": {},
   "outputs": [
    {
     "name": "stdout",
     "output_type": "stream",
     "text": [
      "(1428, 13)\n",
      "(476, 13)\n",
      "(477, 13)\n"
     ]
    }
   ],
   "source": [
    "X_tr_cv, X_test, y_tr_cv, y_test = train_test_split(X, y, test_size=0.2, random_state=4)\n",
    "X_train, X_val, y_train, y_val = train_test_split(X_tr_cv, y_tr_cv, test_size=0.25,random_state=4)\n",
    "print(X_train.shape)\n",
    "print(X_val.shape)\n",
    "print(X_test.shape)"
   ]
  },
  {
   "cell_type": "code",
   "execution_count": 433,
   "id": "3c9be45f",
   "metadata": {},
   "outputs": [],
   "source": [
    "from sklearn.preprocessing import StandardScaler, MinMaxScaler"
   ]
  },
  {
   "cell_type": "code",
   "execution_count": 435,
   "id": "98af21f8",
   "metadata": {},
   "outputs": [
    {
     "data": {
      "text/html": [
       "<style>#sk-container-id-1 {color: black;background-color: white;}#sk-container-id-1 pre{padding: 0;}#sk-container-id-1 div.sk-toggleable {background-color: white;}#sk-container-id-1 label.sk-toggleable__label {cursor: pointer;display: block;width: 100%;margin-bottom: 0;padding: 0.3em;box-sizing: border-box;text-align: center;}#sk-container-id-1 label.sk-toggleable__label-arrow:before {content: \"▸\";float: left;margin-right: 0.25em;color: #696969;}#sk-container-id-1 label.sk-toggleable__label-arrow:hover:before {color: black;}#sk-container-id-1 div.sk-estimator:hover label.sk-toggleable__label-arrow:before {color: black;}#sk-container-id-1 div.sk-toggleable__content {max-height: 0;max-width: 0;overflow: hidden;text-align: left;background-color: #f0f8ff;}#sk-container-id-1 div.sk-toggleable__content pre {margin: 0.2em;color: black;border-radius: 0.25em;background-color: #f0f8ff;}#sk-container-id-1 input.sk-toggleable__control:checked~div.sk-toggleable__content {max-height: 200px;max-width: 100%;overflow: auto;}#sk-container-id-1 input.sk-toggleable__control:checked~label.sk-toggleable__label-arrow:before {content: \"▾\";}#sk-container-id-1 div.sk-estimator input.sk-toggleable__control:checked~label.sk-toggleable__label {background-color: #d4ebff;}#sk-container-id-1 div.sk-label input.sk-toggleable__control:checked~label.sk-toggleable__label {background-color: #d4ebff;}#sk-container-id-1 input.sk-hidden--visually {border: 0;clip: rect(1px 1px 1px 1px);clip: rect(1px, 1px, 1px, 1px);height: 1px;margin: -1px;overflow: hidden;padding: 0;position: absolute;width: 1px;}#sk-container-id-1 div.sk-estimator {font-family: monospace;background-color: #f0f8ff;border: 1px dotted black;border-radius: 0.25em;box-sizing: border-box;margin-bottom: 0.5em;}#sk-container-id-1 div.sk-estimator:hover {background-color: #d4ebff;}#sk-container-id-1 div.sk-parallel-item::after {content: \"\";width: 100%;border-bottom: 1px solid gray;flex-grow: 1;}#sk-container-id-1 div.sk-label:hover label.sk-toggleable__label {background-color: #d4ebff;}#sk-container-id-1 div.sk-serial::before {content: \"\";position: absolute;border-left: 1px solid gray;box-sizing: border-box;top: 0;bottom: 0;left: 50%;z-index: 0;}#sk-container-id-1 div.sk-serial {display: flex;flex-direction: column;align-items: center;background-color: white;padding-right: 0.2em;padding-left: 0.2em;position: relative;}#sk-container-id-1 div.sk-item {position: relative;z-index: 1;}#sk-container-id-1 div.sk-parallel {display: flex;align-items: stretch;justify-content: center;background-color: white;position: relative;}#sk-container-id-1 div.sk-item::before, #sk-container-id-1 div.sk-parallel-item::before {content: \"\";position: absolute;border-left: 1px solid gray;box-sizing: border-box;top: 0;bottom: 0;left: 50%;z-index: -1;}#sk-container-id-1 div.sk-parallel-item {display: flex;flex-direction: column;z-index: 1;position: relative;background-color: white;}#sk-container-id-1 div.sk-parallel-item:first-child::after {align-self: flex-end;width: 50%;}#sk-container-id-1 div.sk-parallel-item:last-child::after {align-self: flex-start;width: 50%;}#sk-container-id-1 div.sk-parallel-item:only-child::after {width: 0;}#sk-container-id-1 div.sk-dashed-wrapped {border: 1px dashed gray;margin: 0 0.4em 0.5em 0.4em;box-sizing: border-box;padding-bottom: 0.4em;background-color: white;}#sk-container-id-1 div.sk-label label {font-family: monospace;font-weight: bold;display: inline-block;line-height: 1.2em;}#sk-container-id-1 div.sk-label-container {text-align: center;}#sk-container-id-1 div.sk-container {/* jupyter's `normalize.less` sets `[hidden] { display: none; }` but bootstrap.min.css set `[hidden] { display: none !important; }` so we also need the `!important` here to be able to override the default hidden behavior on the sphinx rendered scikit-learn.org. See: https://github.com/scikit-learn/scikit-learn/issues/21755 */display: inline-block !important;position: relative;}#sk-container-id-1 div.sk-text-repr-fallback {display: none;}</style><div id=\"sk-container-id-1\" class=\"sk-top-container\"><div class=\"sk-text-repr-fallback\"><pre>StandardScaler()</pre><b>In a Jupyter environment, please rerun this cell to show the HTML representation or trust the notebook. <br />On GitHub, the HTML representation is unable to render, please try loading this page with nbviewer.org.</b></div><div class=\"sk-container\" hidden><div class=\"sk-item\"><div class=\"sk-estimator sk-toggleable\"><input class=\"sk-toggleable__control sk-hidden--visually\" id=\"sk-estimator-id-1\" type=\"checkbox\" checked><label for=\"sk-estimator-id-1\" class=\"sk-toggleable__label sk-toggleable__label-arrow\">StandardScaler</label><div class=\"sk-toggleable__content\"><pre>StandardScaler()</pre></div></div></div></div></div>"
      ],
      "text/plain": [
       "StandardScaler()"
      ]
     },
     "execution_count": 435,
     "metadata": {},
     "output_type": "execute_result"
    }
   ],
   "source": [
    "scaler = StandardScaler()\n",
    "scaler.fit(X_train)"
   ]
  },
  {
   "cell_type": "code",
   "execution_count": 436,
   "id": "b3f75779",
   "metadata": {},
   "outputs": [],
   "source": [
    "X_train = scaler.transform(X_train)\n",
    "X_val = scaler.transform(X_val)\n",
    "X_test = scaler.transform(X_test)"
   ]
  },
  {
   "cell_type": "markdown",
   "id": "ba52ea87",
   "metadata": {},
   "source": [
    "### Decision tree"
   ]
  },
  {
   "cell_type": "code",
   "execution_count": 445,
   "id": "f5a0c4cc",
   "metadata": {},
   "outputs": [
    {
     "name": "stdout",
     "output_type": "stream",
     "text": [
      "K-Fold Accuracy Mean: Train: 82.39999999999999 Validation: 79.60000000000001\n"
     ]
    }
   ],
   "source": [
    "from sklearn.tree import DecisionTreeClassifier\n",
    "from sklearn.model_selection import KFold, cross_validate\n",
    "\n",
    "tree_clf = DecisionTreeClassifier(random_state=7, max_depth = 4)\n",
    "kfold = KFold(n_splits=10)\n",
    "cv_acc_results = cross_validate(tree_clf, X_train, y_train, cv = kfold, scoring = 'accuracy', return_train_score = True)\n",
    "\n",
    "print(f\"K-Fold Accuracy Mean: Train: {cv_acc_results['train_score'].mean().round(3)*100} Validation: {cv_acc_results['test_score'].mean().round(3)*100}\")"
   ]
  },
  {
   "cell_type": "markdown",
   "id": "58c2885c",
   "metadata": {},
   "source": [
    "### RandomForest "
   ]
  },
  {
   "cell_type": "code",
   "execution_count": 447,
   "id": "a205095a",
   "metadata": {},
   "outputs": [],
   "source": [
    "from sklearn.ensemble import RandomForestClassifier\n",
    "from sklearn.model_selection import GridSearchCV"
   ]
  },
  {
   "cell_type": "code",
   "execution_count": 460,
   "id": "57ae183f",
   "metadata": {},
   "outputs": [],
   "source": [
    "# Hyperparameter tunning \n",
    "params = {\n",
    "    'max_depth' : [3,4,5,7],\n",
    "    'n_estimators' : [50,100,150,200],\n",
    "    'max_features' : [3,6,9,12]\n",
    "}"
   ]
  },
  {
   "cell_type": "code",
   "execution_count": 461,
   "id": "c36ca449",
   "metadata": {},
   "outputs": [],
   "source": [
    "rfc = RandomForestClassifier()\n",
    "model = GridSearchCV(rfc, params, scoring = 'accuracy', n_jobs = -1, cv=3, return_train_score=True)"
   ]
  },
  {
   "cell_type": "code",
   "execution_count": 462,
   "id": "f4447d3d",
   "metadata": {},
   "outputs": [
    {
     "data": {
      "text/html": [
       "<style>#sk-container-id-3 {color: black;background-color: white;}#sk-container-id-3 pre{padding: 0;}#sk-container-id-3 div.sk-toggleable {background-color: white;}#sk-container-id-3 label.sk-toggleable__label {cursor: pointer;display: block;width: 100%;margin-bottom: 0;padding: 0.3em;box-sizing: border-box;text-align: center;}#sk-container-id-3 label.sk-toggleable__label-arrow:before {content: \"▸\";float: left;margin-right: 0.25em;color: #696969;}#sk-container-id-3 label.sk-toggleable__label-arrow:hover:before {color: black;}#sk-container-id-3 div.sk-estimator:hover label.sk-toggleable__label-arrow:before {color: black;}#sk-container-id-3 div.sk-toggleable__content {max-height: 0;max-width: 0;overflow: hidden;text-align: left;background-color: #f0f8ff;}#sk-container-id-3 div.sk-toggleable__content pre {margin: 0.2em;color: black;border-radius: 0.25em;background-color: #f0f8ff;}#sk-container-id-3 input.sk-toggleable__control:checked~div.sk-toggleable__content {max-height: 200px;max-width: 100%;overflow: auto;}#sk-container-id-3 input.sk-toggleable__control:checked~label.sk-toggleable__label-arrow:before {content: \"▾\";}#sk-container-id-3 div.sk-estimator input.sk-toggleable__control:checked~label.sk-toggleable__label {background-color: #d4ebff;}#sk-container-id-3 div.sk-label input.sk-toggleable__control:checked~label.sk-toggleable__label {background-color: #d4ebff;}#sk-container-id-3 input.sk-hidden--visually {border: 0;clip: rect(1px 1px 1px 1px);clip: rect(1px, 1px, 1px, 1px);height: 1px;margin: -1px;overflow: hidden;padding: 0;position: absolute;width: 1px;}#sk-container-id-3 div.sk-estimator {font-family: monospace;background-color: #f0f8ff;border: 1px dotted black;border-radius: 0.25em;box-sizing: border-box;margin-bottom: 0.5em;}#sk-container-id-3 div.sk-estimator:hover {background-color: #d4ebff;}#sk-container-id-3 div.sk-parallel-item::after {content: \"\";width: 100%;border-bottom: 1px solid gray;flex-grow: 1;}#sk-container-id-3 div.sk-label:hover label.sk-toggleable__label {background-color: #d4ebff;}#sk-container-id-3 div.sk-serial::before {content: \"\";position: absolute;border-left: 1px solid gray;box-sizing: border-box;top: 0;bottom: 0;left: 50%;z-index: 0;}#sk-container-id-3 div.sk-serial {display: flex;flex-direction: column;align-items: center;background-color: white;padding-right: 0.2em;padding-left: 0.2em;position: relative;}#sk-container-id-3 div.sk-item {position: relative;z-index: 1;}#sk-container-id-3 div.sk-parallel {display: flex;align-items: stretch;justify-content: center;background-color: white;position: relative;}#sk-container-id-3 div.sk-item::before, #sk-container-id-3 div.sk-parallel-item::before {content: \"\";position: absolute;border-left: 1px solid gray;box-sizing: border-box;top: 0;bottom: 0;left: 50%;z-index: -1;}#sk-container-id-3 div.sk-parallel-item {display: flex;flex-direction: column;z-index: 1;position: relative;background-color: white;}#sk-container-id-3 div.sk-parallel-item:first-child::after {align-self: flex-end;width: 50%;}#sk-container-id-3 div.sk-parallel-item:last-child::after {align-self: flex-start;width: 50%;}#sk-container-id-3 div.sk-parallel-item:only-child::after {width: 0;}#sk-container-id-3 div.sk-dashed-wrapped {border: 1px dashed gray;margin: 0 0.4em 0.5em 0.4em;box-sizing: border-box;padding-bottom: 0.4em;background-color: white;}#sk-container-id-3 div.sk-label label {font-family: monospace;font-weight: bold;display: inline-block;line-height: 1.2em;}#sk-container-id-3 div.sk-label-container {text-align: center;}#sk-container-id-3 div.sk-container {/* jupyter's `normalize.less` sets `[hidden] { display: none; }` but bootstrap.min.css set `[hidden] { display: none !important; }` so we also need the `!important` here to be able to override the default hidden behavior on the sphinx rendered scikit-learn.org. See: https://github.com/scikit-learn/scikit-learn/issues/21755 */display: inline-block !important;position: relative;}#sk-container-id-3 div.sk-text-repr-fallback {display: none;}</style><div id=\"sk-container-id-3\" class=\"sk-top-container\"><div class=\"sk-text-repr-fallback\"><pre>GridSearchCV(cv=3, estimator=RandomForestClassifier(), n_jobs=-1,\n",
       "             param_grid={&#x27;max_depth&#x27;: [3, 4, 5, 7],\n",
       "                         &#x27;max_features&#x27;: [3, 6, 9, 12],\n",
       "                         &#x27;n_estimators&#x27;: [50, 100, 150, 200]},\n",
       "             return_train_score=True, scoring=&#x27;accuracy&#x27;)</pre><b>In a Jupyter environment, please rerun this cell to show the HTML representation or trust the notebook. <br />On GitHub, the HTML representation is unable to render, please try loading this page with nbviewer.org.</b></div><div class=\"sk-container\" hidden><div class=\"sk-item sk-dashed-wrapped\"><div class=\"sk-label-container\"><div class=\"sk-label sk-toggleable\"><input class=\"sk-toggleable__control sk-hidden--visually\" id=\"sk-estimator-id-5\" type=\"checkbox\" ><label for=\"sk-estimator-id-5\" class=\"sk-toggleable__label sk-toggleable__label-arrow\">GridSearchCV</label><div class=\"sk-toggleable__content\"><pre>GridSearchCV(cv=3, estimator=RandomForestClassifier(), n_jobs=-1,\n",
       "             param_grid={&#x27;max_depth&#x27;: [3, 4, 5, 7],\n",
       "                         &#x27;max_features&#x27;: [3, 6, 9, 12],\n",
       "                         &#x27;n_estimators&#x27;: [50, 100, 150, 200]},\n",
       "             return_train_score=True, scoring=&#x27;accuracy&#x27;)</pre></div></div></div><div class=\"sk-parallel\"><div class=\"sk-parallel-item\"><div class=\"sk-item\"><div class=\"sk-label-container\"><div class=\"sk-label sk-toggleable\"><input class=\"sk-toggleable__control sk-hidden--visually\" id=\"sk-estimator-id-6\" type=\"checkbox\" ><label for=\"sk-estimator-id-6\" class=\"sk-toggleable__label sk-toggleable__label-arrow\">estimator: RandomForestClassifier</label><div class=\"sk-toggleable__content\"><pre>RandomForestClassifier()</pre></div></div></div><div class=\"sk-serial\"><div class=\"sk-item\"><div class=\"sk-estimator sk-toggleable\"><input class=\"sk-toggleable__control sk-hidden--visually\" id=\"sk-estimator-id-7\" type=\"checkbox\" ><label for=\"sk-estimator-id-7\" class=\"sk-toggleable__label sk-toggleable__label-arrow\">RandomForestClassifier</label><div class=\"sk-toggleable__content\"><pre>RandomForestClassifier()</pre></div></div></div></div></div></div></div></div></div></div>"
      ],
      "text/plain": [
       "GridSearchCV(cv=3, estimator=RandomForestClassifier(), n_jobs=-1,\n",
       "             param_grid={'max_depth': [3, 4, 5, 7],\n",
       "                         'max_features': [3, 6, 9, 12],\n",
       "                         'n_estimators': [50, 100, 150, 200]},\n",
       "             return_train_score=True, scoring='accuracy')"
      ]
     },
     "execution_count": 462,
     "metadata": {},
     "output_type": "execute_result"
    }
   ],
   "source": [
    "model.fit(X_train, y_train)"
   ]
  },
  {
   "cell_type": "code",
   "execution_count": 463,
   "id": "69fbe2cc",
   "metadata": {},
   "outputs": [
    {
     "data": {
      "text/plain": [
       "0.8172268907563026"
      ]
     },
     "execution_count": 463,
     "metadata": {},
     "output_type": "execute_result"
    }
   ],
   "source": [
    "model.best_score_"
   ]
  },
  {
   "cell_type": "code",
   "execution_count": 464,
   "id": "554ab8b0",
   "metadata": {},
   "outputs": [
    {
     "data": {
      "text/plain": [
       "{'max_depth': 4, 'max_features': 12, 'n_estimators': 100}"
      ]
     },
     "execution_count": 464,
     "metadata": {},
     "output_type": "execute_result"
    }
   ],
   "source": [
    "model.best_params_"
   ]
  },
  {
   "cell_type": "code",
   "execution_count": 465,
   "id": "54ab7839",
   "metadata": {},
   "outputs": [
    {
     "data": {
      "text/plain": [
       "0.8364779874213837"
      ]
     },
     "execution_count": 465,
     "metadata": {},
     "output_type": "execute_result"
    }
   ],
   "source": [
    "# training model at tunned parameters\n",
    "model = RandomForestClassifier(random_state=7, max_depth = 4, n_estimators= 100, max_features = 12)\n",
    "model.fit(X_train, y_train)\n",
    "y_pred = model.predict(X_test)\n",
    "model.score(X_test, y_test)"
   ]
  },
  {
   "cell_type": "code",
   "execution_count": 473,
   "id": "2e8c72fd",
   "metadata": {},
   "outputs": [
    {
     "name": "stdout",
     "output_type": "stream",
     "text": [
      "[[ 87  56]\n",
      " [ 22 312]]\n"
     ]
    }
   ],
   "source": [
    "from sklearn.metrics import confusion_matrix\n",
    "from sklearn.metrics import classification_report\n",
    "\n",
    "print(confusion_matrix(y_test,y_pred))"
   ]
  },
  {
   "cell_type": "code",
   "execution_count": 474,
   "id": "cf769d61",
   "metadata": {},
   "outputs": [
    {
     "name": "stdout",
     "output_type": "stream",
     "text": [
      "              precision    recall  f1-score   support\n",
      "\n",
      "           0       0.80      0.61      0.69       143\n",
      "           1       0.85      0.93      0.89       334\n",
      "\n",
      "    accuracy                           0.84       477\n",
      "   macro avg       0.82      0.77      0.79       477\n",
      "weighted avg       0.83      0.84      0.83       477\n",
      "\n"
     ]
    }
   ],
   "source": [
    "print(classification_report(y_test, y_pred))"
   ]
  },
  {
   "cell_type": "markdown",
   "id": "c4242077",
   "metadata": {},
   "source": [
    "### XGBoost"
   ]
  },
  {
   "cell_type": "code",
   "execution_count": 477,
   "id": "005ba62e",
   "metadata": {},
   "outputs": [
    {
     "name": "stdout",
     "output_type": "stream",
     "text": [
      "Collecting xgboost\n",
      "  Downloading xgboost-1.7.4-py3-none-win_amd64.whl (89.1 MB)\n",
      "Requirement already satisfied: numpy in c:\\users\\friends\\anaconda3\\lib\\site-packages (from xgboost) (1.20.1)\n",
      "Requirement already satisfied: scipy in c:\\users\\friends\\anaconda3\\lib\\site-packages (from xgboost) (1.6.2)\n",
      "Installing collected packages: xgboost\n",
      "Successfully installed xgboost-1.7.4\n"
     ]
    }
   ],
   "source": [
    "!pip install xgboost"
   ]
  },
  {
   "cell_type": "code",
   "execution_count": 480,
   "id": "2b8b15d3",
   "metadata": {},
   "outputs": [
    {
     "name": "stdout",
     "output_type": "stream",
     "text": [
      "[19:10:07] WARNING: C:/buildkite-agent/builds/buildkite-windows-cpu-autoscaling-group-i-0fc7796c793e6356f-1/xgboost/xgboost-ci-windows/src/learner.cc:767: \n",
      "Parameters: { \"silent\" } are not used.\n",
      "\n",
      "0.9488795518207283\n",
      "0.8071278825995807\n"
     ]
    }
   ],
   "source": [
    "from xgboost import XGBClassifier\n",
    "\n",
    "xgb = XGBClassifier(n_estimators=100, objective='multi:softmax', num_class=20, subsample=0.8, max_depth=4, learning_rate=0.2, colsample_bytree=0.8, silent=True)\n",
    "xgb.fit(X_train, y_train)\n",
    "\n",
    "\n",
    "print( xgb.score(X_train, y_train))\n",
    "print( xgb.score(X_test, y_test))"
   ]
  },
  {
   "cell_type": "markdown",
   "id": "38abc669",
   "metadata": {},
   "source": [
    "### LightGBM"
   ]
  },
  {
   "cell_type": "code",
   "execution_count": 481,
   "id": "433b45f1",
   "metadata": {},
   "outputs": [
    {
     "name": "stdout",
     "output_type": "stream",
     "text": [
      "Collecting lightgbm\n",
      "  Downloading lightgbm-3.3.5-py3-none-win_amd64.whl (1.0 MB)\n",
      "Requirement already satisfied: numpy in c:\\users\\friends\\anaconda3\\lib\\site-packages (from lightgbm) (1.20.1)\n",
      "Requirement already satisfied: wheel in c:\\users\\friends\\anaconda3\\lib\\site-packages (from lightgbm) (0.36.2)\n",
      "Requirement already satisfied: scipy in c:\\users\\friends\\anaconda3\\lib\\site-packages (from lightgbm) (1.6.2)\n",
      "Requirement already satisfied: scikit-learn!=0.22.0 in c:\\users\\friends\\anaconda3\\lib\\site-packages (from lightgbm) (1.1.2)\n",
      "Requirement already satisfied: joblib>=1.0.0 in c:\\users\\friends\\anaconda3\\lib\\site-packages (from scikit-learn!=0.22.0->lightgbm) (1.0.1)\n",
      "Requirement already satisfied: threadpoolctl>=2.0.0 in c:\\users\\friends\\anaconda3\\lib\\site-packages (from scikit-learn!=0.22.0->lightgbm) (2.1.0)\n",
      "Installing collected packages: lightgbm\n",
      "Successfully installed lightgbm-3.3.5\n",
      "Note: you may need to restart the kernel to use updated packages.\n"
     ]
    }
   ],
   "source": [
    "pip install lightgbm"
   ]
  },
  {
   "cell_type": "code",
   "execution_count": 482,
   "id": "17271778",
   "metadata": {},
   "outputs": [
    {
     "name": "stdout",
     "output_type": "stream",
     "text": [
      "0.9782913165266106\n",
      "0.8197064989517819\n"
     ]
    }
   ],
   "source": [
    "from lightgbm import LGBMClassifier\n",
    "\n",
    "lgm = LGBMClassifier()\n",
    "lgm.fit(X_train, y_train)\n",
    "\n",
    "\n",
    "print( lgm.score(X_train, y_train))\n",
    "print( lgm.score(X_test, y_test))"
   ]
  },
  {
   "cell_type": "markdown",
   "id": "62842b40",
   "metadata": {},
   "source": [
    "### GBDT"
   ]
  },
  {
   "cell_type": "code",
   "execution_count": 483,
   "id": "ad33eabe",
   "metadata": {},
   "outputs": [],
   "source": [
    "from sklearn.ensemble import GradientBoostingClassifier"
   ]
  },
  {
   "cell_type": "code",
   "execution_count": 484,
   "id": "dcd2c174",
   "metadata": {},
   "outputs": [
    {
     "data": {
      "text/plain": [
       "0.8218029350104822"
      ]
     },
     "execution_count": 484,
     "metadata": {},
     "output_type": "execute_result"
    }
   ],
   "source": [
    "clf = GradientBoostingClassifier(n_estimators=100, learning_rate=1.0, max_depth=1, random_state=0).fit(X_train, y_train)\n",
    "clf.score(X_test, y_test)"
   ]
  },
  {
   "cell_type": "markdown",
   "id": "60d54441",
   "metadata": {},
   "source": [
    "## Final model selection "
   ]
  },
  {
   "cell_type": "markdown",
   "id": "45820453",
   "metadata": {},
   "source": [
    "- As checked, Random forest classifier given higher score as compared to other ensemble learning algorithm\n",
    "- Score = 83.6 %"
   ]
  },
  {
   "cell_type": "markdown",
   "id": "82f59ed0",
   "metadata": {},
   "source": [
    "### Feature Importance for the best model so far in Random Forest Model"
   ]
  },
  {
   "cell_type": "markdown",
   "id": "71375cf9",
   "metadata": {},
   "source": [
    "- Feature importance based on mean decrease in impurity"
   ]
  },
  {
   "cell_type": "code",
   "execution_count": 486,
   "id": "424ea006",
   "metadata": {},
   "outputs": [
    {
     "name": "stdout",
     "output_type": "stream",
     "text": [
      "Elapsed time to compute the importances: 0.047 seconds\n"
     ]
    }
   ],
   "source": [
    "forest = RandomForestClassifier(random_state=7, max_depth = 4, n_estimators= 100, max_features = 12)\n",
    "forest.fit(X_train, y_train)\n",
    "\n",
    "import time\n",
    "import numpy as np\n",
    "\n",
    "start_time = time.time()\n",
    "importances = forest.feature_importances_\n",
    "std = np.std([tree.feature_importances_ for tree in forest.estimators_], axis=0)\n",
    "elapsed_time = time.time() - start_time\n",
    "\n",
    "print(f\"Elapsed time to compute the importances: {elapsed_time:.3f} seconds\")"
   ]
  },
  {
   "cell_type": "code",
   "execution_count": 575,
   "id": "9c1bce8b",
   "metadata": {},
   "outputs": [
    {
     "data": {
      "image/png": "[encoded data removed]",
      "text/plain": [
       "<Figure size 1080x504 with 1 Axes>"
      ]
     },
     "metadata": {
      "needs_background": "light"
     },
     "output_type": "display_data"
    }
   ],
   "source": [
    "importances = forest.feature_importances_\n",
    "indices = np.argsort(importances)[::-1] # Sort feature importances in descending order\n",
    "\n",
    "names = [X.columns[i] for i in indices] # Rearrange feature names so they match the sorted feature importances\n",
    "\n",
    "\n",
    "plt.figure(figsize=(15, 7)) # Create plot\n",
    "plt.title(\"Feature Importance\") # Create plot title\n",
    "plt.bar(range(X.shape[1]), importances[indices]) # Add bars\n",
    "plt.xticks(range(X.shape[1]), names, rotation=90) # Add feature names as x-axis labels\n",
    "plt.show() # Show plot"
   ]
  },
  {
   "cell_type": "markdown",
   "id": "25272768",
   "metadata": {},
   "source": [
    "### Below fetaures are important to consider whether drivers will leave or not\n",
    "- 'Last_Quarterly_Rating',\n",
    "- 'Total_Business_Value',\n",
    "- 'Joining_Designation',\n",
    "- 'Age',\n",
    "- 'Quarterly_Rating_Increased'"
   ]
  },
  {
   "cell_type": "code",
   "execution_count": null,
   "id": "a2bf1120",
   "metadata": {},
   "outputs": [],
   "source": []
  },
  {
   "cell_type": "code",
   "execution_count": null,
   "id": "21f7fd23",
   "metadata": {},
   "outputs": [],
   "source": []
  },
  {
   "cell_type": "code",
   "execution_count": null,
   "id": "ee4032cc",
   "metadata": {},
   "outputs": [],
   "source": []
  }
 ],
 "metadata": {
  "kernelspec": {
   "display_name": "Python 3",
   "language": "python",
   "name": "python3"
  },
  "language_info": {
   "codemirror_mode": {
    "name": "ipython",
    "version": 3
   },
   "file_extension": ".py",
   "mimetype": "text/x-python",
   "name": "python",
   "nbconvert_exporter": "python",
   "pygments_lexer": "ipython3",
   "version": "3.8.5"
  }
 },
 "nbformat": 4,
 "nbformat_minor": 5
}

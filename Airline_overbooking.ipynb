{
 "cells": [
  {
   "cell_type": "code",
   "execution_count": 11,
   "id": "f003a16c",
   "metadata": {},
   "outputs": [],
   "source": [
    "import pandas as pd\n",
    "import numpy as np\n",
    "import matplotlib.pyplot as plt\n",
    "import seaborn as sns\n",
    "import scipy.stats as stats\n",
    "import math"
   ]
  },
  {
   "cell_type": "code",
   "execution_count": 2,
   "id": "09f18ec7",
   "metadata": {},
   "outputs": [
    {
     "data": {
      "text/html": [
       "<div>\n",
       "<style scoped>\n",
       "    .dataframe tbody tr th:only-of-type {\n",
       "        vertical-align: middle;\n",
       "    }\n",
       "\n",
       "    .dataframe tbody tr th {\n",
       "        vertical-align: top;\n",
       "    }\n",
       "\n",
       "    .dataframe thead th {\n",
       "        text-align: right;\n",
       "    }\n",
       "</style>\n",
       "<table border=\"1\" class=\"dataframe\">\n",
       "  <thead>\n",
       "    <tr style=\"text-align: right;\">\n",
       "      <th></th>\n",
       "      <th>Passenger_ID</th>\n",
       "      <th>Flight_ID</th>\n",
       "      <th>Arrived</th>\n",
       "    </tr>\n",
       "  </thead>\n",
       "  <tbody>\n",
       "    <tr>\n",
       "      <th>0</th>\n",
       "      <td>1811</td>\n",
       "      <td>A320</td>\n",
       "      <td>1</td>\n",
       "    </tr>\n",
       "    <tr>\n",
       "      <th>1</th>\n",
       "      <td>1812</td>\n",
       "      <td>A320</td>\n",
       "      <td>1</td>\n",
       "    </tr>\n",
       "    <tr>\n",
       "      <th>2</th>\n",
       "      <td>1813</td>\n",
       "      <td>B777</td>\n",
       "      <td>1</td>\n",
       "    </tr>\n",
       "    <tr>\n",
       "      <th>3</th>\n",
       "      <td>1814</td>\n",
       "      <td>B737</td>\n",
       "      <td>1</td>\n",
       "    </tr>\n",
       "    <tr>\n",
       "      <th>4</th>\n",
       "      <td>1815</td>\n",
       "      <td>B737</td>\n",
       "      <td>1</td>\n",
       "    </tr>\n",
       "  </tbody>\n",
       "</table>\n",
       "</div>"
      ],
      "text/plain": [
       "   Passenger_ID Flight_ID  Arrived\n",
       "0          1811     A320         1\n",
       "1          1812     A320         1\n",
       "2          1813      B777        1\n",
       "3          1814      B737        1\n",
       "4          1815      B737        1"
      ]
     },
     "execution_count": 2,
     "metadata": {},
     "output_type": "execute_result"
    }
   ],
   "source": [
    "df = pd.read_csv('Flight.csv')\n",
    "df.head()"
   ]
  },
  {
   "cell_type": "code",
   "execution_count": 3,
   "id": "a64763ea",
   "metadata": {},
   "outputs": [
    {
     "name": "stdout",
     "output_type": "stream",
     "text": [
      "<class 'pandas.core.frame.DataFrame'>\n",
      "RangeIndex: 1000 entries, 0 to 999\n",
      "Data columns (total 3 columns):\n",
      " #   Column        Non-Null Count  Dtype \n",
      "---  ------        --------------  ----- \n",
      " 0   Passenger_ID  1000 non-null   int64 \n",
      " 1   Flight_ID     1000 non-null   object\n",
      " 2   Arrived       1000 non-null   int64 \n",
      "dtypes: int64(2), object(1)\n",
      "memory usage: 23.6+ KB\n"
     ]
    }
   ],
   "source": [
    "df.info()"
   ]
  },
  {
   "cell_type": "code",
   "execution_count": 4,
   "id": "e6250448",
   "metadata": {},
   "outputs": [],
   "source": [
    "ans = pd.DataFrame(df['Arrived'].value_counts().reset_index())\n",
    "ans.rename(columns = {'index' : 'Arrived', 'Arrived' : 'count'}, inplace = True)"
   ]
  },
  {
   "cell_type": "code",
   "execution_count": 5,
   "id": "ddeaec38",
   "metadata": {},
   "outputs": [
    {
     "data": {
      "text/html": [
       "<div>\n",
       "<style scoped>\n",
       "    .dataframe tbody tr th:only-of-type {\n",
       "        vertical-align: middle;\n",
       "    }\n",
       "\n",
       "    .dataframe tbody tr th {\n",
       "        vertical-align: top;\n",
       "    }\n",
       "\n",
       "    .dataframe thead th {\n",
       "        text-align: right;\n",
       "    }\n",
       "</style>\n",
       "<table border=\"1\" class=\"dataframe\">\n",
       "  <thead>\n",
       "    <tr style=\"text-align: right;\">\n",
       "      <th></th>\n",
       "      <th>Arrived</th>\n",
       "      <th>count</th>\n",
       "    </tr>\n",
       "  </thead>\n",
       "  <tbody>\n",
       "    <tr>\n",
       "      <th>0</th>\n",
       "      <td>1</td>\n",
       "      <td>902</td>\n",
       "    </tr>\n",
       "    <tr>\n",
       "      <th>1</th>\n",
       "      <td>0</td>\n",
       "      <td>98</td>\n",
       "    </tr>\n",
       "  </tbody>\n",
       "</table>\n",
       "</div>"
      ],
      "text/plain": [
       "   Arrived  count\n",
       "0        1    902\n",
       "1        0     98"
      ]
     },
     "execution_count": 5,
     "metadata": {},
     "output_type": "execute_result"
    }
   ],
   "source": [
    "ans"
   ]
  },
  {
   "cell_type": "code",
   "execution_count": 6,
   "id": "5f39994c",
   "metadata": {},
   "outputs": [
    {
     "data": {
      "text/plain": [
       "<AxesSubplot:xlabel='Arrived', ylabel='count'>"
      ]
     },
     "execution_count": 6,
     "metadata": {},
     "output_type": "execute_result"
    },
    {
     "data": {
      "image/png": "[encoded data removed]",
      "text/plain": [
       "<Figure size 432x288 with 1 Axes>"
      ]
     },
     "metadata": {
      "needs_background": "light"
     },
     "output_type": "display_data"
    }
   ],
   "source": [
    "sns.barplot(data = ans, x =  'Arrived', y = 'count')"
   ]
  },
  {
   "cell_type": "code",
   "execution_count": 7,
   "id": "a0933b48",
   "metadata": {},
   "outputs": [
    {
     "data": {
      "image/png": "[encoded data removed]",
      "text/plain": [
       "<Figure size 432x288 with 1 Axes>"
      ]
     },
     "metadata": {
      "needs_background": "light"
     },
     "output_type": "display_data"
    }
   ],
   "source": [
    "df['Arrived'].value_counts().plot.bar()\n",
    "plt.grid()\n",
    "plt.show()"
   ]
  },
  {
   "cell_type": "code",
   "execution_count": 8,
   "id": "243fbbb4",
   "metadata": {},
   "outputs": [
    {
     "data": {
      "text/plain": [
       "902"
      ]
     },
     "execution_count": 8,
     "metadata": {},
     "output_type": "execute_result"
    }
   ],
   "source": [
    "df['Arrived'].value_counts()[1]"
   ]
  },
  {
   "cell_type": "code",
   "execution_count": 9,
   "id": "54199842",
   "metadata": {},
   "outputs": [
    {
     "name": "stdout",
     "output_type": "stream",
     "text": [
      "0.902\n"
     ]
    }
   ],
   "source": [
    "# probability of persons showsup on flight\n",
    "showsup_probability = df['Arrived'].value_counts(normalize=True)[1]\n",
    "print(showsup_probability)"
   ]
  },
  {
   "cell_type": "code",
   "execution_count": 10,
   "id": "fb3dd57d",
   "metadata": {},
   "outputs": [
    {
     "name": "stdout",
     "output_type": "stream",
     "text": [
      "0.098\n"
     ]
    }
   ],
   "source": [
    "# probability of persons that not showsup on flight\n",
    "not_showsup_probability = df['Arrived'].value_counts(normalize=True)[0]\n",
    "print(not_showsup_probability)"
   ]
  },
  {
   "cell_type": "code",
   "execution_count": 12,
   "id": "6e860557",
   "metadata": {},
   "outputs": [],
   "source": [
    "PENALTY = 10000\n",
    "def comb(n, r):\n",
    "  num1 = math.factorial(n)\n",
    "  num2 = math.factorial(r)\n",
    "  num3 = math.factorial(n-r)\n",
    "  return num1/(num2*num3)"
   ]
  },
  {
   "cell_type": "code",
   "execution_count": 13,
   "id": "5d248559",
   "metadata": {},
   "outputs": [],
   "source": [
    "def calculate_expected_penalty(ticket_sold):\n",
    "    \n",
    "    total_penalty = 0.0\n",
    "    \n",
    "    for i in range(1, ticket_sold - 100+1):\n",
    "        ##pmf for k successes, n trials, p=success probab\n",
    "        prob = stats.binom.pmf(k=100+i,n=ticket_sold,p=showsup_probability)\n",
    "        penalty = prob*PENALTY*i\n",
    "        total_penalty += penalty\n",
    "    \n",
    "    return total_penalty"
   ]
  },
  {
   "cell_type": "code",
   "execution_count": 14,
   "id": "53aec6b9",
   "metadata": {},
   "outputs": [
    {
     "name": "stdout",
     "output_type": "stream",
     "text": [
      "Total seats: 100 , Net Sales : 500000\n",
      "Total seats: 101 , Net Sales : 505000\n",
      "Total seats: 102 , Net Sales : 509996\n",
      "Total seats: 103 , Net Sales : 514979\n",
      "Total seats: 104 , Net Sales : 519913\n",
      "Total seats: 105 , Net Sales : 524725\n",
      "Total seats: 106 , Net Sales : 529288\n",
      "Total seats: 107 , Net Sales : 533425\n",
      "Total seats: 108 , Net Sales : 536929\n",
      "Total seats: 109 , Net Sales : 539603\n",
      "Total seats: 110 , Net Sales : 541302\n",
      "Total seats: 111 , Net Sales : 541959\n",
      "Total seats: 112 , Net Sales : 541595\n",
      "Total seats: 113 , Net Sales : 540305\n",
      "Total seats: 114 , Net Sales : 538233\n",
      "Total seats: 115 , Net Sales : 535544\n",
      "Total seats: 116 , Net Sales : 532393\n",
      "Total seats: 117 , Net Sales : 528919\n",
      "Total seats: 118 , Net Sales : 525227\n",
      "Total seats: 119 , Net Sales : 521398\n",
      "Total seats: 120 , Net Sales : 517484\n",
      "Total seats: 121 , Net Sales : 513521\n",
      "Total seats: 122 , Net Sales : 509531\n",
      "Total seats: 123 , Net Sales : 505526\n",
      "Total seats: 124 , Net Sales : 501514\n",
      "Total seats: 125 , Net Sales : 497497\n",
      "Total seats: 126 , Net Sales : 493479\n",
      "Total seats: 127 , Net Sales : 489459\n",
      "Total seats: 128 , Net Sales : 485440\n",
      "Total seats: 129 , Net Sales : 481420\n",
      "Total seats: 130 , Net Sales : 477400\n",
      "Total seats: 131 , Net Sales : 473380\n",
      "Total seats: 132 , Net Sales : 469360\n",
      "Total seats: 133 , Net Sales : 465340\n",
      "Total seats: 134 , Net Sales : 461320\n",
      "Total seats: 135 , Net Sales : 457300\n",
      "Total seats: 136 , Net Sales : 453280\n",
      "Total seats: 137 , Net Sales : 449260\n",
      "Total seats: 138 , Net Sales : 445240\n",
      "Total seats: 139 , Net Sales : 441220\n",
      "Total seats: 140 , Net Sales : 437200\n",
      "Total seats: 141 , Net Sales : 433180\n",
      "Total seats: 142 , Net Sales : 429160\n",
      "Total seats: 143 , Net Sales : 425140\n",
      "Total seats: 144 , Net Sales : 421120\n",
      "Total seats: 145 , Net Sales : 417100\n",
      "Total seats: 146 , Net Sales : 413080\n",
      "Total seats: 147 , Net Sales : 409060\n",
      "Total seats: 148 , Net Sales : 405040\n",
      "Total seats: 149 , Net Sales : 401020\n"
     ]
    }
   ],
   "source": [
    "for i in range(100, 150):\n",
    "    sales = 5000*i\n",
    "    penalty  = calculate_expected_penalty(i)\n",
    "    netsales = (sales - penalty)\n",
    "    print(\"Total seats:\",i, \", Net Sales :\",round(netsales))"
   ]
  },
  {
   "cell_type": "code",
   "execution_count": null,
   "id": "6e89705e",
   "metadata": {},
   "outputs": [],
   "source": []
  }
 ],
 "metadata": {
  "kernelspec": {
   "display_name": "Python 3",
   "language": "python",
   "name": "python3"
  },
  "language_info": {
   "codemirror_mode": {
    "name": "ipython",
    "version": 3
   },
   "file_extension": ".py",
   "mimetype": "text/x-python",
   "name": "python",
   "nbconvert_exporter": "python",
   "pygments_lexer": "ipython3",
   "version": "3.8.5"
  }
 },
 "nbformat": 4,
 "nbformat_minor": 5
}

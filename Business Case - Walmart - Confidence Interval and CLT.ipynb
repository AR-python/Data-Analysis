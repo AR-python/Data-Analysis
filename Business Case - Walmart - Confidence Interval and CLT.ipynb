{
 "cells": [
  {
   "cell_type": "markdown",
   "id": "6482ddfb",
   "metadata": {},
   "source": [
    "### Dataset\n",
    "```\n",
    "The company collected the transactional data of customers who purchased products from the Walmart Stores during Black Friday. The dataset has the following features:\n",
    "Dataset link: Walmart_data.csv\n",
    "\n",
    "User_ID:\tUser ID\n",
    "Product_ID:\tProduct ID\n",
    "Gender:\tSex of User\n",
    "Age:\tAge in bins\n",
    "Occupation:\tOccupation(Masked)\n",
    "City_Category:\tCategory of the City (A,B,C)\n",
    "StayInCurrentCityYears:\tNumber of years stay in current city\n",
    "Marital_Status:\tMarital Status\n",
    "ProductCategory:\tProduct Category (Masked)\n",
    "Purchase:\tPurchase Amount\n",
    "```"
   ]
  },
  {
   "cell_type": "markdown",
   "id": "71b38cb7",
   "metadata": {},
   "source": [
    "### About Walmart\n",
    "\n",
    "- Walmart is an American multinational retail corporation that operates a chain of supercenters, discount departmental stores, and grocery stores from the United States. Walmart has more than 100 million customers worldwide."
   ]
  },
  {
   "cell_type": "markdown",
   "id": "5734191a",
   "metadata": {},
   "source": [
    "### Business Problem\n",
    "\n",
    "The Management team at Walmart Inc. wants to analyze the customer purchase behavior (specifically, purchase amount) against the customer’s gender and the various other factors to help the business make better decisions. They want to understand if the spending habits differ between male and female customers: Do women spend more on Black Friday than men? (Assume 50 million customers are male and 50 million are female)."
   ]
  },
  {
   "cell_type": "markdown",
   "id": "0ddf6975",
   "metadata": {},
   "source": [
    "### Hints\n",
    " data exploration steps like:\n",
    "Tracking the amount spent per transaction of all the 50 million female customers, and all the 50 million male customers, calculate the average, and conclude the results.\n",
    "Inference after computing the average female and male expenses.\n",
    "Use the sample average to find out an interval within which the population average will lie. Using the sample of female customers you will calculate the interval within which the average spending of 50 million male and female customers may lie.\n",
    "Use the Central limit theorem to compute the interval. Change the sample size to observe the distribution of the mean of the expenses by female and male customers.\n",
    "The interval that you calculated is called Confidence Interval. The width of the interval is mostly decided by the business: Typically 90%, 95%, or 99%. Play around with the width parameter and report the observations.\n",
    "Conclude the results and check if the confidence intervals of average male and female spends are overlapping or not overlapping. How can Walmart leverage this conclusion to make changes or improvements?\n",
    "Perform the same activity for Married vs Unmarried and Age\n",
    "For Age, you can try bins based on life stages: 0-17, 18-25, 26-35, 36-50, 51+ years.\n",
    "Give recommendations and action items to Walmart."
   ]
  },
  {
   "cell_type": "code",
   "execution_count": 2,
   "id": "783c95e9",
   "metadata": {},
   "outputs": [],
   "source": [
    "import scipy.stats as stats\n",
    "import numpy as np\n",
    "import pandas as pd\n",
    "import matplotlib.pyplot as plt\n",
    "import seaborn as sns\n",
    "import math"
   ]
  },
  {
   "cell_type": "code",
   "execution_count": 3,
   "id": "dbba4b1d",
   "metadata": {},
   "outputs": [
    {
     "data": {
      "text/html": [
       "<div>\n",
       "<style scoped>\n",
       "    .dataframe tbody tr th:only-of-type {\n",
       "        vertical-align: middle;\n",
       "    }\n",
       "\n",
       "    .dataframe tbody tr th {\n",
       "        vertical-align: top;\n",
       "    }\n",
       "\n",
       "    .dataframe thead th {\n",
       "        text-align: right;\n",
       "    }\n",
       "</style>\n",
       "<table border=\"1\" class=\"dataframe\">\n",
       "  <thead>\n",
       "    <tr style=\"text-align: right;\">\n",
       "      <th></th>\n",
       "      <th>User_ID</th>\n",
       "      <th>Product_ID</th>\n",
       "      <th>Gender</th>\n",
       "      <th>Age</th>\n",
       "      <th>Occupation</th>\n",
       "      <th>City_Category</th>\n",
       "      <th>Stay_In_Current_City_Years</th>\n",
       "      <th>Marital_Status</th>\n",
       "      <th>Product_Category</th>\n",
       "      <th>Purchase</th>\n",
       "    </tr>\n",
       "  </thead>\n",
       "  <tbody>\n",
       "    <tr>\n",
       "      <th>0</th>\n",
       "      <td>1000001</td>\n",
       "      <td>P00069042</td>\n",
       "      <td>F</td>\n",
       "      <td>0-17</td>\n",
       "      <td>10</td>\n",
       "      <td>A</td>\n",
       "      <td>2</td>\n",
       "      <td>0</td>\n",
       "      <td>3</td>\n",
       "      <td>8370</td>\n",
       "    </tr>\n",
       "    <tr>\n",
       "      <th>1</th>\n",
       "      <td>1000001</td>\n",
       "      <td>P00248942</td>\n",
       "      <td>F</td>\n",
       "      <td>0-17</td>\n",
       "      <td>10</td>\n",
       "      <td>A</td>\n",
       "      <td>2</td>\n",
       "      <td>0</td>\n",
       "      <td>1</td>\n",
       "      <td>15200</td>\n",
       "    </tr>\n",
       "    <tr>\n",
       "      <th>2</th>\n",
       "      <td>1000001</td>\n",
       "      <td>P00087842</td>\n",
       "      <td>F</td>\n",
       "      <td>0-17</td>\n",
       "      <td>10</td>\n",
       "      <td>A</td>\n",
       "      <td>2</td>\n",
       "      <td>0</td>\n",
       "      <td>12</td>\n",
       "      <td>1422</td>\n",
       "    </tr>\n",
       "    <tr>\n",
       "      <th>3</th>\n",
       "      <td>1000001</td>\n",
       "      <td>P00085442</td>\n",
       "      <td>F</td>\n",
       "      <td>0-17</td>\n",
       "      <td>10</td>\n",
       "      <td>A</td>\n",
       "      <td>2</td>\n",
       "      <td>0</td>\n",
       "      <td>12</td>\n",
       "      <td>1057</td>\n",
       "    </tr>\n",
       "    <tr>\n",
       "      <th>4</th>\n",
       "      <td>1000002</td>\n",
       "      <td>P00285442</td>\n",
       "      <td>M</td>\n",
       "      <td>55+</td>\n",
       "      <td>16</td>\n",
       "      <td>C</td>\n",
       "      <td>4+</td>\n",
       "      <td>0</td>\n",
       "      <td>8</td>\n",
       "      <td>7969</td>\n",
       "    </tr>\n",
       "  </tbody>\n",
       "</table>\n",
       "</div>"
      ],
      "text/plain": [
       "   User_ID Product_ID Gender   Age  Occupation City_Category  \\\n",
       "0  1000001  P00069042      F  0-17          10             A   \n",
       "1  1000001  P00248942      F  0-17          10             A   \n",
       "2  1000001  P00087842      F  0-17          10             A   \n",
       "3  1000001  P00085442      F  0-17          10             A   \n",
       "4  1000002  P00285442      M   55+          16             C   \n",
       "\n",
       "  Stay_In_Current_City_Years  Marital_Status  Product_Category  Purchase  \n",
       "0                          2               0                 3      8370  \n",
       "1                          2               0                 1     15200  \n",
       "2                          2               0                12      1422  \n",
       "3                          2               0                12      1057  \n",
       "4                         4+               0                 8      7969  "
      ]
     },
     "execution_count": 3,
     "metadata": {},
     "output_type": "execute_result"
    }
   ],
   "source": [
    "df = pd.read_csv('walmart_data.csv')\n",
    "df.head()"
   ]
  },
  {
   "cell_type": "code",
   "execution_count": 4,
   "id": "12c0a03e",
   "metadata": {},
   "outputs": [
    {
     "data": {
      "text/html": [
       "<div>\n",
       "<style scoped>\n",
       "    .dataframe tbody tr th:only-of-type {\n",
       "        vertical-align: middle;\n",
       "    }\n",
       "\n",
       "    .dataframe tbody tr th {\n",
       "        vertical-align: top;\n",
       "    }\n",
       "\n",
       "    .dataframe thead th {\n",
       "        text-align: right;\n",
       "    }\n",
       "</style>\n",
       "<table border=\"1\" class=\"dataframe\">\n",
       "  <thead>\n",
       "    <tr style=\"text-align: right;\">\n",
       "      <th></th>\n",
       "      <th>User_ID</th>\n",
       "      <th>Product_ID</th>\n",
       "      <th>Gender</th>\n",
       "      <th>Age</th>\n",
       "      <th>Occupation</th>\n",
       "      <th>City_Category</th>\n",
       "      <th>Stay_In_Current_City_Years</th>\n",
       "      <th>Marital_Status</th>\n",
       "      <th>Product_Category</th>\n",
       "      <th>Purchase</th>\n",
       "    </tr>\n",
       "  </thead>\n",
       "  <tbody>\n",
       "    <tr>\n",
       "      <th>550063</th>\n",
       "      <td>1006033</td>\n",
       "      <td>P00372445</td>\n",
       "      <td>M</td>\n",
       "      <td>51-55</td>\n",
       "      <td>13</td>\n",
       "      <td>B</td>\n",
       "      <td>1</td>\n",
       "      <td>1</td>\n",
       "      <td>20</td>\n",
       "      <td>368</td>\n",
       "    </tr>\n",
       "    <tr>\n",
       "      <th>550064</th>\n",
       "      <td>1006035</td>\n",
       "      <td>P00375436</td>\n",
       "      <td>F</td>\n",
       "      <td>26-35</td>\n",
       "      <td>1</td>\n",
       "      <td>C</td>\n",
       "      <td>3</td>\n",
       "      <td>0</td>\n",
       "      <td>20</td>\n",
       "      <td>371</td>\n",
       "    </tr>\n",
       "    <tr>\n",
       "      <th>550065</th>\n",
       "      <td>1006036</td>\n",
       "      <td>P00375436</td>\n",
       "      <td>F</td>\n",
       "      <td>26-35</td>\n",
       "      <td>15</td>\n",
       "      <td>B</td>\n",
       "      <td>4+</td>\n",
       "      <td>1</td>\n",
       "      <td>20</td>\n",
       "      <td>137</td>\n",
       "    </tr>\n",
       "    <tr>\n",
       "      <th>550066</th>\n",
       "      <td>1006038</td>\n",
       "      <td>P00375436</td>\n",
       "      <td>F</td>\n",
       "      <td>55+</td>\n",
       "      <td>1</td>\n",
       "      <td>C</td>\n",
       "      <td>2</td>\n",
       "      <td>0</td>\n",
       "      <td>20</td>\n",
       "      <td>365</td>\n",
       "    </tr>\n",
       "    <tr>\n",
       "      <th>550067</th>\n",
       "      <td>1006039</td>\n",
       "      <td>P00371644</td>\n",
       "      <td>F</td>\n",
       "      <td>46-50</td>\n",
       "      <td>0</td>\n",
       "      <td>B</td>\n",
       "      <td>4+</td>\n",
       "      <td>1</td>\n",
       "      <td>20</td>\n",
       "      <td>490</td>\n",
       "    </tr>\n",
       "  </tbody>\n",
       "</table>\n",
       "</div>"
      ],
      "text/plain": [
       "        User_ID Product_ID Gender    Age  Occupation City_Category  \\\n",
       "550063  1006033  P00372445      M  51-55          13             B   \n",
       "550064  1006035  P00375436      F  26-35           1             C   \n",
       "550065  1006036  P00375436      F  26-35          15             B   \n",
       "550066  1006038  P00375436      F    55+           1             C   \n",
       "550067  1006039  P00371644      F  46-50           0             B   \n",
       "\n",
       "       Stay_In_Current_City_Years  Marital_Status  Product_Category  Purchase  \n",
       "550063                          1               1                20       368  \n",
       "550064                          3               0                20       371  \n",
       "550065                         4+               1                20       137  \n",
       "550066                          2               0                20       365  \n",
       "550067                         4+               1                20       490  "
      ]
     },
     "execution_count": 4,
     "metadata": {},
     "output_type": "execute_result"
    }
   ],
   "source": [
    "df.tail()"
   ]
  },
  {
   "cell_type": "code",
   "execution_count": 5,
   "id": "c96db41a",
   "metadata": {},
   "outputs": [
    {
     "name": "stdout",
     "output_type": "stream",
     "text": [
      "<class 'pandas.core.frame.DataFrame'>\n",
      "RangeIndex: 550068 entries, 0 to 550067\n",
      "Data columns (total 10 columns):\n",
      " #   Column                      Non-Null Count   Dtype \n",
      "---  ------                      --------------   ----- \n",
      " 0   User_ID                     550068 non-null  int64 \n",
      " 1   Product_ID                  550068 non-null  object\n",
      " 2   Gender                      550068 non-null  object\n",
      " 3   Age                         550068 non-null  object\n",
      " 4   Occupation                  550068 non-null  int64 \n",
      " 5   City_Category               550068 non-null  object\n",
      " 6   Stay_In_Current_City_Years  550068 non-null  object\n",
      " 7   Marital_Status              550068 non-null  int64 \n",
      " 8   Product_Category            550068 non-null  int64 \n",
      " 9   Purchase                    550068 non-null  int64 \n",
      "dtypes: int64(5), object(5)\n",
      "memory usage: 42.0+ MB\n"
     ]
    }
   ],
   "source": [
    "## data information\n",
    "df.info()"
   ]
  },
  {
   "cell_type": "markdown",
   "id": "a6c54b4b",
   "metadata": {},
   "source": [
    "### obervation "
   ]
  },
  {
   "cell_type": "markdown",
   "id": "b9039e2c",
   "metadata": {},
   "source": [
    "#### Data set have integer and object datatype\n",
    "- Data set is clear, no null data points are there"
   ]
  },
  {
   "cell_type": "code",
   "execution_count": null,
   "id": "2f867cf4",
   "metadata": {},
   "outputs": [],
   "source": []
  },
  {
   "cell_type": "markdown",
   "id": "b662020e",
   "metadata": {},
   "source": [
    "### Finding correlation"
   ]
  },
  {
   "cell_type": "code",
   "execution_count": 7,
   "id": "26c5ea37",
   "metadata": {},
   "outputs": [],
   "source": [
    "data = df.corr()"
   ]
  },
  {
   "cell_type": "code",
   "execution_count": 9,
   "id": "50df66f9",
   "metadata": {},
   "outputs": [
    {
     "data": {
      "image/png": "[encoded data removed]",
      "text/plain": [
       "<Figure size 432x288 with 2 Axes>"
      ]
     },
     "metadata": {
      "needs_background": "light"
     },
     "output_type": "display_data"
    }
   ],
   "source": [
    "sns.heatmap(data, annot = True )\n",
    "plt.show()"
   ]
  },
  {
   "cell_type": "markdown",
   "id": "7bcf5d28",
   "metadata": {},
   "source": [
    "### Oberservation \n",
    "- Correlation is very less"
   ]
  },
  {
   "cell_type": "markdown",
   "id": "ab598f21",
   "metadata": {},
   "source": [
    "### checking the purchase column using box-plot"
   ]
  },
  {
   "cell_type": "code",
   "execution_count": 11,
   "id": "e2fe0d2d",
   "metadata": {},
   "outputs": [
    {
     "data": {
      "image/png": "[encoded data removed]",
      "text/plain": [
       "<Figure size 432x288 with 1 Axes>"
      ]
     },
     "metadata": {
      "needs_background": "light"
     },
     "output_type": "display_data"
    }
   ],
   "source": [
    "sns.boxplot(data = df, x = df['Gender'], y = df['Purchase'])\n",
    "plt.show()"
   ]
  },
  {
   "cell_type": "code",
   "execution_count": 15,
   "id": "5cea905a",
   "metadata": {},
   "outputs": [
    {
     "data": {
      "text/plain": [
       "M    414259\n",
       "F    135809\n",
       "Name: Gender, dtype: int64"
      ]
     },
     "execution_count": 15,
     "metadata": {},
     "output_type": "execute_result"
    }
   ],
   "source": [
    "df['Gender'].value_counts()"
   ]
  },
  {
   "cell_type": "markdown",
   "id": "33db722a",
   "metadata": {},
   "source": [
    "### Obervation\n",
    "- box plot is showing that the purchase columns median of female is slighlty low than male."
   ]
  },
  {
   "cell_type": "code",
   "execution_count": null,
   "id": "8bfd2ba0",
   "metadata": {},
   "outputs": [],
   "source": []
  },
  {
   "cell_type": "code",
   "execution_count": 25,
   "id": "568036aa",
   "metadata": {},
   "outputs": [
    {
     "data": {
      "text/plain": [
       "Gender\n",
       "F    8734.565765\n",
       "M    9437.526040\n",
       "Name: Purchase, dtype: float64"
      ]
     },
     "execution_count": 25,
     "metadata": {},
     "output_type": "execute_result"
    }
   ],
   "source": [
    "df.groupby(['Gender'])['Purchase'].mean()"
   ]
  },
  {
   "cell_type": "markdown",
   "id": "7877835a",
   "metadata": {},
   "source": [
    "#### Observation \n",
    "- Average purchase done by female is 8734.565765\n",
    "- Average purchase done by Male is 9437.526040"
   ]
  },
  {
   "cell_type": "markdown",
   "id": "69eca2da",
   "metadata": {},
   "source": [
    "### Density estimation of Purchase "
   ]
  },
  {
   "cell_type": "code",
   "execution_count": 33,
   "id": "20401243",
   "metadata": {},
   "outputs": [
    {
     "data": {
      "image/png": "[encoded data removed]",
      "text/plain": [
       "<Figure size 432x288 with 1 Axes>"
      ]
     },
     "metadata": {
      "needs_background": "light"
     },
     "output_type": "display_data"
    }
   ],
   "source": [
    "sns.kdeplot(x = df['Purchase'], hue = df['Gender'])\n",
    "plt.show()"
   ]
  },
  {
   "cell_type": "markdown",
   "id": "3211d1e5",
   "metadata": {},
   "source": [
    "### Central Limit Theorem"
   ]
  },
  {
   "cell_type": "markdown",
   "id": "f22fc160",
   "metadata": {},
   "source": [
    "### 95% C.I on 99th percentile value for travel_time via bootsrapping"
   ]
  },
  {
   "cell_type": "code",
   "execution_count": 35,
   "id": "34f5aec2",
   "metadata": {},
   "outputs": [
    {
     "data": {
      "text/html": [
       "<div>\n",
       "<style scoped>\n",
       "    .dataframe tbody tr th:only-of-type {\n",
       "        vertical-align: middle;\n",
       "    }\n",
       "\n",
       "    .dataframe tbody tr th {\n",
       "        vertical-align: top;\n",
       "    }\n",
       "\n",
       "    .dataframe thead th {\n",
       "        text-align: right;\n",
       "    }\n",
       "</style>\n",
       "<table border=\"1\" class=\"dataframe\">\n",
       "  <thead>\n",
       "    <tr style=\"text-align: right;\">\n",
       "      <th></th>\n",
       "      <th>User_ID</th>\n",
       "      <th>Product_ID</th>\n",
       "      <th>Gender</th>\n",
       "      <th>Age</th>\n",
       "      <th>Occupation</th>\n",
       "      <th>City_Category</th>\n",
       "      <th>Stay_In_Current_City_Years</th>\n",
       "      <th>Marital_Status</th>\n",
       "      <th>Product_Category</th>\n",
       "      <th>Purchase</th>\n",
       "    </tr>\n",
       "  </thead>\n",
       "  <tbody>\n",
       "    <tr>\n",
       "      <th>0</th>\n",
       "      <td>1000001</td>\n",
       "      <td>P00069042</td>\n",
       "      <td>F</td>\n",
       "      <td>0-17</td>\n",
       "      <td>10</td>\n",
       "      <td>A</td>\n",
       "      <td>2</td>\n",
       "      <td>0</td>\n",
       "      <td>3</td>\n",
       "      <td>8370</td>\n",
       "    </tr>\n",
       "    <tr>\n",
       "      <th>1</th>\n",
       "      <td>1000001</td>\n",
       "      <td>P00248942</td>\n",
       "      <td>F</td>\n",
       "      <td>0-17</td>\n",
       "      <td>10</td>\n",
       "      <td>A</td>\n",
       "      <td>2</td>\n",
       "      <td>0</td>\n",
       "      <td>1</td>\n",
       "      <td>15200</td>\n",
       "    </tr>\n",
       "    <tr>\n",
       "      <th>2</th>\n",
       "      <td>1000001</td>\n",
       "      <td>P00087842</td>\n",
       "      <td>F</td>\n",
       "      <td>0-17</td>\n",
       "      <td>10</td>\n",
       "      <td>A</td>\n",
       "      <td>2</td>\n",
       "      <td>0</td>\n",
       "      <td>12</td>\n",
       "      <td>1422</td>\n",
       "    </tr>\n",
       "    <tr>\n",
       "      <th>3</th>\n",
       "      <td>1000001</td>\n",
       "      <td>P00085442</td>\n",
       "      <td>F</td>\n",
       "      <td>0-17</td>\n",
       "      <td>10</td>\n",
       "      <td>A</td>\n",
       "      <td>2</td>\n",
       "      <td>0</td>\n",
       "      <td>12</td>\n",
       "      <td>1057</td>\n",
       "    </tr>\n",
       "  </tbody>\n",
       "</table>\n",
       "</div>"
      ],
      "text/plain": [
       "   User_ID Product_ID Gender   Age  Occupation City_Category  \\\n",
       "0  1000001  P00069042      F  0-17          10             A   \n",
       "1  1000001  P00248942      F  0-17          10             A   \n",
       "2  1000001  P00087842      F  0-17          10             A   \n",
       "3  1000001  P00085442      F  0-17          10             A   \n",
       "\n",
       "  Stay_In_Current_City_Years  Marital_Status  Product_Category  Purchase  \n",
       "0                          2               0                 3      8370  \n",
       "1                          2               0                 1     15200  \n",
       "2                          2               0                12      1422  \n",
       "3                          2               0                12      1057  "
      ]
     },
     "execution_count": 35,
     "metadata": {},
     "output_type": "execute_result"
    }
   ],
   "source": [
    "df.head(4)"
   ]
  },
  {
   "cell_type": "code",
   "execution_count": 37,
   "id": "eec70c80",
   "metadata": {},
   "outputs": [
    {
     "data": {
      "text/plain": [
       "P00265242    1880\n",
       "P00025442    1615\n",
       "P00110742    1612\n",
       "P00112142    1562\n",
       "P00057642    1470\n",
       "             ... \n",
       "P00063642       1\n",
       "P00077242       1\n",
       "P00315242       1\n",
       "P00339142       1\n",
       "P00287042       1\n",
       "Name: Product_ID, Length: 3631, dtype: int64"
      ]
     },
     "execution_count": 37,
     "metadata": {},
     "output_type": "execute_result"
    }
   ],
   "source": [
    "df['Product_ID'].value_counts()"
   ]
  },
  {
   "cell_type": "code",
   "execution_count": 38,
   "id": "30e123c0",
   "metadata": {},
   "outputs": [
    {
     "data": {
      "text/plain": [
       "1001680    1026\n",
       "1004277     979\n",
       "1001941     898\n",
       "1001181     862\n",
       "1000889     823\n",
       "           ... \n",
       "1005391       7\n",
       "1002690       7\n",
       "1002111       7\n",
       "1005608       7\n",
       "1000708       6\n",
       "Name: User_ID, Length: 5891, dtype: int64"
      ]
     },
     "execution_count": 38,
     "metadata": {},
     "output_type": "execute_result"
    }
   ],
   "source": [
    "df['User_ID'].value_counts()"
   ]
  },
  {
   "cell_type": "code",
   "execution_count": 41,
   "id": "ebc1b38f",
   "metadata": {},
   "outputs": [
    {
     "data": {
      "text/plain": [
       "False    548188\n",
       "True       1880\n",
       "Name: Product_ID, dtype: int64"
      ]
     },
     "execution_count": 41,
     "metadata": {},
     "output_type": "execute_result"
    }
   ],
   "source": [
    "(df['Product_ID'] == 'P00265242').value_counts()"
   ]
  },
  {
   "cell_type": "code",
   "execution_count": 44,
   "id": "6741dcbe",
   "metadata": {},
   "outputs": [
    {
     "data": {
      "text/plain": [
       "False    549560\n",
       "True        508\n",
       "dtype: int64"
      ]
     },
     "execution_count": 44,
     "metadata": {},
     "output_type": "execute_result"
    }
   ],
   "source": [
    "((df['Product_ID'] == 'P00265242') & (df['Gender'] == 'F')).value_counts()"
   ]
  },
  {
   "cell_type": "code",
   "execution_count": 45,
   "id": "43427372",
   "metadata": {},
   "outputs": [
    {
     "data": {
      "text/plain": [
       "False    548696\n",
       "True       1372\n",
       "dtype: int64"
      ]
     },
     "execution_count": 45,
     "metadata": {},
     "output_type": "execute_result"
    }
   ],
   "source": [
    "((df['Product_ID'] == 'P00265242') & (df['Gender'] == 'M')).value_counts()"
   ]
  },
  {
   "cell_type": "markdown",
   "id": "fc65942c",
   "metadata": {},
   "source": [
    "#### Confidence interval of purchase having product id = P00265242 and Gender = 'Male'"
   ]
  },
  {
   "cell_type": "code",
   "execution_count": 48,
   "id": "782531f3",
   "metadata": {},
   "outputs": [],
   "source": [
    "#Let's create r=1000 bootstrap samples, and let each bootstrap sample be of size=1000\n",
    "r = 1000\n",
    "data = df[(df['Product_ID'] == 'P00265242') & (df['Gender'] == 'M')]['Purchase']\n",
    "size = 1000\n",
    "bs_99p = np.empty(r)\n",
    "\n",
    "for i in range(r):\n",
    "    bs_sample = np.random.choice(data, size=size)\n",
    "    bs_99p[i] = np.percentile(bs_sample,99)"
   ]
  },
  {
   "cell_type": "code",
   "execution_count": 49,
   "id": "faad807b",
   "metadata": {},
   "outputs": [
    {
     "data": {
      "text/plain": [
       "1000"
      ]
     },
     "execution_count": 49,
     "metadata": {},
     "output_type": "execute_result"
    }
   ],
   "source": [
    "len(bs_99p)"
   ]
  },
  {
   "cell_type": "code",
   "execution_count": 50,
   "id": "8952e39e",
   "metadata": {},
   "outputs": [
    {
     "data": {
      "text/plain": [
       "array([8903.  , 8905.  , 8899.01, 8901.01, 8903.  , 8904.01, 8905.  ,\n",
       "       8900.01, 8903.01, 8903.01, 8903.  , 8903.  , 8903.01, 8901.  ,\n",
       "       8900.  , 8903.  , 8901.  , 8903.01, 8904.  , 8897.02, 8900.  ,\n",
       "       8900.01, 8902.01, 8903.  , 8904.  , 8901.01, 8902.01, 8904.  ,\n",
       "       8901.01, 8900.01, 8904.01, 8901.02, 8903.  , 8900.  , 8901.02,\n",
       "       8902.01, 8903.  , 8904.  , 8901.  , 8904.  , 8904.01, 8905.  ,\n",
       "       8898.01, 8905.  , 8905.  , 8901.01, 8904.  , 8900.  , 8900.  ,\n",
       "       8901.  , 8903.  , 8901.  , 8900.  , 8902.01, 8901.  , 8903.  ,\n",
       "       8902.01, 8898.02, 8904.01, 8903.  , 8902.  , 8901.  , 8898.  ,\n",
       "       8904.01, 8903.  , 8901.  , 8901.  , 8902.  , 8903.  , 8900.01,\n",
       "       8902.01, 8901.  , 8904.01, 8904.  , 8901.  , 8904.  , 8904.  ,\n",
       "       8903.  , 8902.  , 8901.  , 8902.01, 8903.01, 8901.01, 8903.  ,\n",
       "       8904.  , 8902.01, 8900.01, 8903.01, 8903.  , 8902.01, 8905.  ,\n",
       "       8901.  , 8903.01, 8904.01, 8901.  , 8902.  , 8904.01, 8899.  ,\n",
       "       8904.  , 8901.02, 8905.  , 8903.  , 8898.01, 8904.  , 8900.01,\n",
       "       8900.01, 8904.  , 8901.01, 8903.  , 8903.  , 8904.01, 8900.  ,\n",
       "       8903.  , 8900.  , 8903.  , 8903.  , 8901.  , 8903.01, 8900.03,\n",
       "       8898.02, 8901.  , 8903.01, 8903.  , 8900.01, 8904.  , 8901.01,\n",
       "       8903.  , 8902.  , 8902.01, 8901.  , 8904.  , 8903.  , 8897.  ,\n",
       "       8898.  , 8901.  , 8898.01, 8901.02, 8905.  , 8903.01, 8903.01,\n",
       "       8903.01, 8904.01, 8902.01, 8903.01, 8902.01, 8901.  , 8900.03,\n",
       "       8903.  , 8905.  , 8901.  , 8901.  , 8901.01, 8900.01, 8900.  ,\n",
       "       8900.02, 8898.  , 8903.  , 8903.01, 8901.01, 8903.  , 8902.01,\n",
       "       8900.  , 8901.02, 8903.  , 8903.  , 8900.01, 8905.  , 8904.  ,\n",
       "       8901.  , 8903.  , 8904.01, 8901.  , 8903.  , 8899.04, 8905.  ,\n",
       "       8905.  , 8903.01, 8901.  , 8901.02, 8899.01, 8903.01, 8901.01,\n",
       "       8902.  , 8903.  , 8903.  , 8903.  , 8904.  , 8904.  , 8898.  ,\n",
       "       8898.  , 8900.01, 8901.  , 8903.  , 8905.  , 8901.  , 8900.  ,\n",
       "       8900.01, 8905.  , 8903.  , 8900.  , 8903.01, 8904.  , 8902.01,\n",
       "       8898.  , 8903.  , 8903.02, 8902.02, 8904.  , 8900.01, 8903.  ,\n",
       "       8898.  , 8903.  , 8901.02, 8900.03, 8900.01, 8899.  , 8904.  ,\n",
       "       8901.02, 8903.  , 8900.  , 8903.01, 8904.  , 8898.01, 8904.  ,\n",
       "       8901.02, 8900.01, 8903.  , 8904.  , 8903.01, 8901.  , 8905.  ,\n",
       "       8903.  , 8901.02, 8901.  , 8900.  , 8904.01, 8905.  , 8900.01,\n",
       "       8900.03, 8900.  , 8903.  , 8904.  , 8902.  , 8904.01, 8900.01,\n",
       "       8903.  , 8900.01, 8903.  , 8904.  , 8903.  , 8901.01, 8901.02,\n",
       "       8905.  , 8904.  , 8904.  , 8901.  , 8903.  , 8902.01, 8905.  ,\n",
       "       8900.01, 8905.  , 8902.  , 8903.01, 8903.01, 8905.  , 8903.02,\n",
       "       8903.  , 8903.  , 8900.  , 8899.01, 8901.  , 8903.  , 8904.  ,\n",
       "       8899.01, 8903.  , 8903.  , 8901.  , 8903.01, 8901.  , 8903.01,\n",
       "       8904.  , 8902.  , 8903.  , 8905.  , 8903.  , 8905.  , 8904.01,\n",
       "       8904.  , 8901.03, 8898.02, 8900.  , 8901.01, 8904.  , 8906.  ,\n",
       "       8903.01, 8903.  , 8903.  , 8903.  , 8900.  , 8903.01, 8902.01,\n",
       "       8901.01, 8898.  , 8902.02, 8904.01, 8905.  , 8903.01, 8901.  ,\n",
       "       8900.01, 8901.  , 8904.01, 8904.01, 8898.02, 8901.01, 8904.  ,\n",
       "       8905.  , 8901.  , 8903.  , 8900.01, 8903.  , 8903.  , 8903.01,\n",
       "       8904.  , 8905.  , 8903.  , 8901.01, 8903.01, 8901.  , 8903.01,\n",
       "       8903.01, 8901.02, 8903.  , 8902.01, 8897.  , 8900.02, 8904.  ,\n",
       "       8901.  , 8898.02, 8902.01, 8898.  , 8902.01, 8902.02, 8905.  ,\n",
       "       8900.01, 8903.01, 8903.  , 8898.  , 8901.02, 8901.  , 8904.  ,\n",
       "       8903.  , 8901.  , 8903.  , 8900.  , 8901.01, 8903.  , 8902.01,\n",
       "       8901.  , 8904.01, 8904.  , 8903.  , 8901.03, 8900.01, 8902.  ,\n",
       "       8901.01, 8903.  , 8901.  , 8905.  , 8898.01, 8900.01, 8903.  ,\n",
       "       8903.01, 8905.01, 8903.  , 8900.01, 8904.01, 8903.  , 8905.  ,\n",
       "       8903.02, 8901.  , 8900.  , 8903.01, 8904.  , 8901.02, 8905.  ,\n",
       "       8903.  , 8900.  , 8901.  , 8903.  , 8902.  , 8903.01, 8905.  ,\n",
       "       8902.01, 8904.  , 8904.01, 8902.01, 8906.  , 8904.  , 8904.  ,\n",
       "       8900.01, 8901.  , 8903.01, 8903.01, 8903.  , 8902.01, 8900.01,\n",
       "       8904.  , 8898.01, 8898.01, 8898.  , 8901.  , 8904.  , 8900.01,\n",
       "       8901.  , 8900.  , 8901.02, 8902.02, 8904.  , 8904.  , 8901.  ,\n",
       "       8903.01, 8902.01, 8901.  , 8904.01, 8902.01, 8904.01, 8901.02,\n",
       "       8904.01, 8900.  , 8904.  , 8901.02, 8900.01, 8900.  , 8901.  ,\n",
       "       8904.  , 8897.01, 8901.01, 8904.  , 8904.  , 8902.01, 8903.  ,\n",
       "       8904.  , 8903.  , 8900.  , 8901.  , 8900.01, 8904.01, 8904.  ,\n",
       "       8904.  , 8900.  , 8900.  , 8900.03, 8903.  , 8903.01, 8904.  ,\n",
       "       8902.01, 8903.  , 8898.03, 8903.01, 8905.  , 8903.  , 8904.01,\n",
       "       8903.01, 8901.  , 8904.01, 8904.  , 8898.  , 8904.  , 8901.  ,\n",
       "       8904.  , 8904.  , 8903.01, 8901.02, 8904.  , 8901.  , 8903.01,\n",
       "       8904.  , 8905.01, 8902.01, 8903.01, 8901.02, 8904.  , 8900.  ,\n",
       "       8900.01, 8900.  , 8901.  , 8898.01, 8903.  , 8902.  , 8904.01,\n",
       "       8898.  , 8900.01, 8899.02, 8904.  , 8901.  , 8904.01, 8903.01,\n",
       "       8904.01, 8900.  , 8904.  , 8898.  , 8903.  , 8901.03, 8901.  ,\n",
       "       8898.02, 8905.  , 8899.01, 8902.01, 8900.  , 8900.01, 8903.01,\n",
       "       8901.01, 8901.01, 8902.01, 8902.01, 8901.  , 8905.01, 8901.02,\n",
       "       8903.  , 8903.  , 8899.01, 8900.  , 8901.  , 8900.01, 8900.  ,\n",
       "       8904.01, 8902.01, 8904.  , 8901.01, 8903.01, 8904.  , 8901.02,\n",
       "       8905.  , 8900.  , 8903.  , 8902.01, 8904.  , 8904.01, 8901.02,\n",
       "       8900.  , 8902.  , 8902.01, 8903.  , 8901.01, 8904.  , 8905.  ,\n",
       "       8901.01, 8900.  , 8898.02, 8900.01, 8904.  , 8901.  , 8903.  ,\n",
       "       8900.  , 8905.  , 8903.01, 8902.  , 8904.  , 8902.01, 8905.  ,\n",
       "       8900.01, 8901.01, 8898.01, 8904.  , 8903.  , 8903.  , 8901.01,\n",
       "       8903.  , 8903.01, 8903.01, 8903.  , 8903.01, 8902.01, 8904.  ,\n",
       "       8903.  , 8901.02, 8900.01, 8903.01, 8899.01, 8903.  , 8901.  ,\n",
       "       8900.01, 8903.  , 8904.  , 8901.  , 8904.01, 8902.01, 8902.  ,\n",
       "       8901.  , 8903.01, 8901.02, 8900.01, 8903.  , 8903.  , 8901.01,\n",
       "       8904.  , 8901.  , 8901.01, 8903.  , 8901.  , 8903.  , 8902.  ,\n",
       "       8903.01, 8903.  , 8904.  , 8903.  , 8903.  , 8900.01, 8902.01,\n",
       "       8901.01, 8900.01, 8903.01, 8903.01, 8903.  , 8903.01, 8900.  ,\n",
       "       8905.  , 8903.  , 8900.01, 8904.  , 8904.  , 8903.  , 8902.01,\n",
       "       8898.02, 8903.  , 8901.01, 8901.01, 8904.  , 8904.  , 8898.  ,\n",
       "       8904.  , 8901.  , 8902.  , 8902.01, 8904.  , 8901.03, 8903.01,\n",
       "       8904.01, 8904.  , 8903.  , 8902.  , 8902.01, 8903.  , 8904.  ,\n",
       "       8900.  , 8901.  , 8904.  , 8902.  , 8901.01, 8901.01, 8900.  ,\n",
       "       8901.02, 8902.  , 8903.  , 8901.  , 8902.01, 8904.  , 8903.01,\n",
       "       8900.  , 8901.02, 8903.  , 8904.01, 8904.  , 8899.02, 8901.02,\n",
       "       8901.02, 8900.01, 8900.  , 8904.  , 8901.02, 8900.01, 8900.01,\n",
       "       8901.02, 8899.01, 8903.  , 8903.02, 8905.  , 8904.  , 8901.02,\n",
       "       8900.  , 8904.01, 8901.01, 8904.  , 8905.  , 8903.  , 8903.01,\n",
       "       8901.02, 8901.  , 8905.  , 8899.  , 8901.01, 8901.02, 8901.  ,\n",
       "       8903.01, 8903.  , 8903.  , 8903.  , 8903.  , 8900.01, 8901.02,\n",
       "       8903.  , 8903.  , 8903.01, 8903.  , 8902.01, 8904.  , 8898.01,\n",
       "       8900.04, 8904.  , 8903.  , 8904.  , 8904.  , 8901.01, 8904.  ,\n",
       "       8901.  , 8903.01, 8901.02, 8904.  , 8903.01, 8898.02, 8901.  ,\n",
       "       8904.01, 8900.  , 8905.  , 8903.  , 8898.02, 8902.  , 8900.  ,\n",
       "       8903.  , 8903.  , 8904.  , 8903.  , 8900.  , 8898.  , 8905.  ,\n",
       "       8904.01, 8904.  , 8903.01, 8903.01, 8903.  , 8903.  , 8901.02,\n",
       "       8905.  , 8903.  , 8901.  , 8900.01, 8904.  , 8904.  , 8904.  ,\n",
       "       8900.  , 8903.  , 8904.01, 8905.  , 8900.  , 8902.  , 8898.01,\n",
       "       8904.01, 8904.  , 8900.  , 8903.01, 8903.01, 8904.  , 8900.  ,\n",
       "       8901.  , 8904.  , 8901.  , 8901.02, 8898.  , 8898.02, 8901.  ,\n",
       "       8901.  , 8905.  , 8905.  , 8901.  , 8900.01, 8901.  , 8903.  ,\n",
       "       8904.  , 8905.  , 8904.  , 8901.02, 8901.  , 8901.  , 8901.  ,\n",
       "       8902.01, 8902.01, 8901.  , 8901.  , 8904.01, 8903.  , 8905.  ,\n",
       "       8901.01, 8904.01, 8900.  , 8902.  , 8901.  , 8901.  , 8903.01,\n",
       "       8901.  , 8903.  , 8902.01, 8900.01, 8900.  , 8901.02, 8903.01,\n",
       "       8904.  , 8903.  , 8900.02, 8901.  , 8902.01, 8903.  , 8903.  ,\n",
       "       8903.01, 8901.01, 8901.  , 8904.  , 8903.01, 8904.  , 8903.  ,\n",
       "       8903.02, 8902.01, 8900.01, 8901.01, 8901.01, 8904.  , 8905.  ,\n",
       "       8900.  , 8898.02, 8901.02, 8902.02, 8901.  , 8905.  , 8905.  ,\n",
       "       8903.  , 8903.01, 8901.01, 8903.  , 8903.  , 8900.  , 8900.  ,\n",
       "       8903.01, 8903.  , 8901.  , 8903.  , 8904.  , 8900.01, 8901.01,\n",
       "       8904.  , 8904.  , 8901.  , 8898.  , 8899.01, 8904.  , 8902.  ,\n",
       "       8903.01, 8902.  , 8903.01, 8900.01, 8900.  , 8900.01, 8903.01,\n",
       "       8903.  , 8900.01, 8901.02, 8898.01, 8903.01, 8903.01, 8903.01,\n",
       "       8902.01, 8899.01, 8902.  , 8905.  , 8901.  , 8902.  , 8900.01,\n",
       "       8904.01, 8902.01, 8902.01, 8900.01, 8904.01, 8903.  , 8899.  ,\n",
       "       8904.  , 8901.01, 8904.  , 8901.02, 8900.  , 8904.01, 8904.  ,\n",
       "       8903.  , 8901.  , 8903.01, 8904.  , 8902.  , 8905.  , 8898.  ,\n",
       "       8902.01, 8900.01, 8904.01, 8902.01, 8900.  , 8899.01, 8901.01,\n",
       "       8901.  , 8901.01, 8901.01, 8903.  , 8903.  , 8900.01, 8903.01,\n",
       "       8901.  , 8900.  , 8905.  , 8901.  , 8901.  , 8901.01, 8905.  ,\n",
       "       8903.  , 8905.  , 8903.  , 8901.01, 8904.01, 8903.01, 8902.  ,\n",
       "       8901.01, 8901.  , 8900.02, 8903.  , 8902.01, 8904.  , 8903.01,\n",
       "       8901.01, 8901.  , 8902.01, 8905.  , 8900.03, 8900.01, 8903.  ,\n",
       "       8901.02, 8903.01, 8903.  , 8904.01, 8904.  , 8904.  , 8898.  ,\n",
       "       8901.02, 8903.  , 8903.01, 8901.  , 8903.01, 8901.  , 8903.  ,\n",
       "       8901.02, 8903.  , 8901.01, 8901.  , 8900.01, 8904.  , 8904.01,\n",
       "       8904.  , 8901.  , 8904.  , 8903.01, 8904.01, 8904.01, 8902.01,\n",
       "       8903.  , 8901.01, 8900.02, 8904.01, 8901.  , 8900.  , 8904.  ,\n",
       "       8905.  , 8903.01, 8903.  , 8902.01, 8904.  , 8904.01, 8905.  ,\n",
       "       8904.  , 8903.  , 8903.  , 8905.  , 8900.01, 8904.  , 8904.  ,\n",
       "       8905.  , 8904.  , 8903.  , 8900.01, 8901.  , 8900.  , 8901.  ,\n",
       "       8900.03, 8903.  , 8902.01, 8903.  , 8903.01, 8904.  ])"
      ]
     },
     "execution_count": 50,
     "metadata": {},
     "output_type": "execute_result"
    }
   ],
   "source": [
    "bs_99p"
   ]
  },
  {
   "cell_type": "code",
   "execution_count": 51,
   "id": "a53c06d7",
   "metadata": {},
   "outputs": [
    {
     "name": "stdout",
     "output_type": "stream",
     "text": [
      "8898.01\n",
      "8905.0\n"
     ]
    }
   ],
   "source": [
    "#bs_99p may or maynot be normally distributed.\n",
    "print(np.percentile(bs_99p,2.5))\n",
    "print(np.percentile(bs_99p,97.5))"
   ]
  },
  {
   "cell_type": "markdown",
   "id": "e134a128",
   "metadata": {},
   "source": [
    "#### Confidence interval of purchase having product id = P00265242 and Gender = 'female'"
   ]
  },
  {
   "cell_type": "code",
   "execution_count": 52,
   "id": "bf377e40",
   "metadata": {},
   "outputs": [],
   "source": [
    "#Let's create r=1000 bootstrap samples, and let each bootstrap sample be of size=1000\n",
    "r = 1000\n",
    "data = df[(df['Product_ID'] == 'P00265242') & (df['Gender'] == 'F')]['Purchase']\n",
    "size = 1000\n",
    "bs_99p = np.empty(r)\n",
    "\n",
    "for i in range(r):\n",
    "    bs_sample = np.random.choice(data, size=size)\n",
    "    bs_99p[i] = np.percentile(bs_sample,99)"
   ]
  },
  {
   "cell_type": "code",
   "execution_count": 53,
   "id": "3bab63a3",
   "metadata": {},
   "outputs": [
    {
     "name": "stdout",
     "output_type": "stream",
     "text": [
      "8895.01\n",
      "8900.0\n"
     ]
    }
   ],
   "source": [
    "#bs_99p may or maynot be normally distributed.\n",
    "print(np.percentile(bs_99p,2.5))\n",
    "print(np.percentile(bs_99p,97.5))"
   ]
  },
  {
   "cell_type": "markdown",
   "id": "6a66c1d3",
   "metadata": {},
   "source": [
    "#### 95% Confidence interval of purchase of Gender = 'female'"
   ]
  },
  {
   "cell_type": "code",
   "execution_count": 60,
   "id": "47060974",
   "metadata": {},
   "outputs": [],
   "source": [
    "#Let's create r=10000 bootstrap samples, and let each bootstrap sample be of size=1000\n",
    "r = 1000\n",
    "data = df[df['Gender'] == 'F']['Purchase']\n",
    "size = 1000\n",
    "bs_99p = np.empty(r)\n",
    "\n",
    "for i in range(r):\n",
    "    bs_sample = np.random.choice(data, size=size)\n",
    "    bs_99p[i] = np.percentile(bs_sample,99)"
   ]
  },
  {
   "cell_type": "code",
   "execution_count": 61,
   "id": "c8c5410b",
   "metadata": {},
   "outputs": [
    {
     "name": "stdout",
     "output_type": "stream",
     "text": [
      "20169.921749999998\n",
      "21004.429\n"
     ]
    }
   ],
   "source": [
    "#bs_99p may or maynot be normally distributed.\n",
    "print(np.percentile(bs_99p,2.5))\n",
    "print(np.percentile(bs_99p,97.5))"
   ]
  },
  {
   "cell_type": "markdown",
   "id": "ce2c0a68",
   "metadata": {},
   "source": [
    "#### 95% Confidence interval of purchase of Gender = 'Male'"
   ]
  },
  {
   "cell_type": "code",
   "execution_count": 62,
   "id": "5d718700",
   "metadata": {},
   "outputs": [],
   "source": [
    "#Let's create r=1000 bootstrap samples, and let each bootstrap sample be of size=1000\n",
    "r = 1000\n",
    "data = df[df['Gender'] == 'M']['Purchase']\n",
    "size = 1000\n",
    "bs_99p = np.empty(r)\n",
    "\n",
    "for i in range(r):\n",
    "    bs_sample = np.random.choice(data, size=size)\n",
    "    bs_99p[i] = np.percentile(bs_sample,99)"
   ]
  },
  {
   "cell_type": "code",
   "execution_count": 79,
   "id": "cb0b1e04",
   "metadata": {},
   "outputs": [
    {
     "name": "stdout",
     "output_type": "stream",
     "text": [
      "20329.092\n",
      "21310.191\n"
     ]
    }
   ],
   "source": [
    "#bs_99p may or maynot be normally distributed.\n",
    "print(np.percentile(bs_99p,2.5))\n",
    "print(np.percentile(bs_99p,97.5))"
   ]
  },
  {
   "cell_type": "markdown",
   "id": "fa68a941",
   "metadata": {},
   "source": [
    "#### Confidence interval of purchase on basis of marital status"
   ]
  },
  {
   "cell_type": "code",
   "execution_count": 67,
   "id": "cc546584",
   "metadata": {},
   "outputs": [
    {
     "data": {
      "text/plain": [
       "0    324731\n",
       "1    225337\n",
       "Name: Marital_Status, dtype: int64"
      ]
     },
     "execution_count": 67,
     "metadata": {},
     "output_type": "execute_result"
    }
   ],
   "source": [
    "df['Marital_Status'].value_counts()"
   ]
  },
  {
   "cell_type": "code",
   "execution_count": 89,
   "id": "3d959715",
   "metadata": {},
   "outputs": [],
   "source": [
    "#Let's create r=1000 bootstrap samples, and let each bootstrap sample be of size=1000\n",
    "r = 1000\n",
    "data = df[df['Marital_Status'] == 0]['Purchase']\n",
    "size = 100000\n",
    "bs_99p = np.empty(r)\n",
    "\n",
    "for i in range(r):\n",
    "    bs_sample = np.random.choice(data, size=size)\n",
    "    bs_99p[i] = np.percentile(bs_sample,99)"
   ]
  },
  {
   "cell_type": "code",
   "execution_count": 90,
   "id": "23dd773c",
   "metadata": {},
   "outputs": [
    {
     "name": "stdout",
     "output_type": "stream",
     "text": [
      "20615.009999999995\n",
      "20674.025\n"
     ]
    }
   ],
   "source": [
    "#bs_99p may or maynot be normally distributed.\n",
    "print(np.percentile(bs_99p,2.5))\n",
    "print(np.percentile(bs_99p,97.5))"
   ]
  },
  {
   "cell_type": "markdown",
   "id": "943862ea",
   "metadata": {},
   "source": [
    "#### Confidence interval of purchase on basis of marital status"
   ]
  },
  {
   "cell_type": "code",
   "execution_count": 87,
   "id": "c7c3bdeb",
   "metadata": {},
   "outputs": [],
   "source": [
    "#Let's create r=1000 bootstrap samples, and let each bootstrap sample be of size=1000\n",
    "r = 1000\n",
    "data = df[df['Marital_Status'] == 1]['Purchase']\n",
    "size = 100000\n",
    "bs_99p = np.empty(r)\n",
    "\n",
    "for i in range(r):\n",
    "    bs_sample = np.random.choice(data, size=size)\n",
    "    bs_99p[i] = np.percentile(bs_sample,99)"
   ]
  },
  {
   "cell_type": "code",
   "execution_count": 88,
   "id": "f37e6e4f",
   "metadata": {},
   "outputs": [
    {
     "name": "stdout",
     "output_type": "stream",
     "text": [
      "20660.009999999995\n",
      "20767.034749999995\n"
     ]
    }
   ],
   "source": [
    "#bs_99p may or maynot be normally distributed.\n",
    "print(np.percentile(bs_99p,2.5))\n",
    "print(np.percentile(bs_99p,97.5))"
   ]
  },
  {
   "cell_type": "code",
   "execution_count": null,
   "id": "36fca8d0",
   "metadata": {},
   "outputs": [],
   "source": []
  },
  {
   "cell_type": "markdown",
   "id": "ee09f71d",
   "metadata": {},
   "source": [
    "### Analysis on basis of Age"
   ]
  },
  {
   "cell_type": "code",
   "execution_count": 81,
   "id": "7c17f586",
   "metadata": {},
   "outputs": [
    {
     "data": {
      "text/plain": [
       "26-35    219587\n",
       "36-45    110013\n",
       "18-25     99660\n",
       "46-50     45701\n",
       "51-55     38501\n",
       "55+       21504\n",
       "0-17      15102\n",
       "Name: Age, dtype: int64"
      ]
     },
     "execution_count": 81,
     "metadata": {},
     "output_type": "execute_result"
    }
   ],
   "source": [
    "df['Age'].value_counts()"
   ]
  },
  {
   "cell_type": "markdown",
   "id": "4ea37227",
   "metadata": {},
   "source": [
    "#### Confidence interval of purchase on basis of Age = [26-35]"
   ]
  },
  {
   "cell_type": "code",
   "execution_count": 108,
   "id": "b32277b3",
   "metadata": {},
   "outputs": [],
   "source": [
    "#Let's create r=1000 bootstrap samples, and let each bootstrap sample be of size=1000\n",
    "r = 1000\n",
    "data = df[df['Age'] == '26-35']['Purchase']\n",
    "size = 100000\n",
    "bs_99p = np.empty(r)\n",
    "\n",
    "for i in range(r):\n",
    "    bs_sample = np.random.choice(data, size=size)\n",
    "    bs_99p[i] = np.percentile(bs_sample,99)"
   ]
  },
  {
   "cell_type": "code",
   "execution_count": 109,
   "id": "7490ee12",
   "metadata": {},
   "outputs": [
    {
     "name": "stdout",
     "output_type": "stream",
     "text": [
      "20605.009749999994\n",
      "20660.00025\n"
     ]
    }
   ],
   "source": [
    "#bs_99p may or maynot be normally distributed.\n",
    "print(np.percentile(bs_99p,2.5))\n",
    "print(np.percentile(bs_99p,97.5))"
   ]
  },
  {
   "cell_type": "markdown",
   "id": "416122ca",
   "metadata": {},
   "source": [
    "#### Confidence interval of purchase on basis of Age = [0-17]"
   ]
  },
  {
   "cell_type": "code",
   "execution_count": 113,
   "id": "284727fc",
   "metadata": {},
   "outputs": [],
   "source": [
    "#Let's create r=1000 bootstrap samples, and let each bootstrap sample be of size=1000\n",
    "r = 1000\n",
    "data = df[df['Age'] == '0-17']['Purchase']\n",
    "size = 10000\n",
    "bs_99p = np.empty(r)\n",
    "\n",
    "for i in range(r):\n",
    "    bs_sample = np.random.choice(data, size=size)\n",
    "    bs_99p[i] = np.percentile(bs_sample,99)"
   ]
  },
  {
   "cell_type": "code",
   "execution_count": 114,
   "id": "7736c901",
   "metadata": {},
   "outputs": [
    {
     "name": "stdout",
     "output_type": "stream",
     "text": [
      "20507.938000000002\n",
      "20792.151750000005\n"
     ]
    }
   ],
   "source": [
    "#bs_99p may or maynot be normally distributed.\n",
    "print(np.percentile(bs_99p,2.5))\n",
    "print(np.percentile(bs_99p,97.5))"
   ]
  },
  {
   "cell_type": "code",
   "execution_count": 115,
   "id": "086863d3",
   "metadata": {},
   "outputs": [
    {
     "data": {
      "text/plain": [
       "8933.464640444974"
      ]
     },
     "execution_count": 115,
     "metadata": {},
     "output_type": "execute_result"
    }
   ],
   "source": [
    "df[df['Age'] == '0-17']['Purchase'].mean()"
   ]
  },
  {
   "cell_type": "code",
   "execution_count": null,
   "id": "28a6e046",
   "metadata": {},
   "outputs": [],
   "source": []
  }
 ],
 "metadata": {
  "kernelspec": {
   "display_name": "Python 3",
   "language": "python",
   "name": "python3"
  },
  "language_info": {
   "codemirror_mode": {
    "name": "ipython",
    "version": 3
   },
   "file_extension": ".py",
   "mimetype": "text/x-python",
   "name": "python",
   "nbconvert_exporter": "python",
   "pygments_lexer": "ipython3",
   "version": "3.8.5"
  }
 },
 "nbformat": 4,
 "nbformat_minor": 5
}
